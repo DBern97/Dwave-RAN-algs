{
 "cells": [
  {
   "cell_type": "code",
   "execution_count": 36,
   "id": "c4145f24",
   "metadata": {},
   "outputs": [],
   "source": [
    "import numpy as np\n",
    "import sympy as sp\n",
    "import matplotlib.pyplot as plt\n",
    "from scipy.linalg import dft"
   ]
  },
  {
   "cell_type": "code",
   "execution_count": 37,
   "id": "77e9080c",
   "metadata": {},
   "outputs": [],
   "source": [
    "from Radio import *"
   ]
  },
  {
   "cell_type": "code",
   "execution_count": 38,
   "id": "7ffcd896",
   "metadata": {},
   "outputs": [
    {
     "data": {
      "text/latex": [
       "$\\displaystyle \\left[\\begin{matrix}0.62 + 0.56 i & 0.56 + 0.71 i\\\\0.66 + 0.95 i & 1.29 + 2.34 i\\end{matrix}\\right]$"
      ],
      "text/plain": [
       "Matrix([\n",
       "[0.62 + 0.56*I, 0.56 + 0.71*I],\n",
       "[0.66 + 0.95*I, 1.29 + 2.34*I]])"
      ]
     },
     "execution_count": 38,
     "metadata": {},
     "output_type": "execute_result"
    }
   ],
   "source": [
    "H = np.around(Channel_Rayleigh(2,2,), decimals=2)\n",
    "sp.Matrix(H)"
   ]
  },
  {
   "cell_type": "code",
   "execution_count": 47,
   "id": "793ede7b",
   "metadata": {},
   "outputs": [],
   "source": [
    "def plot_complex_number_geometric_representation(im_num,x_min,x_max,y_min,y_max, color):\n",
    "\n",
    "    fig = plt.figure()\n",
    "\n",
    "    ax = plt.gca()\n",
    "\n",
    "    ax.spines['left'].set_position('zero')\n",
    "    ax.spines['right'].set_color('none')\n",
    "    ax.spines['bottom'].set_position('zero')\n",
    "    ax.spines['top'].set_color('none')\n",
    "    \n",
    "    k=0\n",
    "    for z in im_num:\n",
    "        a = [0.0,0.0]\n",
    "        b = [z.real,z.imag]\n",
    "\n",
    "        head_length = 0.2\n",
    "\n",
    "        dx = b[0] - a[0]\n",
    "        dy = b[1] - a[1]\n",
    "\n",
    "        vec_ab = [dx,dy]\n",
    "\n",
    "        vec_ab_magnitude = np.sqrt(dx**2+dy**2)\n",
    "\n",
    "        dx = dx / vec_ab_magnitude\n",
    "        dy = dy / vec_ab_magnitude\n",
    "\n",
    "        vec_ab_magnitude = vec_ab_magnitude - head_length\n",
    "\n",
    "#         ax = plt.axes()\n",
    "\n",
    "        ax.arrow(a[0], a[1], vec_ab_magnitude*dx, vec_ab_magnitude*dy, \n",
    "                 head_width=head_length, head_length=head_length, fc=color, ec=color)\n",
    "\n",
    "        plt.scatter(a[0],a[1],color='black',s=2)\n",
    "        plt.scatter(b[0],b[1],color='black',s=2)\n",
    "\n",
    "        #ax.annotate('A', (a[0]-0.4,a[1]),fontsize=14)\n",
    "        ax.annotate('z{}'.format(k), (b[0]+0.3,b[1]),fontsize=10)\n",
    "        k = k+1\n",
    "\n",
    "    ax.text(0, y_max+0.5, r'Img', fontsize=10, horizontalalignment='center')\n",
    "    ax.text(x_max+0.5, 0, r'Real', fontsize=10, verticalalignment='center')\n",
    "\n",
    "    plt.xlim(x_min,x_max)\n",
    "    plt.ylim(y_min,y_max)\n",
    "\n",
    "    plt.grid(True,linestyle='--')\n",
    "\n",
    "#     plt.savefig('plot_complex_number_geometric_representation_01.png', bbox_inches='tight')\n",
    "#     plt.show()\n",
    "#     plt.close()"
   ]
  },
  {
   "cell_type": "code",
   "execution_count": 56,
   "id": "a02626c5",
   "metadata": {
    "scrolled": true
   },
   "outputs": [],
   "source": [
    "# plot_complex_number_geometric_representation(s, -12,12,-12,12, 'b')"
   ]
  },
  {
   "cell_type": "code",
   "execution_count": 88,
   "id": "fc6cfb64",
   "metadata": {},
   "outputs": [
    {
     "data": {
      "text/plain": [
       "array([1.-3.j, 1.-1.j])"
      ]
     },
     "execution_count": 88,
     "metadata": {},
     "output_type": "execute_result"
    }
   ],
   "source": [
    "s = Create_S(2, 16)\n",
    "s"
   ]
  },
  {
   "cell_type": "code",
   "execution_count": 91,
   "id": "78e25f0b",
   "metadata": {},
   "outputs": [
    {
     "data": {
      "text/plain": [
       "(array([1., 0., 0., 0., 0., 0., 0., 0., 0., 1.]),\n",
       " array([1.89254688, 1.93891164, 1.9852764 , 2.03164116, 2.07800592,\n",
       "        2.12437069, 2.17073545, 2.21710021, 2.26346497, 2.30982973,\n",
       "        2.35619449]),\n",
       " <BarContainer object of 10 artists>)"
      ]
     },
     "execution_count": 91,
     "metadata": {},
     "output_type": "execute_result"
    },
    {
     "data": {
      "image/png": "[encoded data removed]",
      "text/plain": [
       "<Figure size 432x288 with 1 Axes>"
      ]
     },
     "metadata": {
      "needs_background": "light"
     },
     "output_type": "display_data"
    }
   ],
   "source": [
    "plt.hist(np.mod(np.angle(s), np.pi))"
   ]
  },
  {
   "cell_type": "code",
   "execution_count": 92,
   "id": "68a086c3",
   "metadata": {},
   "outputs": [
    {
     "data": {
      "text/latex": [
       "$\\displaystyle \\left[\\begin{matrix}0.7071 & 0.7071\\\\0.7071 & -0.7071\\end{matrix}\\right]$"
      ],
      "text/plain": [
       "Matrix([\n",
       "[0.7071,  0.7071],\n",
       "[0.7071, -0.7071]])"
      ]
     },
     "execution_count": 92,
     "metadata": {},
     "output_type": "execute_result"
    }
   ],
   "source": [
    "F = np.around(dft(len(s), scale='sqrtn'), decimals=4) #TODO: handle accuracy as a parameter when calling the functions\n",
    "F = F.T.conj()\n",
    "sp.Matrix(F)"
   ]
  },
  {
   "cell_type": "code",
   "execution_count": 93,
   "id": "2fb2655f",
   "metadata": {},
   "outputs": [
    {
     "data": {
      "image/png": "[encoded data removed]",
      "text/plain": [
       "<Figure size 432x288 with 1 Axes>"
      ]
     },
     "metadata": {
      "needs_background": "light"
     },
     "output_type": "display_data"
    },
    {
     "data": {
      "image/png": "[encoded data removed]",
      "text/plain": [
       "<Figure size 432x288 with 1 Axes>"
      ]
     },
     "metadata": {
      "needs_background": "light"
     },
     "output_type": "display_data"
    }
   ],
   "source": [
    "plot_complex_number_geometric_representation(s, -6,6,-6,6, 'b')\n",
    "plot_complex_number_geometric_representation(F@s, -6,6,-6,6, 'r')\n",
    "plt.show()"
   ]
  },
  {
   "cell_type": "code",
   "execution_count": 160,
   "id": "3768c9c4",
   "metadata": {},
   "outputs": [
    {
     "data": {
      "image/png": "[encoded data removed]",
      "text/plain": [
       "<Figure size 432x288 with 1 Axes>"
      ]
     },
     "metadata": {
      "needs_background": "light"
     },
     "output_type": "display_data"
    }
   ],
   "source": [
    "t = np.linspace(0, 10, 1000)\n",
    "f = np.pi\n",
    "plt.plot(t, -np.sin(3*f*t), 'b')\n",
    "plt.plot(t, np.sin(2*f*t), 'r')\n",
    "plt.show()"
   ]
  },
  {
   "cell_type": "code",
   "execution_count": 158,
   "id": "ad06fe5e",
   "metadata": {},
   "outputs": [
    {
     "data": {
      "image/png": "[encoded data removed]",
      "text/plain": [
       "<Figure size 432x288 with 1 Axes>"
      ]
     },
     "metadata": {
      "needs_background": "light"
     },
     "output_type": "display_data"
    }
   ],
   "source": [
    "fft = np.fft.fftshift(np.fft.fft(np.cos(7*f*t)+7*np.sin(11*f*t), norm='ortho'))/16\n",
    "fVals=np.arange(start = -len(fft)/2,stop = len(fft)/2)/(len(fft))\n",
    "plt.plot(fVals, np.abs(fft))\n",
    "# plt.xlim(-.1,.1)\n",
    "# plt.ylim(y_min,y_max)\n",
    "plt.show()"
   ]
  },
  {
   "cell_type": "code",
   "execution_count": 165,
   "id": "67cc6dac",
   "metadata": {},
   "outputs": [
    {
     "data": {
      "text/plain": [
       "array([ 1.-3.j, -2.-3.j, -1.-4.j,  0.+0.j])"
      ]
     },
     "execution_count": 165,
     "metadata": {},
     "output_type": "execute_result"
    }
   ],
   "source": [
    "length = 4\n",
    "real = np.array([random.randrange(-4,4, 1) for p in range(0,length)])\n",
    "im = np.array([random.randrange(-4,4, 1) for p in range(0,length)])\n",
    "x = real + im*1J\n",
    "x"
   ]
  },
  {
   "cell_type": "code",
   "execution_count": 216,
   "id": "d78fb4c8",
   "metadata": {},
   "outputs": [
    {
     "data": {
      "text/plain": [
       "6.324555320336759"
      ]
     },
     "execution_count": 216,
     "metadata": {},
     "output_type": "execute_result"
    }
   ],
   "source": [
    "np.linalg.norm(x)"
   ]
  },
  {
   "cell_type": "code",
   "execution_count": 167,
   "id": "745db33a",
   "metadata": {},
   "outputs": [
    {
     "data": {
      "text/plain": [
       "array([[2.01+0.39j, 1.56+1.28j, 0.86+1.02j, 0.9 +1.41j],\n",
       "       [0.84+1.12j, 1.23+1.88j, 2.78+1.09j, 1.22+4.11j],\n",
       "       [2.97+1.57j, 0.58+1.05j, 0.19+1.57j, 1.65+2.06j],\n",
       "       [2.1 +0.43j, 0.67+1.3j , 1.65+1.98j, 1.46+1.8j ]])"
      ]
     },
     "execution_count": 167,
     "metadata": {},
     "output_type": "execute_result"
    }
   ],
   "source": [
    "H = np.around(Channel_Rayleigh(4,4,), decimals=2)\n",
    "H"
   ]
  },
  {
   "cell_type": "code",
   "execution_count": 176,
   "id": "63d668e3",
   "metadata": {},
   "outputs": [
    {
     "data": {
      "text/plain": [
       "array([ 7.12-17.34j,  8.96-21.06j, 15.76-13.51j, 12.22-19.06j])"
      ]
     },
     "execution_count": 176,
     "metadata": {},
     "output_type": "execute_result"
    }
   ],
   "source": [
    "H@x"
   ]
  },
  {
   "cell_type": "code",
   "execution_count": 189,
   "id": "2de4cc1f",
   "metadata": {},
   "outputs": [
    {
     "data": {
      "text/plain": [
       "array([22.03-35.485j, -3.32 -3.545j,  0.85 +4.635j, -5.32 -0.285j])"
      ]
     },
     "execution_count": 189,
     "metadata": {},
     "output_type": "execute_result"
    }
   ],
   "source": [
    "np.fft.ifft(H@x, norm='ortho')"
   ]
  },
  {
   "cell_type": "code",
   "execution_count": 175,
   "id": "1d1e6929",
   "metadata": {},
   "outputs": [
    {
     "data": {
      "text/plain": [
       "array([-1. -5.j ,  2.5-0.5j,  1. -2.j , -0.5+1.5j])"
      ]
     },
     "execution_count": 175,
     "metadata": {},
     "output_type": "execute_result"
    }
   ],
   "source": [
    "yx = np.fft.ifft(x, norm='ortho')\n",
    "yx"
   ]
  },
  {
   "cell_type": "code",
   "execution_count": 217,
   "id": "76185cfe",
   "metadata": {},
   "outputs": [
    {
     "data": {
      "text/plain": [
       "6.324555320336759"
      ]
     },
     "execution_count": 217,
     "metadata": {},
     "output_type": "execute_result"
    }
   ],
   "source": [
    "np.linalg.norm(yx)"
   ]
  },
  {
   "cell_type": "code",
   "execution_count": 199,
   "id": "b7f5ab6e",
   "metadata": {},
   "outputs": [
    {
     "data": {
      "text/plain": [
       "array([11.34 -2.81j , 29.715-8.755j,  8.75 -2.92j , 14.23 -2.08j ])"
      ]
     },
     "execution_count": 199,
     "metadata": {},
     "output_type": "execute_result"
    }
   ],
   "source": [
    "test = np.asarray([np.convolve(H[l,:], yx, 'valid') for l in range(len(H[0,:]))]).flatten()\n",
    "test"
   ]
  },
  {
   "cell_type": "code",
   "execution_count": 200,
   "id": "50a524a7",
   "metadata": {},
   "outputs": [
    {
     "data": {
      "text/plain": [
       "array([ 32.0175-8.2825j,  -2.0425-7.6875j, -11.9275+2.5525j,\n",
       "         4.6325+7.7975j])"
      ]
     },
     "execution_count": 200,
     "metadata": {},
     "output_type": "execute_result"
    }
   ],
   "source": [
    "np.fft.fft(test, norm='ortho')"
   ]
  },
  {
   "cell_type": "code",
   "execution_count": 209,
   "id": "b1493667",
   "metadata": {},
   "outputs": [
    {
     "data": {
      "text/plain": [
       "array([[ -0.06 -10.44j ,  10.06  -9.11j ,  11.57  -6.53j ,\n",
       "         11.34  -2.81j ,   3.155 +4.075j,   1.76  +0.39j ,\n",
       "         -2.565 +0.645j],\n",
       "       [  4.7  -15.76j ,  20.89 -14.76j ,  21.335-17.995j,\n",
       "         41.055-11.565j,   9.785+10.175j,   8.175 +5.685j,\n",
       "         -9.34  +0.42j ],\n",
       "       [  9.64 -21.74j ,  23.71  -7.16j ,  25.51 -16.02j ,\n",
       "         38.465-11.675j,  13.25 +11.96j ,   9.735 +3.555j,\n",
       "        -10.69  +1.22j ],\n",
       "       [  4.93 -27.35j ,  24.175 -6.135j,  29.28 -15.64j ,\n",
       "         22.98  -5.j   ,  14.495 +8.665j,   4.585 -1.375j,\n",
       "         -7.345 +2.735j],\n",
       "       [  0.05 -10.93j ,  11.295 -4.625j,  13.535-11.085j,\n",
       "         14.23  -2.08j ,   7.875 +2.805j,   1.265 +0.365j,\n",
       "         -3.43  +1.29j ]])"
      ]
     },
     "execution_count": 209,
     "metadata": {},
     "output_type": "execute_result"
    }
   ],
   "source": [
    "import scipy as sc\n",
    "from scipy import signal\n",
    "\n",
    "signal.convolve2d(H, )"
   ]
  },
  {
   "cell_type": "code",
   "execution_count": 215,
   "id": "40219741",
   "metadata": {},
   "outputs": [
    {
     "data": {
      "image/png": "[encoded data removed]",
      "text/plain": [
       "<Figure size 432x288 with 1 Axes>"
      ]
     },
     "metadata": {
      "needs_background": "light"
     },
     "output_type": "display_data"
    }
   ],
   "source": [
    "\n",
    "r = np.arange(0, 2, 0.01)\n",
    "theta = 2 * np.pi * r\n",
    "\n",
    "fig, ax = plt.subplots(subplot_kw={'projection': 'polar'})\n",
    "ax.plot(np.mod(theta,2*np.pi), r )\n",
    "ax.set_rmax(2)\n",
    "ax.set_rticks([0.5, 1, 1.5, 2])  # Less radial ticks\n",
    "ax.set_rlabel_position(-22.5)  # Move radial labels away from plotted line\n",
    "ax.grid(True)\n",
    "\n",
    "ax.set_title(\"A line plot on a polar axis\", va='bottom')\n",
    "plt.show()"
   ]
  },
  {
   "cell_type": "code",
   "execution_count": 213,
   "id": "1899d708",
   "metadata": {},
   "outputs": [
    {
     "data": {
      "text/plain": [
       "0.0"
      ]
     },
     "execution_count": 213,
     "metadata": {},
     "output_type": "execute_result"
    }
   ],
   "source": [
    "\n",
    "plt.plot(np.mod(6*np.pi,2*np.pi)"
   ]
  },
  {
   "cell_type": "code",
   "execution_count": 265,
   "id": "8b7718db",
   "metadata": {},
   "outputs": [],
   "source": [
    "phi1 = np.around(2*np.pi*np.asarray([random.random() for p in range(10)]), decimals=4)\n",
    "phi1 = np.mod(phi1,2*np.pi)\n",
    "phi2 = np.around(2*np.pi*np.asarray([random.random() for p in range(10)]), decimals=4)\n",
    "phi2 = np.mod(phi1,2*np.pi)"
   ]
  },
  {
   "cell_type": "code",
   "execution_count": 266,
   "id": "d1de52b0",
   "metadata": {},
   "outputs": [
    {
     "data": {
      "text/plain": [
       "<matplotlib.collections.PathCollection at 0x7fd66e92e910>"
      ]
     },
     "execution_count": 266,
     "metadata": {},
     "output_type": "execute_result"
    },
    {
     "data": {
      "image/png": "[encoded data removed]",
      "text/plain": [
       "<Figure size 432x288 with 1 Axes>"
      ]
     },
     "metadata": {
      "needs_background": "light"
     },
     "output_type": "display_data"
    }
   ],
   "source": [
    "fig, ax = plt.subplots(subplot_kw={'projection': 'polar'})\n",
    "ax.scatter(phi1, np.ones(10))"
   ]
  },
  {
   "cell_type": "code",
   "execution_count": 267,
   "id": "20f33707",
   "metadata": {},
   "outputs": [
    {
     "name": "stdout",
     "output_type": "stream",
     "text": [
      "[ -1.  -2.  -3.  -4.  -5.  -6.  -7.  -8.  -9. -10.]\n"
     ]
    },
    {
     "data": {
      "text/plain": [
       "[<matplotlib.lines.Line2D at 0x7fd66ea871c0>]"
      ]
     },
     "execution_count": 267,
     "metadata": {},
     "output_type": "execute_result"
    },
    {
     "data": {
      "image/png": "[encoded data removed]",
      "text/plain": [
       "<Figure size 432x288 with 1 Axes>"
      ]
     },
     "metadata": {
      "needs_background": "light"
     },
     "output_type": "display_data"
    }
   ],
   "source": [
    "m=3\n",
    "k=0\n",
    "kldiff = k-np.linspace(k+1, 10, (10))\n",
    "print(kldiff)\n",
    "\n",
    "# fig, ax = plt.subplots(subplot_kw={'projection': 'polar'})\n",
    "plt.plot(np.cos(phi1[k]-phi2-(2*np.pi*m*kldiff\n",
    "                  /10)))\n"
   ]
  },
  {
   "cell_type": "code",
   "execution_count": 362,
   "id": "a6691d60",
   "metadata": {},
   "outputs": [
    {
     "data": {
      "text/latex": [
       "$\\displaystyle r_{0}^{2} + r_{1}^{2} + r_{10}^{2} + r_{11}^{2} + r_{12}^{2} + r_{13}^{2} + r_{14}^{2} + r_{15}^{2} + r_{2}^{2} + r_{3}^{2} + r_{4}^{2} + r_{5}^{2} + r_{6}^{2} + r_{7}^{2} + r_{8}^{2} + r_{9}^{2}$"
      ],
      "text/plain": [
       "r0**2 + r1**2 + r10**2 + r11**2 + r12**2 + r13**2 + r14**2 + r15**2 + r2**2 + r3**2 + r4**2 + r5**2 + r6**2 + r7**2 + r8**2 + r9**2"
      ]
     },
     "execution_count": 362,
     "metadata": {},
     "output_type": "execute_result"
    }
   ],
   "source": [
    "m = 2\n",
    "length = 16\n",
    "rs = sp.Matrix(sp.symbols('r:{}'.format(length)))\n",
    "phis = sp.Matrix(sp.symbols('phi:{}'.format(length)))\n",
    "indexes = np.asarray(range(length), dtype=int)\n",
    "l2rs = rs.dot(rs)\n",
    "l2rs"
   ]
  },
  {
   "cell_type": "code",
   "execution_count": 366,
   "id": "3f0b79d7",
   "metadata": {},
   "outputs": [
    {
     "data": {
      "text/plain": [
       "(r0, r1, r2, r3, r4, r5, r6, r7, r8, r9, r10, r11, r12, r13, r14, r15)"
      ]
     },
     "execution_count": 366,
     "metadata": {},
     "output_type": "execute_result"
    }
   ],
   "source": [
    "sp.Poly(l2rs).args[1:]\n"
   ]
  },
  {
   "cell_type": "code",
   "execution_count": 284,
   "id": "0d5a95a7",
   "metadata": {},
   "outputs": [
    {
     "ename": "NameError",
     "evalue": "name 'i' is not defined",
     "output_type": "error",
     "traceback": [
      "\u001b[0;31m---------------------------------------------------------------------------\u001b[0m",
      "\u001b[0;31mNameError\u001b[0m                                 Traceback (most recent call last)",
      "Input \u001b[0;32mIn [284]\u001b[0m, in \u001b[0;36m<cell line: 1>\u001b[0;34m()\u001b[0m\n\u001b[0;32m----> 1\u001b[0m expr \u001b[38;5;241m=\u001b[39m \u001b[38;5;241m1\u001b[39m \u001b[38;5;241m+\u001b[39m (sp\u001b[38;5;241m.\u001b[39mSum(rs[\u001b[43mi\u001b[49m], (i, \u001b[38;5;241m0\u001b[39m, \u001b[38;5;241m10\u001b[39m))) \u001b[38;5;241m/\u001b[39m l2rs\n\u001b[1;32m      2\u001b[0m expr\n",
      "\u001b[0;31mNameError\u001b[0m: name 'i' is not defined"
     ]
    }
   ],
   "source": [
    "expr = 1 + (sp.Sum(rs[i], (i, 0, 10))) / l2rs\n",
    "expr"
   ]
  },
  {
   "cell_type": "code",
   "execution_count": 288,
   "id": "1bfa5f1a",
   "metadata": {},
   "outputs": [
    {
     "data": {
      "text/latex": [
       "$\\displaystyle {x}_{0} + {x}_{1} + {x}_{2} + {x}_{3}$"
      ],
      "text/plain": [
       "x[0] + x[1] + x[2] + x[3]"
      ]
     },
     "execution_count": 288,
     "metadata": {},
     "output_type": "execute_result"
    }
   ],
   "source": [
    "x, i = sp.symbols(\"x i\")\n",
    "s = sp.Sum(sp.Indexed('x',i),(i,0,3))\n",
    "s.doit()\n",
    "# f = sp.lambdify(x, s)\n",
    "# b = np.array([1, 2, 3, 4])\n",
    "# f(b)"
   ]
  },
  {
   "cell_type": "code",
   "execution_count": 361,
   "id": "170767b0",
   "metadata": {},
   "outputs": [
    {
     "data": {
      "text/plain": [
       "(r[k]**2, (k, 0, 15))"
      ]
     },
     "execution_count": 361,
     "metadata": {},
     "output_type": "execute_result"
    }
   ],
   "source": [
    "rk, k = sp.symbols(\"r k\")\n",
    "# rk = sp.Function('r')\n",
    "rl, l = sp.symbols('r l')\n",
    "l2rk = sp.Sum(sp.Indexed('r',k)**2,(k,0,length-1))\n",
    "l2rk.args"
   ]
  },
  {
   "cell_type": "code",
   "execution_count": 360,
   "id": "fd9750cd",
   "metadata": {},
   "outputs": [
    {
     "data": {
      "text/plain": [
       "(Sum(r[k]**2, (k, 0, 15)), Sum(r[k]**2, (k, 0, 15)))"
      ]
     },
     "execution_count": 360,
     "metadata": {},
     "output_type": "execute_result"
    }
   ],
   "source": [
    "poly2 = sp.Poly(l2rk)\n",
    "poly2.args"
   ]
  },
  {
   "cell_type": "code",
   "execution_count": 346,
   "id": "01da8d18",
   "metadata": {},
   "outputs": [],
   "source": [
    "phis, j = sp.symbols('phi j')\n"
   ]
  },
  {
   "cell_type": "code",
   "execution_count": 347,
   "id": "0cfbbcfd",
   "metadata": {},
   "outputs": [
    {
     "data": {
      "text/latex": [
       "$\\displaystyle 1 + \\frac{\\sum_{\\substack{k + 1 \\leq l \\leq 15\\\\0 \\leq k \\leq 15}} \\cos{\\left(\\frac{3 \\pi k}{8} - \\frac{3 \\pi l}{8} - {\\phi}_{k} + {\\phi}_{l} \\right)} {r}_{k} {r}_{l}}{{r}_{0}^{2} + {r}_{10}^{2} + {r}_{11}^{2} + {r}_{12}^{2} + {r}_{13}^{2} + {r}_{14}^{2} + {r}_{15}^{2} + {r}_{1}^{2} + {r}_{2}^{2} + {r}_{3}^{2} + {r}_{4}^{2} + {r}_{5}^{2} + {r}_{6}^{2} + {r}_{7}^{2} + {r}_{8}^{2} + {r}_{9}^{2}}$"
      ],
      "text/plain": [
       "1 + Sum(cos(3*pi*k/8 - 3*pi*l/8 - phi[k] + phi[l])*r[k]*r[l], (l, k + 1, 15), (k, 0, 15))/(r[0]**2 + r[10]**2 + r[11]**2 + r[12]**2 + r[13]**2 + r[14]**2 + r[15]**2 + r[1]**2 + r[2]**2 + r[3]**2 + r[4]**2 + r[5]**2 + r[6]**2 + r[7]**2 + r[8]**2 + r[9]**2)"
      ]
     },
     "execution_count": 347,
     "metadata": {},
     "output_type": "execute_result"
    }
   ],
   "source": [
    "m=3\n",
    "expr = 1 + (sp.Sum(sp.Indexed('r',k)*sp.Indexed('r',l)*sp.cos(sp.Indexed('phi', k)-sp.Indexed('phi', l)-2*sp.pi*m*(k-l)/length), (l, k+1, length-1), (k,0,length-1)))/l2rs\n",
    "sp.simplify(expr)"
   ]
  },
  {
   "cell_type": "code",
   "execution_count": 351,
   "id": "a91a20b9",
   "metadata": {},
   "outputs": [
    {
     "data": {
      "text/latex": [
       "$\\displaystyle 1 + \\frac{\\sum_{\\substack{k + 1 \\leq l \\leq 15\\\\0 \\leq k \\leq 15}} \\cos{\\left(\\frac{3 \\pi k}{8} - \\frac{3 \\pi l}{8} - {\\phi}_{k} + {\\phi}_{l} \\right)} {r}_{k} {r}_{l}}{{r}_{0}^{2} + {r}_{10}^{2} + {r}_{11}^{2} + {r}_{12}^{2} + {r}_{13}^{2} + {r}_{14}^{2} + {r}_{15}^{2} + {r}_{1}^{2} + {r}_{2}^{2} + {r}_{3}^{2} + {r}_{4}^{2} + {r}_{5}^{2} + {r}_{6}^{2} + {r}_{7}^{2} + {r}_{8}^{2} + {r}_{9}^{2}}$"
      ],
      "text/plain": [
       "1 + Sum(cos(3*pi*k/8 - 3*pi*l/8 - phi[k] + phi[l])*r[k]*r[l], (l, k + 1, 15), (k, 0, 15))/(r[0]**2 + r[10]**2 + r[11]**2 + r[12]**2 + r[13]**2 + r[14]**2 + r[15]**2 + r[1]**2 + r[2]**2 + r[3]**2 + r[4]**2 + r[5]**2 + r[6]**2 + r[7]**2 + r[8]**2 + r[9]**2)"
      ]
     },
     "execution_count": 351,
     "metadata": {},
     "output_type": "execute_result"
    }
   ],
   "source": [
    "sp.simplify(expr.subs('r:15',1))"
   ]
  },
  {
   "cell_type": "code",
   "execution_count": 322,
   "id": "839ebf1c",
   "metadata": {},
   "outputs": [
    {
     "data": {
      "text/latex": [
       "$\\displaystyle 1 + \\frac{\\sum_{\\substack{i + 1 \\leq j \\leq 15\\\\0 \\leq i \\leq 15}} r{\\left(i \\right)} r{\\left(j \\right)} \\cos{\\left(\\frac{3 \\pi \\left(- i + j\\right)}{8} - \\phi{\\left(i \\right)} + \\phi{\\left(j \\right)} \\right)}}{\\sum_{i=0}^{15} r^{2}{\\left(i \\right)}}$"
      ],
      "text/plain": [
       "1 + Sum(r(i)*r(j)*cos(3*pi*(-i + j)/8 - phi(i) + phi(j)), (j, i + 1, 15), (i, 0, 15))/Sum(r(i)**2, (i, 0, 15))"
      ]
     },
     "execution_count": 322,
     "metadata": {},
     "output_type": "execute_result"
    }
   ],
   "source": [
    "m=3\n",
    "\n",
    "def trial_fun(x, ang):\n",
    "    i,j = sp.symbols('i j', integer=True)\n",
    "    r = sp.Function('r')\n",
    "    phi = sp.Function('phi')\n",
    "    expr = 1 + sp.Sum(r(i)*r(j)*sp.cos(phi(i)-phi(j)-2*sp.pi*m*(i-i)/length), (j,i+1,length-1), (i, 0, length-1)) / sp.Sum(r(i)**2, (i,0,length-1))\n",
    "    return expr"
   ]
  },
  {
   "cell_type": "code",
   "execution_count": 337,
   "id": "defca3ff",
   "metadata": {},
   "outputs": [
    {
     "data": {
      "text/latex": [
       "$\\displaystyle d{\\left(0 \\right)} + d{\\left(1 \\right)} + d{\\left(2 \\right)}$"
      ],
      "text/plain": [
       "d(0) + d(1) + d(2)"
      ]
     },
     "execution_count": 337,
     "metadata": {},
     "output_type": "execute_result"
    }
   ],
   "source": [
    "d = sp.Function('d')\n",
    "n = sp.symbols('n', integer=True)\n",
    "trial = sp.Sum(d(n), (n,0,2))\n",
    "trial.doit()"
   ]
  },
  {
   "cell_type": "code",
   "execution_count": 342,
   "id": "8c38fc45",
   "metadata": {},
   "outputs": [
    {
     "data": {
      "text/latex": [
       "$\\displaystyle d{\\left(0 \\right)} + d{\\left(1 \\right)} + d{\\left(2 \\right)}$"
      ],
      "text/plain": [
       "d(0) + d(1) + d(2)"
      ]
     },
     "execution_count": 342,
     "metadata": {},
     "output_type": "execute_result"
    }
   ],
   "source": [
    "sp.simplify(trial.subs([(d(0),0), (d(1),0), (d(2),0)]).doit())"
   ]
  },
  {
   "cell_type": "code",
   "execution_count": 368,
   "id": "799f0e64",
   "metadata": {},
   "outputs": [
    {
     "ename": "TypeError",
     "evalue": "rayleigh() got an unexpected keyword argument 'dtype'",
     "output_type": "error",
     "traceback": [
      "\u001b[0;31m---------------------------------------------------------------------------\u001b[0m",
      "\u001b[0;31mTypeError\u001b[0m                                 Traceback (most recent call last)",
      "Input \u001b[0;32mIn [368]\u001b[0m, in \u001b[0;36m<cell line: 1>\u001b[0;34m()\u001b[0m\n\u001b[0;32m----> 1\u001b[0m \u001b[43mnp\u001b[49m\u001b[38;5;241;43m.\u001b[39;49m\u001b[43mrandom\u001b[49m\u001b[38;5;241;43m.\u001b[39;49m\u001b[43mrayleigh\u001b[49m\u001b[43m(\u001b[49m\u001b[38;5;241;43m1\u001b[39;49m\u001b[43m,\u001b[49m\u001b[43m \u001b[49m\u001b[43m(\u001b[49m\u001b[38;5;241;43m2\u001b[39;49m\u001b[43m,\u001b[49m\u001b[43m \u001b[49m\u001b[38;5;241;43m2\u001b[39;49m\u001b[43m)\u001b[49m\u001b[43m,\u001b[49m\u001b[43m \u001b[49m\u001b[43mdtype\u001b[49m\u001b[38;5;241;43m=\u001b[39;49m\u001b[38;5;28;43mcomplex\u001b[39;49m\u001b[43m)\u001b[49m\n",
      "File \u001b[0;32mmtrand.pyx:3020\u001b[0m, in \u001b[0;36mnumpy.random.mtrand.RandomState.rayleigh\u001b[0;34m()\u001b[0m\n",
      "\u001b[0;31mTypeError\u001b[0m: rayleigh() got an unexpected keyword argument 'dtype'"
     ]
    }
   ],
   "source": []
  },
  {
   "cell_type": "code",
   "execution_count": null,
   "id": "2015c3f5",
   "metadata": {},
   "outputs": [],
   "source": []
  }
 ],
 "metadata": {
  "kernelspec": {
   "display_name": "Python 3 (ipykernel)",
   "language": "python",
   "name": "python3"
  },
  "language_info": {
   "codemirror_mode": {
    "name": "ipython",
    "version": 3
   },
   "file_extension": ".py",
   "mimetype": "text/x-python",
   "name": "python",
   "nbconvert_exporter": "python",
   "pygments_lexer": "ipython3",
   "version": "3.8.13"
  }
 },
 "nbformat": 4,
 "nbformat_minor": 5
}
