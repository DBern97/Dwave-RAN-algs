{
 "cells": [
  {
   "cell_type": "code",
   "execution_count": null,
   "id": "43d7370a",
   "metadata": {},
   "outputs": [],
   "source": []
  },
  {
   "cell_type": "code",
   "execution_count": 287,
   "id": "6f345e95",
   "metadata": {},
   "outputs": [],
   "source": [
    "import os\n",
    "import numpy as np\n",
    "import pyqubo as pq\n",
    "import sympy as sp\n",
    "import pandas as pd\n",
    "import seaborn as sns\n",
    "\n",
    "from PyQubo_formulation import *\n",
    "from Utilities import *\n",
    "\n",
    "import neal\n",
    "import itertools\n",
    "\n",
    "import matplotlib.pyplot as plt\n",
    "import matplotlib.cm as mplcm\n",
    "import matplotlib.colors as colors"
   ]
  },
  {
   "cell_type": "code",
   "execution_count": 2,
   "id": "0f018e4d",
   "metadata": {},
   "outputs": [],
   "source": [
    "root = np.array([0,4], dtype='float')\n",
    "\n",
    "ulen = 6\n",
    "\n",
    "# eps1 = np.around(np.random.uniform(-0.5, 0.5, ulen), decimals=2)\n",
    "eps2 = np.around(np.random.uniform(-1, 1, ulen), decimals=2)\n",
    "\n",
    "domains = np.tile(root, (ulen,1))\n",
    "\n",
    "# domains[:,0] = domains[:,0]+eps1\n",
    "domains[:,1] = domains[:,1]+eps2\n"
   ]
  },
  {
   "cell_type": "code",
   "execution_count": 3,
   "id": "2040fdb1",
   "metadata": {},
   "outputs": [
    {
     "data": {
      "image/png": "[encoded data removed]",
      "text/plain": [
       "<Figure size 432x288 with 1 Axes>"
      ]
     },
     "metadata": {
      "needs_background": "light"
     },
     "output_type": "display_data"
    }
   ],
   "source": [
    "plt.plot(domains[:,0], '--')\n",
    "plt.plot(domains[:,1], '--')\n",
    "plt.show()"
   ]
  },
  {
   "cell_type": "code",
   "execution_count": 5,
   "id": "b0542630",
   "metadata": {},
   "outputs": [
    {
     "data": {
      "text/plain": [
       "3.31734375"
      ]
     },
     "execution_count": 5,
     "metadata": {},
     "output_type": "execute_result"
    }
   ],
   "source": [
    "p = [1,1,1,1,1,1]\n",
    "Float_Approx(p, domains[1])"
   ]
  },
  {
   "cell_type": "code",
   "execution_count": 8,
   "id": "6a0c8c63",
   "metadata": {},
   "outputs": [
    {
     "data": {
      "text/plain": [
       "Array([(1.630000 * (((((Binary('u[0]') + (0.500000 * Binary('u[1]'))) + (0.250000 * Binary('u[2]'))) + (0.125000 * Binary('u[3]'))) + (0.062500 * Binary('u[4]'))) + (0.031250 * Binary('u[5]')))), (1.685000 * (((((Binary('u[6]') + (0.500000 * Binary('u[7]'))) + (0.250000 * Binary('u[8]'))) + (0.125000 * Binary('u[9]'))) + (0.062500 * Binary('u[10]'))) + (0.031250 * Binary('u[11]')))), (2.145000 * (((((Binary('u[12]') + (0.500000 * Binary('u[13]'))) + (0.250000 * Binary('u[14]'))) + (0.125000 * Binary('u[15]'))) + (0.062500 * Binary('u[16]'))) + (0.031250 * Binary('u[17]')))), (2.250000 * (((((Binary('u[18]') + (0.500000 * Binary('u[19]'))) + (0.250000 * Binary('u[20]'))) + (0.125000 * Binary('u[21]'))) + (0.062500 * Binary('u[22]'))) + (0.031250 * Binary('u[23]')))), (2.330000 * (((((Binary('u[24]') + (0.500000 * Binary('u[25]'))) + (0.250000 * Binary('u[26]'))) + (0.125000 * Binary('u[27]'))) + (0.062500 * Binary('u[28]'))) + (0.031250 * Binary('u[29]')))), (2.070000 * (((((Binary('u[30]') + (0.500000 * Binary('u[31]'))) + (0.250000 * Binary('u[32]'))) + (0.125000 * Binary('u[33]'))) + (0.062500 * Binary('u[34]'))) + (0.031250 * Binary('u[35]'))))])"
      ]
     },
     "execution_count": 8,
     "metadata": {},
     "output_type": "execute_result"
    }
   ],
   "source": [
    "nq_u = 6\n",
    "u = Create_Float_Vec(ulen, nq_u, domains, 'u')\n",
    "u[0]"
   ]
  },
  {
   "cell_type": "code",
   "execution_count": 9,
   "id": "81f3f0dd",
   "metadata": {},
   "outputs": [
    {
     "name": "stderr",
     "output_type": "stream",
     "text": [
      "/Users/davidbern/anaconda3/lib/python3.8/site-packages/numpy/core/fromnumeric.py:86: VisibleDeprecationWarning: Creating an ndarray from ragged nested sequences (which is a list-or-tuple of lists-or-tuples-or ndarrays with different lengths or shapes) is deprecated. If you meant to do this, you must specify 'dtype=object' when creating the ndarray.\n",
      "  return ufunc.reduce(obj, axis, dtype, out, **passkwargs)\n"
     ]
    },
    {
     "ename": "TypeError",
     "evalue": "Operation of Array cannot be done with type:<class 'list'>",
     "output_type": "error",
     "traceback": [
      "\u001b[0;31m---------------------------------------------------------------------------\u001b[0m",
      "\u001b[0;31mTypeError\u001b[0m                                 Traceback (most recent call last)",
      "Input \u001b[0;32mIn [9]\u001b[0m, in \u001b[0;36m<cell line: 1>\u001b[0;34m()\u001b[0m\n\u001b[0;32m----> 1\u001b[0m empty \u001b[38;5;241m=\u001b[39m \u001b[43mnp\u001b[49m\u001b[38;5;241;43m.\u001b[39;49m\u001b[43msum\u001b[49m\u001b[43m(\u001b[49m\u001b[43mu\u001b[49m\u001b[43m)\u001b[49m\u001b[38;5;241m.\u001b[39mcompile()\n\u001b[1;32m      2\u001b[0m og_vars \u001b[38;5;241m=\u001b[39m empty\u001b[38;5;241m.\u001b[39mvariables\n\u001b[1;32m      3\u001b[0m \u001b[38;5;28mprint\u001b[39m(og_vars)\n",
      "File \u001b[0;32m<__array_function__ internals>:5\u001b[0m, in \u001b[0;36msum\u001b[0;34m(*args, **kwargs)\u001b[0m\n",
      "File \u001b[0;32m~/anaconda3/lib/python3.8/site-packages/numpy/core/fromnumeric.py:2259\u001b[0m, in \u001b[0;36msum\u001b[0;34m(a, axis, dtype, out, keepdims, initial, where)\u001b[0m\n\u001b[1;32m   2256\u001b[0m         \u001b[38;5;28;01mreturn\u001b[39;00m out\n\u001b[1;32m   2257\u001b[0m     \u001b[38;5;28;01mreturn\u001b[39;00m res\n\u001b[0;32m-> 2259\u001b[0m \u001b[38;5;28;01mreturn\u001b[39;00m \u001b[43m_wrapreduction\u001b[49m\u001b[43m(\u001b[49m\u001b[43ma\u001b[49m\u001b[43m,\u001b[49m\u001b[43m \u001b[49m\u001b[43mnp\u001b[49m\u001b[38;5;241;43m.\u001b[39;49m\u001b[43madd\u001b[49m\u001b[43m,\u001b[49m\u001b[43m \u001b[49m\u001b[38;5;124;43m'\u001b[39;49m\u001b[38;5;124;43msum\u001b[39;49m\u001b[38;5;124;43m'\u001b[39;49m\u001b[43m,\u001b[49m\u001b[43m \u001b[49m\u001b[43maxis\u001b[49m\u001b[43m,\u001b[49m\u001b[43m \u001b[49m\u001b[43mdtype\u001b[49m\u001b[43m,\u001b[49m\u001b[43m \u001b[49m\u001b[43mout\u001b[49m\u001b[43m,\u001b[49m\u001b[43m \u001b[49m\u001b[43mkeepdims\u001b[49m\u001b[38;5;241;43m=\u001b[39;49m\u001b[43mkeepdims\u001b[49m\u001b[43m,\u001b[49m\n\u001b[1;32m   2260\u001b[0m \u001b[43m                      \u001b[49m\u001b[43minitial\u001b[49m\u001b[38;5;241;43m=\u001b[39;49m\u001b[43minitial\u001b[49m\u001b[43m,\u001b[49m\u001b[43m \u001b[49m\u001b[43mwhere\u001b[49m\u001b[38;5;241;43m=\u001b[39;49m\u001b[43mwhere\u001b[49m\u001b[43m)\u001b[49m\n",
      "File \u001b[0;32m~/anaconda3/lib/python3.8/site-packages/numpy/core/fromnumeric.py:86\u001b[0m, in \u001b[0;36m_wrapreduction\u001b[0;34m(obj, ufunc, method, axis, dtype, out, **kwargs)\u001b[0m\n\u001b[1;32m     83\u001b[0m         \u001b[38;5;28;01melse\u001b[39;00m:\n\u001b[1;32m     84\u001b[0m             \u001b[38;5;28;01mreturn\u001b[39;00m reduction(axis\u001b[38;5;241m=\u001b[39maxis, out\u001b[38;5;241m=\u001b[39mout, \u001b[38;5;241m*\u001b[39m\u001b[38;5;241m*\u001b[39mpasskwargs)\n\u001b[0;32m---> 86\u001b[0m \u001b[38;5;28;01mreturn\u001b[39;00m \u001b[43mufunc\u001b[49m\u001b[38;5;241;43m.\u001b[39;49m\u001b[43mreduce\u001b[49m\u001b[43m(\u001b[49m\u001b[43mobj\u001b[49m\u001b[43m,\u001b[49m\u001b[43m \u001b[49m\u001b[43maxis\u001b[49m\u001b[43m,\u001b[49m\u001b[43m \u001b[49m\u001b[43mdtype\u001b[49m\u001b[43m,\u001b[49m\u001b[43m \u001b[49m\u001b[43mout\u001b[49m\u001b[43m,\u001b[49m\u001b[43m \u001b[49m\u001b[38;5;241;43m*\u001b[39;49m\u001b[38;5;241;43m*\u001b[39;49m\u001b[43mpasskwargs\u001b[49m\u001b[43m)\u001b[49m\n",
      "File \u001b[0;32m~/anaconda3/lib/python3.8/site-packages/pyqubo/array.py:215\u001b[0m, in \u001b[0;36mArray.__add__\u001b[0;34m(self, other)\u001b[0m\n\u001b[1;32m    213\u001b[0m \u001b[38;5;28;01mdef\u001b[39;00m \u001b[38;5;21m__add__\u001b[39m(\u001b[38;5;28mself\u001b[39m, other):\n\u001b[1;32m    214\u001b[0m     \u001b[38;5;124;03m\"\"\"It is called when `self + other(any object)`\"\"\"\u001b[39;00m\n\u001b[0;32m--> 215\u001b[0m     \u001b[38;5;28;01mreturn\u001b[39;00m \u001b[38;5;28;43mself\u001b[39;49m\u001b[38;5;241;43m.\u001b[39;49m\u001b[43madd\u001b[49m\u001b[43m(\u001b[49m\u001b[43mother\u001b[49m\u001b[43m)\u001b[49m\n",
      "File \u001b[0;32m~/anaconda3/lib/python3.8/site-packages/pyqubo/array.py:286\u001b[0m, in \u001b[0;36mArray.add\u001b[0;34m(self, other)\u001b[0m\n\u001b[1;32m    252\u001b[0m \u001b[38;5;28;01mdef\u001b[39;00m \u001b[38;5;21madd\u001b[39m(\u001b[38;5;28mself\u001b[39m, other):\n\u001b[1;32m    253\u001b[0m     \u001b[38;5;124;03m\"\"\"Returns a sum of self and other.\u001b[39;00m\n\u001b[1;32m    254\u001b[0m \u001b[38;5;124;03m    \u001b[39;00m\n\u001b[1;32m    255\u001b[0m \u001b[38;5;124;03m    Args:\u001b[39;00m\n\u001b[0;32m   (...)\u001b[0m\n\u001b[1;32m    284\u001b[0m \u001b[38;5;124;03m               [(Binary(c)+Num(3)), 6]])\u001b[39;00m\n\u001b[1;32m    285\u001b[0m \u001b[38;5;124;03m    \"\"\"\u001b[39;00m\n\u001b[0;32m--> 286\u001b[0m     \u001b[38;5;28;01mreturn\u001b[39;00m \u001b[38;5;28;43mself\u001b[39;49m\u001b[38;5;241;43m.\u001b[39;49m\u001b[43m_pairwise_op_with_type_check\u001b[49m\u001b[43m(\u001b[49m\u001b[43mother\u001b[49m\u001b[43m,\u001b[49m\u001b[43m \u001b[49m\u001b[38;5;28;43;01mlambda\u001b[39;49;00m\u001b[43m \u001b[49m\u001b[43mx\u001b[49m\u001b[43m,\u001b[49m\u001b[43m \u001b[49m\u001b[43my\u001b[49m\u001b[43m:\u001b[49m\u001b[43m \u001b[49m\u001b[43mx\u001b[49m\u001b[43m \u001b[49m\u001b[38;5;241;43m+\u001b[39;49m\u001b[43m \u001b[49m\u001b[43my\u001b[49m\u001b[43m)\u001b[49m\n",
      "File \u001b[0;32m~/anaconda3/lib/python3.8/site-packages/pyqubo/array.py:492\u001b[0m, in \u001b[0;36mArray._pairwise_op_with_type_check\u001b[0;34m(self, other, operation)\u001b[0m\n\u001b[1;32m    490\u001b[0m     other \u001b[38;5;241m=\u001b[39m Array\u001b[38;5;241m.\u001b[39mfill(other, \u001b[38;5;28mself\u001b[39m\u001b[38;5;241m.\u001b[39mshape)\n\u001b[1;32m    491\u001b[0m \u001b[38;5;28;01melif\u001b[39;00m \u001b[38;5;129;01mnot\u001b[39;00m \u001b[38;5;28misinstance\u001b[39m(other, Array):\n\u001b[0;32m--> 492\u001b[0m     \u001b[38;5;28;01mraise\u001b[39;00m \u001b[38;5;167;01mTypeError\u001b[39;00m(\u001b[38;5;124m'\u001b[39m\u001b[38;5;124mOperation of Array cannot be done with type:\u001b[39m\u001b[38;5;132;01m{type}\u001b[39;00m\u001b[38;5;124m'\u001b[39m\n\u001b[1;32m    493\u001b[0m                     \u001b[38;5;241m.\u001b[39mformat(\u001b[38;5;28mtype\u001b[39m\u001b[38;5;241m=\u001b[39m\u001b[38;5;28mtype\u001b[39m(other)))\n\u001b[1;32m    494\u001b[0m \u001b[38;5;28;01mreturn\u001b[39;00m \u001b[38;5;28mself\u001b[39m\u001b[38;5;241m.\u001b[39m_pairwise_op(other, operation)\n",
      "\u001b[0;31mTypeError\u001b[0m: Operation of Array cannot be done with type:<class 'list'>"
     ]
    }
   ],
   "source": [
    "empty = np.sum(u).compile()\n",
    "og_vars = empty.variables\n",
    "print(og_vars)"
   ]
  },
  {
   "cell_type": "code",
   "execution_count": 10,
   "id": "41b81b92",
   "metadata": {},
   "outputs": [],
   "source": [
    "nq_mu = 6\n",
    "\n",
    "muparams = np.array([nq_mu,[0,4]], dtype=object)"
   ]
  },
  {
   "cell_type": "code",
   "execution_count": 11,
   "id": "24aa5ac7",
   "metadata": {},
   "outputs": [
    {
     "ename": "TypeError",
     "evalue": "unsupported operand type(s) for ** or pow(): 'Array' and 'int'",
     "output_type": "error",
     "traceback": [
      "\u001b[0;31m---------------------------------------------------------------------------\u001b[0m",
      "\u001b[0;31mTypeError\u001b[0m                                 Traceback (most recent call last)",
      "Input \u001b[0;32mIn [11]\u001b[0m, in \u001b[0;36m<cell line: 1>\u001b[0;34m()\u001b[0m\n\u001b[0;32m----> 1\u001b[0m maxnorm \u001b[38;5;241m=\u001b[39m \u001b[43mMax_Norm_LP\u001b[49m\u001b[43m(\u001b[49m\u001b[43mu\u001b[49m\u001b[43m,\u001b[49m\u001b[43m \u001b[49m\u001b[38;5;241;43m2\u001b[39;49m\u001b[43m,\u001b[49m\u001b[43m \u001b[49m\u001b[43mmuparams\u001b[49m\u001b[43m,\u001b[49m\u001b[43m \u001b[49m\u001b[43mmuparams\u001b[49m\u001b[43m)\u001b[49m\n\u001b[1;32m      3\u001b[0m model \u001b[38;5;241m=\u001b[39m maxnorm\u001b[38;5;241m.\u001b[39mcompile(strength\u001b[38;5;241m=\u001b[39m\u001b[38;5;241m10\u001b[39m)\n\u001b[1;32m      5\u001b[0m model_qubo \u001b[38;5;241m=\u001b[39m model\u001b[38;5;241m.\u001b[39mto_qubo(index_label\u001b[38;5;241m=\u001b[39m\u001b[38;5;28;01mTrue\u001b[39;00m)\n",
      "File \u001b[0;32m~/Desktop/Desktop/Master/Master Thesis/programming/PyQubo_formulation.py:196\u001b[0m, in \u001b[0;36mMax_Norm_LP\u001b[0;34m(ytilde, mu, k_slack_vars, gamma)\u001b[0m\n\u001b[1;32m    193\u001b[0m term \u001b[38;5;241m=\u001b[39m np\u001b[38;5;241m.\u001b[39mzeros(\u001b[38;5;28mlen\u001b[39m(ytilde), dtype\u001b[38;5;241m=\u001b[39m\u001b[38;5;124m'\u001b[39m\u001b[38;5;124mobject\u001b[39m\u001b[38;5;124m'\u001b[39m)\n\u001b[1;32m    195\u001b[0m \u001b[38;5;28;01mfor\u001b[39;00m i \u001b[38;5;129;01min\u001b[39;00m \u001b[38;5;28mrange\u001b[39m(\u001b[38;5;28mlen\u001b[39m(ytilde)):\n\u001b[0;32m--> 196\u001b[0m     term[i] \u001b[38;5;241m=\u001b[39m (\u001b[43mytilde\u001b[49m\u001b[43m[\u001b[49m\u001b[43mi\u001b[49m\u001b[43m]\u001b[49m\u001b[38;5;241;43m*\u001b[39;49m\u001b[38;5;241;43m*\u001b[39;49m\u001b[38;5;241;43m2\u001b[39;49m \u001b[38;5;241m+\u001b[39m k_slack_vars[i] \u001b[38;5;241m-\u001b[39m mu)\u001b[38;5;241m*\u001b[39m\u001b[38;5;241m*\u001b[39m\u001b[38;5;241m2\u001b[39m\n\u001b[1;32m    198\u001b[0m term \u001b[38;5;241m=\u001b[39m pq\u001b[38;5;241m.\u001b[39mArray(term)\n\u001b[1;32m    200\u001b[0m \u001b[38;5;66;03m# max-norm as obj + gamma*constraints\u001b[39;00m\n",
      "\u001b[0;31mTypeError\u001b[0m: unsupported operand type(s) for ** or pow(): 'Array' and 'int'"
     ]
    }
   ],
   "source": [
    "maxnorm = Max_Norm_LP(u, 2, muparams, muparams)\n",
    "\n",
    "model = maxnorm.compile(strength=10)\n",
    "\n",
    "model_qubo = model.to_qubo(index_label=True)\n",
    "\n",
    "np.trace(Dict_to_Mat(model_qubo[0]))"
   ]
  },
  {
   "cell_type": "code",
   "execution_count": 200,
   "id": "73cac661",
   "metadata": {},
   "outputs": [
    {
     "data": {
      "image/png": "[encoded data removed]",
      "text/plain": [
       "<Figure size 432x288 with 1 Axes>"
      ]
     },
     "metadata": {
      "needs_background": "light"
     },
     "output_type": "display_data"
    }
   ],
   "source": [
    "sampler = neal.SimulatedAnnealingSampler()\n",
    "\n",
    "correct_max = np.max(domains)\n",
    "\n",
    "model_qubo = model.to_qubo()\n",
    "    \n",
    "sampleset = sampler.sample_qubo(model_qubo[0], num_reads=100)\n",
    "\n",
    "samples = sampleset.samples()\n",
    "\n",
    "data = sampleset.to_pandas_dataframe()\n",
    "\n",
    "\n",
    "cwd = os.getcwd()\n",
    "path = cwd + \"/Data/SA/\"\n",
    "\n",
    "data.to_hdf(path+'trialsave.h5', key='a', mode='w')\n",
    "\n",
    "sns.histplot(data['energy'], bins=20)\n",
    "plt.show()"
   ]
  },
  {
   "cell_type": "code",
   "execution_count": 201,
   "id": "a8d32bb7",
   "metadata": {},
   "outputs": [
    {
     "name": "stdout",
     "output_type": "stream",
     "text": [
      "[24 31 94 98]\n"
     ]
    },
    {
     "data": {
      "text/plain": [
       "array([[1., 1., 0., 1., 0., 0., 0., 1., 1., 0., 1., 1., 1., 1., 1., 0.,\n",
       "        0., 0., 1., 1., 0., 1., 0., 0., 1., 1., 0., 1., 1., 1., 1., 1.,\n",
       "        1., 0., 1., 0.],\n",
       "       [1., 1., 1., 1., 1., 0., 1., 1., 0., 0., 0., 1., 1., 1., 1., 0.,\n",
       "        0., 0., 1., 1., 1., 0., 0., 0., 1., 1., 1., 0., 0., 0., 1., 1.,\n",
       "        0., 1., 1., 0.],\n",
       "       [0., 0., 1., 1., 0., 0., 0., 0., 0., 1., 0., 1., 0., 0., 1., 0.,\n",
       "        0., 0., 0., 1., 1., 0., 1., 1., 0., 0., 1., 1., 0., 0., 0., 0.,\n",
       "        1., 1., 1., 0.],\n",
       "       [0., 1., 1., 1., 1., 0., 0., 1., 1., 0., 0., 1., 0., 1., 0., 1.,\n",
       "        1., 1., 1., 0., 0., 0., 1., 1., 1., 1., 0., 1., 1., 0., 0., 1.,\n",
       "        0., 0., 1., 1.]])"
      ]
     },
     "execution_count": 201,
     "metadata": {},
     "output_type": "execute_result"
    }
   ],
   "source": [
    "low_samps = np.argwhere(sampleset.record['energy'] < np.min(sampleset.record['energy'])+1 ).flatten()\n",
    "\n",
    "print(low_samps)\n",
    "\n",
    "strings = np.zeros((len(low_samps),len(og_vars)))\n",
    "\n",
    "for i in range(len(low_samps)):\n",
    "    for j in range(len(og_vars)):\n",
    "        strings[i][j] = samples[int(low_samps[i])][og_vars[j]]\n",
    "strings\n"
   ]
  },
  {
   "cell_type": "code",
   "execution_count": 202,
   "id": "a7f35abe",
   "metadata": {},
   "outputs": [
    {
     "data": {
      "image/png": "[encoded data removed]",
      "text/plain": [
       "<Figure size 432x288 with 1 Axes>"
      ]
     },
     "metadata": {
      "needs_background": "light"
     },
     "output_type": "display_data"
    }
   ],
   "source": [
    "## subbing back into binary approximation to get the result\n",
    "\n",
    "res = np.zeros((nq_u, ulen))\n",
    "for n in range(len(strings)):\n",
    "    for i in range(ulen):\n",
    "        res[n][i] = float_approx(strings[n][i*nq_u : nq_u*(i+1),], domains[i])\n",
    "\n",
    "for r in res:\n",
    "    plt.plot(res)\n",
    "plt.plot(domains[:,0], '--')\n",
    "plt.plot(domains[:,1], '--')\n",
    "plt.show()"
   ]
  },
  {
   "cell_type": "code",
   "execution_count": 304,
   "id": "3e3dd31e",
   "metadata": {},
   "outputs": [],
   "source": [
    "sampler = neal.SimulatedAnnealingSampler()\n",
    "\n",
    "gamma = np.linspace(1,40,20)\n",
    "\n",
    "\n",
    "results = []\n",
    "for i in range(len(gamma)):\n",
    "    \n",
    "    maxnorm = Max_Norm_LP(u, gamma[i], muparams, muparams)\n",
    "\n",
    "    model = maxnorm.compile(strength=30)\n",
    "    \n",
    "#     model_vars = model.variables\n",
    "#     unique_vars = model_vars[:(nq_u*ulen+2*nq_mu)]\n",
    "\n",
    "    model_qubo = model.to_qubo()\n",
    "    \n",
    "    sampleset = sampler.sample_qubo(model_qubo[0], num_reads=1000)\n",
    "\n",
    "    samples = sampleset.samples()\n",
    "    energies = sampleset.record['energy']\n",
    "\n",
    "    data = sampleset.to_pandas_dataframe()\n",
    "\n",
    "    cwd = os.getcwd()\n",
    "    path = cwd + \"/Data/SA/\"\n",
    "\n",
    "    data.to_hdf(path+'trialgamma{}.h5'.format(gamma[i]), key='a', mode='w')\n",
    "\n",
    "    \n",
    "#     min_energy = np.min(energies)\n",
    "\n",
    "#     errors = np.zeros(len(samples))\n",
    "#     for j in range(len(samples)):\n",
    "#         if np.abs(min_energy - energies[j]) <= np.abs(min_energy)/100:\n",
    "#             results.append(samples[j])\n"
   ]
  },
  {
   "cell_type": "code",
   "execution_count": 305,
   "id": "5fde5c29",
   "metadata": {},
   "outputs": [
    {
     "data": {
      "text/html": [
       "<div>\n",
       "<style scoped>\n",
       "    .dataframe tbody tr th:only-of-type {\n",
       "        vertical-align: middle;\n",
       "    }\n",
       "\n",
       "    .dataframe tbody tr th {\n",
       "        vertical-align: top;\n",
       "    }\n",
       "\n",
       "    .dataframe thead th {\n",
       "        text-align: right;\n",
       "    }\n",
       "</style>\n",
       "<table border=\"1\" class=\"dataframe\">\n",
       "  <thead>\n",
       "    <tr style=\"text-align: right;\">\n",
       "      <th></th>\n",
       "      <th>kq[0]</th>\n",
       "      <th>kq[1]</th>\n",
       "      <th>kq[2]</th>\n",
       "      <th>kq[3]</th>\n",
       "      <th>kq[4]</th>\n",
       "      <th>kq[5]</th>\n",
       "      <th>muq[0]</th>\n",
       "      <th>muq[1]</th>\n",
       "      <th>muq[2]</th>\n",
       "      <th>muq[3]</th>\n",
       "      <th>...</th>\n",
       "      <th>q[7] * q[9]</th>\n",
       "      <th>q[8]</th>\n",
       "      <th>q[8] * q[10]</th>\n",
       "      <th>q[8] * q[11]</th>\n",
       "      <th>q[8] * q[9]</th>\n",
       "      <th>q[9]</th>\n",
       "      <th>q[9] * q[10]</th>\n",
       "      <th>q[9] * q[11]</th>\n",
       "      <th>energy</th>\n",
       "      <th>num_occurrences</th>\n",
       "    </tr>\n",
       "  </thead>\n",
       "  <tbody>\n",
       "    <tr>\n",
       "      <th>0</th>\n",
       "      <td>0</td>\n",
       "      <td>0</td>\n",
       "      <td>1</td>\n",
       "      <td>0</td>\n",
       "      <td>0</td>\n",
       "      <td>0</td>\n",
       "      <td>0</td>\n",
       "      <td>1</td>\n",
       "      <td>0</td>\n",
       "      <td>0</td>\n",
       "      <td>...</td>\n",
       "      <td>0</td>\n",
       "      <td>0</td>\n",
       "      <td>0</td>\n",
       "      <td>0</td>\n",
       "      <td>0</td>\n",
       "      <td>0</td>\n",
       "      <td>0</td>\n",
       "      <td>0</td>\n",
       "      <td>5.654684</td>\n",
       "      <td>1</td>\n",
       "    </tr>\n",
       "    <tr>\n",
       "      <th>1</th>\n",
       "      <td>0</td>\n",
       "      <td>0</td>\n",
       "      <td>1</td>\n",
       "      <td>1</td>\n",
       "      <td>0</td>\n",
       "      <td>1</td>\n",
       "      <td>1</td>\n",
       "      <td>1</td>\n",
       "      <td>0</td>\n",
       "      <td>1</td>\n",
       "      <td>...</td>\n",
       "      <td>0</td>\n",
       "      <td>0</td>\n",
       "      <td>0</td>\n",
       "      <td>0</td>\n",
       "      <td>0</td>\n",
       "      <td>0</td>\n",
       "      <td>0</td>\n",
       "      <td>0</td>\n",
       "      <td>19.168104</td>\n",
       "      <td>1</td>\n",
       "    </tr>\n",
       "    <tr>\n",
       "      <th>2</th>\n",
       "      <td>0</td>\n",
       "      <td>0</td>\n",
       "      <td>0</td>\n",
       "      <td>0</td>\n",
       "      <td>0</td>\n",
       "      <td>0</td>\n",
       "      <td>1</td>\n",
       "      <td>1</td>\n",
       "      <td>0</td>\n",
       "      <td>0</td>\n",
       "      <td>...</td>\n",
       "      <td>1</td>\n",
       "      <td>0</td>\n",
       "      <td>0</td>\n",
       "      <td>0</td>\n",
       "      <td>0</td>\n",
       "      <td>1</td>\n",
       "      <td>1</td>\n",
       "      <td>1</td>\n",
       "      <td>16.638422</td>\n",
       "      <td>1</td>\n",
       "    </tr>\n",
       "    <tr>\n",
       "      <th>3</th>\n",
       "      <td>0</td>\n",
       "      <td>1</td>\n",
       "      <td>0</td>\n",
       "      <td>1</td>\n",
       "      <td>1</td>\n",
       "      <td>0</td>\n",
       "      <td>1</td>\n",
       "      <td>0</td>\n",
       "      <td>1</td>\n",
       "      <td>0</td>\n",
       "      <td>...</td>\n",
       "      <td>0</td>\n",
       "      <td>0</td>\n",
       "      <td>0</td>\n",
       "      <td>0</td>\n",
       "      <td>0</td>\n",
       "      <td>1</td>\n",
       "      <td>1</td>\n",
       "      <td>1</td>\n",
       "      <td>10.006206</td>\n",
       "      <td>1</td>\n",
       "    </tr>\n",
       "    <tr>\n",
       "      <th>4</th>\n",
       "      <td>0</td>\n",
       "      <td>0</td>\n",
       "      <td>1</td>\n",
       "      <td>0</td>\n",
       "      <td>0</td>\n",
       "      <td>0</td>\n",
       "      <td>1</td>\n",
       "      <td>0</td>\n",
       "      <td>1</td>\n",
       "      <td>0</td>\n",
       "      <td>...</td>\n",
       "      <td>1</td>\n",
       "      <td>0</td>\n",
       "      <td>0</td>\n",
       "      <td>0</td>\n",
       "      <td>0</td>\n",
       "      <td>1</td>\n",
       "      <td>0</td>\n",
       "      <td>1</td>\n",
       "      <td>25.615648</td>\n",
       "      <td>1</td>\n",
       "    </tr>\n",
       "    <tr>\n",
       "      <th>...</th>\n",
       "      <td>...</td>\n",
       "      <td>...</td>\n",
       "      <td>...</td>\n",
       "      <td>...</td>\n",
       "      <td>...</td>\n",
       "      <td>...</td>\n",
       "      <td>...</td>\n",
       "      <td>...</td>\n",
       "      <td>...</td>\n",
       "      <td>...</td>\n",
       "      <td>...</td>\n",
       "      <td>...</td>\n",
       "      <td>...</td>\n",
       "      <td>...</td>\n",
       "      <td>...</td>\n",
       "      <td>...</td>\n",
       "      <td>...</td>\n",
       "      <td>...</td>\n",
       "      <td>...</td>\n",
       "      <td>...</td>\n",
       "      <td>...</td>\n",
       "    </tr>\n",
       "    <tr>\n",
       "      <th>995</th>\n",
       "      <td>0</td>\n",
       "      <td>0</td>\n",
       "      <td>0</td>\n",
       "      <td>0</td>\n",
       "      <td>0</td>\n",
       "      <td>0</td>\n",
       "      <td>0</td>\n",
       "      <td>0</td>\n",
       "      <td>1</td>\n",
       "      <td>1</td>\n",
       "      <td>...</td>\n",
       "      <td>0</td>\n",
       "      <td>1</td>\n",
       "      <td>1</td>\n",
       "      <td>1</td>\n",
       "      <td>1</td>\n",
       "      <td>1</td>\n",
       "      <td>1</td>\n",
       "      <td>1</td>\n",
       "      <td>4.010739</td>\n",
       "      <td>1</td>\n",
       "    </tr>\n",
       "    <tr>\n",
       "      <th>996</th>\n",
       "      <td>0</td>\n",
       "      <td>0</td>\n",
       "      <td>0</td>\n",
       "      <td>1</td>\n",
       "      <td>0</td>\n",
       "      <td>0</td>\n",
       "      <td>1</td>\n",
       "      <td>1</td>\n",
       "      <td>0</td>\n",
       "      <td>1</td>\n",
       "      <td>...</td>\n",
       "      <td>1</td>\n",
       "      <td>1</td>\n",
       "      <td>1</td>\n",
       "      <td>0</td>\n",
       "      <td>1</td>\n",
       "      <td>1</td>\n",
       "      <td>1</td>\n",
       "      <td>0</td>\n",
       "      <td>27.992217</td>\n",
       "      <td>1</td>\n",
       "    </tr>\n",
       "    <tr>\n",
       "      <th>997</th>\n",
       "      <td>0</td>\n",
       "      <td>0</td>\n",
       "      <td>0</td>\n",
       "      <td>0</td>\n",
       "      <td>0</td>\n",
       "      <td>0</td>\n",
       "      <td>0</td>\n",
       "      <td>1</td>\n",
       "      <td>1</td>\n",
       "      <td>1</td>\n",
       "      <td>...</td>\n",
       "      <td>0</td>\n",
       "      <td>0</td>\n",
       "      <td>0</td>\n",
       "      <td>0</td>\n",
       "      <td>0</td>\n",
       "      <td>0</td>\n",
       "      <td>0</td>\n",
       "      <td>0</td>\n",
       "      <td>4.240878</td>\n",
       "      <td>1</td>\n",
       "    </tr>\n",
       "    <tr>\n",
       "      <th>998</th>\n",
       "      <td>1</td>\n",
       "      <td>0</td>\n",
       "      <td>0</td>\n",
       "      <td>1</td>\n",
       "      <td>0</td>\n",
       "      <td>0</td>\n",
       "      <td>1</td>\n",
       "      <td>1</td>\n",
       "      <td>0</td>\n",
       "      <td>1</td>\n",
       "      <td>...</td>\n",
       "      <td>0</td>\n",
       "      <td>1</td>\n",
       "      <td>1</td>\n",
       "      <td>0</td>\n",
       "      <td>0</td>\n",
       "      <td>0</td>\n",
       "      <td>0</td>\n",
       "      <td>0</td>\n",
       "      <td>6.205487</td>\n",
       "      <td>1</td>\n",
       "    </tr>\n",
       "    <tr>\n",
       "      <th>999</th>\n",
       "      <td>0</td>\n",
       "      <td>0</td>\n",
       "      <td>0</td>\n",
       "      <td>0</td>\n",
       "      <td>0</td>\n",
       "      <td>0</td>\n",
       "      <td>0</td>\n",
       "      <td>0</td>\n",
       "      <td>0</td>\n",
       "      <td>0</td>\n",
       "      <td>...</td>\n",
       "      <td>0</td>\n",
       "      <td>0</td>\n",
       "      <td>0</td>\n",
       "      <td>0</td>\n",
       "      <td>0</td>\n",
       "      <td>1</td>\n",
       "      <td>1</td>\n",
       "      <td>1</td>\n",
       "      <td>0.342068</td>\n",
       "      <td>1</td>\n",
       "    </tr>\n",
       "  </tbody>\n",
       "</table>\n",
       "<p>1000 rows × 140 columns</p>\n",
       "</div>"
      ],
      "text/plain": [
       "     kq[0]  kq[1]  kq[2]  kq[3]  kq[4]  kq[5]  muq[0]  muq[1]  muq[2]  muq[3]  \\\n",
       "0        0      0      1      0      0      0       0       1       0       0   \n",
       "1        0      0      1      1      0      1       1       1       0       1   \n",
       "2        0      0      0      0      0      0       1       1       0       0   \n",
       "3        0      1      0      1      1      0       1       0       1       0   \n",
       "4        0      0      1      0      0      0       1       0       1       0   \n",
       "..     ...    ...    ...    ...    ...    ...     ...     ...     ...     ...   \n",
       "995      0      0      0      0      0      0       0       0       1       1   \n",
       "996      0      0      0      1      0      0       1       1       0       1   \n",
       "997      0      0      0      0      0      0       0       1       1       1   \n",
       "998      1      0      0      1      0      0       1       1       0       1   \n",
       "999      0      0      0      0      0      0       0       0       0       0   \n",
       "\n",
       "     ...  q[7] * q[9]  q[8]  q[8] * q[10]  q[8] * q[11]  q[8] * q[9]  q[9]  \\\n",
       "0    ...            0     0             0             0            0     0   \n",
       "1    ...            0     0             0             0            0     0   \n",
       "2    ...            1     0             0             0            0     1   \n",
       "3    ...            0     0             0             0            0     1   \n",
       "4    ...            1     0             0             0            0     1   \n",
       "..   ...          ...   ...           ...           ...          ...   ...   \n",
       "995  ...            0     1             1             1            1     1   \n",
       "996  ...            1     1             1             0            1     1   \n",
       "997  ...            0     0             0             0            0     0   \n",
       "998  ...            0     1             1             0            0     0   \n",
       "999  ...            0     0             0             0            0     1   \n",
       "\n",
       "     q[9] * q[10]  q[9] * q[11]     energy  num_occurrences  \n",
       "0               0             0   5.654684                1  \n",
       "1               0             0  19.168104                1  \n",
       "2               1             1  16.638422                1  \n",
       "3               1             1  10.006206                1  \n",
       "4               0             1  25.615648                1  \n",
       "..            ...           ...        ...              ...  \n",
       "995             1             1   4.010739                1  \n",
       "996             1             0  27.992217                1  \n",
       "997             0             0   4.240878                1  \n",
       "998             0             0   6.205487                1  \n",
       "999             1             1   0.342068                1  \n",
       "\n",
       "[1000 rows x 140 columns]"
      ]
     },
     "execution_count": 305,
     "metadata": {},
     "output_type": "execute_result"
    }
   ],
   "source": [
    "pd.read_hdf(path+'trialgamma1.h5')"
   ]
  },
  {
   "cell_type": "code",
   "execution_count": 308,
   "id": "54215284",
   "metadata": {},
   "outputs": [
    {
     "data": {
      "image/png": "[encoded data removed]",
      "text/plain": [
       "<Figure size 432x288 with 1 Axes>"
      ]
     },
     "metadata": {
      "needs_background": "light"
     },
     "output_type": "display_data"
    }
   ],
   "source": [
    "for i in range(4):\n",
    "    frame = pd.read_hdf(path+'trialgamma{}.h5'.format(gamma[5*i]))\n",
    "    sns.histplot(frame['energy'], label='gamma={}'.format(gamma[5*i]))\n",
    "plt.legend()\n",
    "plt.show()"
   ]
  },
  {
   "cell_type": "code",
   "execution_count": 309,
   "id": "4f1c6fcb",
   "metadata": {},
   "outputs": [
    {
     "data": {
      "text/plain": [
       "0.0"
      ]
     },
     "execution_count": 309,
     "metadata": {},
     "output_type": "execute_result"
    }
   ],
   "source": [
    "all_vars = frame.iloc[20].keys()[:140-2]\n",
    "frame.iloc[min_e]['q[0] * q[1]']"
   ]
  },
  {
   "cell_type": "code",
   "execution_count": 310,
   "id": "df2dd9ce",
   "metadata": {},
   "outputs": [
    {
     "name": "stdout",
     "output_type": "stream",
     "text": [
      "0.0\n"
     ]
    }
   ],
   "source": [
    "res = []\n",
    "sample = []\n",
    "for s in range(len(gamma)):\n",
    "    frame = pd.read_hdf(path+'trialgamma{}.h5'.format(gamma[s]))\n",
    "\n",
    "    min_e = np.argmin(frame['energy'])\n",
    "    \n",
    "    sample.append(frame.iloc[min_e])\n",
    "    \n",
    "#     min_e_all.append(frame.iloc[min_e][all_vars])#dont need actually\n",
    "    \n",
    "    min_e_samps = list(frame[og_vars].iloc[min_e])\n",
    "    \n",
    "    res.append(min_e_samps)\n",
    "print(sample[0]['q[0]'])"
   ]
  },
  {
   "cell_type": "code",
   "execution_count": 321,
   "id": "d9e7f525",
   "metadata": {},
   "outputs": [
    {
     "data": {
      "text/plain": [
       "array([[0.051875  , 0.        , 0.        , 0.        , 0.        ,\n",
       "        0.        ],\n",
       "       [0.2075    , 0.4490625 , 0.2203125 , 0.210625  , 0.205     ,\n",
       "        0.25875   ],\n",
       "       [2.905     , 1.9459375 , 4.1125    , 2.89609375, 3.02375   ,\n",
       "        3.2990625 ],\n",
       "       [2.956875  , 4.19125   , 4.1125    , 3.00140625, 2.9725    ,\n",
       "        3.751875  ],\n",
       "       [2.905     , 4.19125   , 4.1125    , 3.00140625, 2.9725    ,\n",
       "        3.6871875 ],\n",
       "       [3.1125    , 4.19125   , 4.1125    , 3.10671875, 3.075     ,\n",
       "        3.6871875 ],\n",
       "       [3.1125    , 4.19125   , 4.1125    , 3.159375  , 3.075     ,\n",
       "        3.6871875 ],\n",
       "       [3.1125    , 4.19125   , 4.1125    , 3.159375  , 3.075     ,\n",
       "        3.6871875 ],\n",
       "       [3.1125    , 4.19125   , 4.1125    , 3.159375  , 3.075     ,\n",
       "        3.6871875 ],\n",
       "       [3.1125    , 4.19125   , 4.1125    , 3.31734375, 3.075     ,\n",
       "        3.6871875 ],\n",
       "       [3.268125  , 4.19125   , 4.1125    , 3.31734375, 3.075     ,\n",
       "        3.6871875 ],\n",
       "       [3.268125  , 4.19125   , 4.1125    , 3.31734375, 3.22875   ,\n",
       "        3.6871875 ],\n",
       "       [3.268125  , 4.19125   , 4.1125    , 3.31734375, 3.22875   ,\n",
       "        3.6225    ],\n",
       "       [3.268125  , 4.19125   , 4.1125    , 3.31734375, 3.22875   ,\n",
       "        3.6871875 ],\n",
       "       [3.268125  , 4.19125   , 4.1125    , 3.31734375, 3.22875   ,\n",
       "        3.6871875 ],\n",
       "       [3.268125  , 4.19125   , 4.1125    , 3.31734375, 3.22875   ,\n",
       "        3.6225    ],\n",
       "       [3.268125  , 4.19125   , 4.1125    , 3.31734375, 3.22875   ,\n",
       "        3.6871875 ],\n",
       "       [3.268125  , 4.19125   , 4.1125    , 3.31734375, 3.22875   ,\n",
       "        3.6871875 ],\n",
       "       [3.268125  , 4.19125   , 4.1125    , 3.31734375, 3.22875   ,\n",
       "        3.6871875 ],\n",
       "       [3.268125  , 4.19125   , 4.1125    , 3.31734375, 3.22875   ,\n",
       "        3.9459375 ]])"
      ]
     },
     "execution_count": 321,
     "metadata": {},
     "output_type": "execute_result"
    }
   ],
   "source": [
    "# compute quad error and maxnorm error for each gamma so for each entry \n",
    "# of sample and res, respectively.\n",
    "\n",
    "ceiling = np.max(domains, axis=1)\n",
    "\n",
    "q_error, problematic = [], [] \n",
    "\n",
    "error = []\n",
    "\n",
    "result = np.zeros((len(gamma),ulen))\n",
    "\n",
    "for i in range(len(gamma)):\n",
    "    \n",
    "    q_er, prob, _ = quad_error(sample[i], og_vars)\n",
    "    q_error.append(q_er)\n",
    "    problematic.append(prob)\n",
    "    \n",
    "    \n",
    "    for j in range(ulen):\n",
    "        result[i][j] = float_approx(res[i][j*nq_u : nq_u*(j+1)], domains[j])\n",
    "    \n",
    "    error.append((np.abs(result[i] - ceiling)) / ceiling)\n",
    "\n",
    "result"
   ]
  },
  {
   "cell_type": "code",
   "execution_count": 292,
   "id": "0233b575",
   "metadata": {},
   "outputs": [
    {
     "data": {
      "text/plain": [
       "array([3.32, 4.79, 4.7 , 3.37, 3.28, 4.14])"
      ]
     },
     "execution_count": 292,
     "metadata": {},
     "output_type": "execute_result"
    }
   ],
   "source": [
    "np.max(domains, axis=1)"
   ]
  },
  {
   "cell_type": "code",
   "execution_count": 392,
   "id": "9aec462f",
   "metadata": {},
   "outputs": [
    {
     "data": {
      "image/png": "[encoded data removed]",
      "text/plain": [
       "<Figure size 432x288 with 1 Axes>"
      ]
     },
     "metadata": {
      "needs_background": "light"
     },
     "output_type": "display_data"
    },
    {
     "data": {
      "image/png": "[encoded data removed]",
      "text/plain": [
       "<Figure size 432x288 with 1 Axes>"
      ]
     },
     "metadata": {
      "needs_background": "light"
     },
     "output_type": "display_data"
    }
   ],
   "source": [
    "# plt.plot(gamma, error)\n",
    "cNorm = colors.Normalize(vmin=0, vmax=gamma[-1])\n",
    "cm = plt.get_cmap('binary')\n",
    "scalarMap = mplcm.ScalarMappable(norm=cNorm, cmap=cm)\n",
    "\n",
    "\n",
    "plt.plot(ceiling, c='r', lw=2, label='actual ceiling')\n",
    "for i in range(len(result)):\n",
    "\n",
    "    plt.plot(result[i], color=scalarMap.to_rgba(gamma[i]))\n",
    "# plt.plot(error[-1])\n",
    "plt.ylabel('Maximum approx.')\n",
    "plt.xlabel(r'$u_i$')\n",
    "plt.plot(1, np.max(domains), marker=\"o\", markersize=15, markeredgecolor=\"magenta\",\n",
    "markerfacecolor=\"None\", markeredgewidth=2)\n",
    "\n",
    "\n",
    "plt.legend()\n",
    "plt.tight_layout()\n",
    "plt.savefig('simple_maxnorm_test.png', dpi=300)\n",
    "plt.show()\n",
    "\n",
    "for i in range(len(result[:-1])):\n",
    "    plt.plot(gamma[i], np.mean(error[i]), marker=\"^\", markersize=10, markeredgecolor=\"green\",\n",
    "        markerfacecolor=\"None\", markeredgewidth=2)\n",
    "\n",
    "plt.plot(gamma[-1], np.mean(error[-1]), marker=\"^\", markersize=10, markeredgecolor=\"green\",\n",
    "        markerfacecolor=\"None\", markeredgewidth=2, label='Mean error')\n",
    "plt.plot(gamma, q_error, c='m', lw=2, label='quad. error')\n",
    "plt.legend()\n",
    "plt.xlabel('gamma')\n",
    "plt.ylabel('error')\n",
    "plt.tight_layout()\n",
    "plt.savefig('simple_maxnorm_test__errors.png', dpi=300)\n",
    "plt.show()"
   ]
  },
  {
   "cell_type": "code",
   "execution_count": 30,
   "id": "0607a61d",
   "metadata": {},
   "outputs": [],
   "source": [
    "import dimod\n",
    "\n",
    "sampler_exact = dimod.ExactSolver()\n",
    "sampler_exact.parameters\n",
    "\n",
    "model_bqm = dimod.BQM.from_qubo(model_qubo[0])"
   ]
  },
  {
   "cell_type": "code",
   "execution_count": 31,
   "id": "6573eae1",
   "metadata": {},
   "outputs": [
    {
     "ename": "ValueError",
     "evalue": "Maximum allowed dimension exceeded",
     "output_type": "error",
     "traceback": [
      "\u001b[0;31m---------------------------------------------------------------------------\u001b[0m",
      "\u001b[0;31mValueError\u001b[0m                                Traceback (most recent call last)",
      "Input \u001b[0;32mIn [31]\u001b[0m, in \u001b[0;36m<cell line: 1>\u001b[0;34m()\u001b[0m\n\u001b[0;32m----> 1\u001b[0m sampleset \u001b[38;5;241m=\u001b[39m \u001b[43msampler_exact\u001b[49m\u001b[38;5;241;43m.\u001b[39;49m\u001b[43msample\u001b[49m\u001b[43m(\u001b[49m\u001b[43mmodel_bqm\u001b[49m\u001b[43m)\u001b[49m\n\u001b[1;32m      3\u001b[0m samples \u001b[38;5;241m=\u001b[39m sampleset\u001b[38;5;241m.\u001b[39msamples()\n\u001b[1;32m      4\u001b[0m energies \u001b[38;5;241m=\u001b[39m sampleset\u001b[38;5;241m.\u001b[39mrecord[\u001b[38;5;124m'\u001b[39m\u001b[38;5;124menergy\u001b[39m\u001b[38;5;124m'\u001b[39m]\n",
      "File \u001b[0;32m~/anaconda3/lib/python3.8/site-packages/dimod/reference/samplers/exact_solver.py:96\u001b[0m, in \u001b[0;36mExactSolver.sample\u001b[0;34m(self, bqm, **kwargs)\u001b[0m\n\u001b[1;32m     93\u001b[0m \u001b[38;5;28;01mif\u001b[39;00m \u001b[38;5;129;01mnot\u001b[39;00m \u001b[38;5;28mlen\u001b[39m(bqm\u001b[38;5;241m.\u001b[39mvariables):\n\u001b[1;32m     94\u001b[0m     \u001b[38;5;28;01mreturn\u001b[39;00m SampleSet\u001b[38;5;241m.\u001b[39mfrom_samples([], bqm\u001b[38;5;241m.\u001b[39mvartype, energy\u001b[38;5;241m=\u001b[39m[])\n\u001b[0;32m---> 96\u001b[0m samples \u001b[38;5;241m=\u001b[39m \u001b[43m_graycode\u001b[49m\u001b[43m(\u001b[49m\u001b[43mbqm\u001b[49m\u001b[43m)\u001b[49m\n\u001b[1;32m     98\u001b[0m \u001b[38;5;28;01mif\u001b[39;00m bqm\u001b[38;5;241m.\u001b[39mvartype \u001b[38;5;129;01mis\u001b[39;00m Vartype\u001b[38;5;241m.\u001b[39mSPIN:\n\u001b[1;32m     99\u001b[0m     samples \u001b[38;5;241m=\u001b[39m \u001b[38;5;241m2\u001b[39m\u001b[38;5;241m*\u001b[39msamples \u001b[38;5;241m-\u001b[39m \u001b[38;5;241m1\u001b[39m\n",
      "File \u001b[0;32m~/anaconda3/lib/python3.8/site-packages/dimod/reference/samplers/exact_solver.py:280\u001b[0m, in \u001b[0;36m_graycode\u001b[0;34m(bqm)\u001b[0m\n\u001b[1;32m    278\u001b[0m n \u001b[38;5;241m=\u001b[39m \u001b[38;5;28mlen\u001b[39m(bqm\u001b[38;5;241m.\u001b[39mvariables)\n\u001b[1;32m    279\u001b[0m ns \u001b[38;5;241m=\u001b[39m \u001b[38;5;241m1\u001b[39m \u001b[38;5;241m<<\u001b[39m n\n\u001b[0;32m--> 280\u001b[0m samples \u001b[38;5;241m=\u001b[39m \u001b[43mnp\u001b[49m\u001b[38;5;241;43m.\u001b[39;49m\u001b[43mempty\u001b[49m\u001b[43m(\u001b[49m\u001b[43m(\u001b[49m\u001b[43mns\u001b[49m\u001b[43m,\u001b[49m\u001b[43m \u001b[49m\u001b[43mn\u001b[49m\u001b[43m)\u001b[49m\u001b[43m,\u001b[49m\u001b[43m \u001b[49m\u001b[43mdtype\u001b[49m\u001b[38;5;241;43m=\u001b[39;49m\u001b[43mnp\u001b[49m\u001b[38;5;241;43m.\u001b[39;49m\u001b[43mint8\u001b[49m\u001b[43m)\u001b[49m\n\u001b[1;32m    282\u001b[0m samples[\u001b[38;5;241m0\u001b[39m, :] \u001b[38;5;241m=\u001b[39m \u001b[38;5;241m0\u001b[39m\n\u001b[1;32m    284\u001b[0m \u001b[38;5;28;01mfor\u001b[39;00m i \u001b[38;5;129;01min\u001b[39;00m \u001b[38;5;28mrange\u001b[39m(\u001b[38;5;241m1\u001b[39m, ns):\n",
      "\u001b[0;31mValueError\u001b[0m: Maximum allowed dimension exceeded"
     ]
    }
   ],
   "source": [
    "sampleset = sampler_exact.sample(model_bqm)\n",
    "\n",
    "samples = sampleset.samples()\n",
    "energies = sampleset.record['energy']\n",
    "\n",
    "errors = np.zeros(len(samples))\n",
    "for j in range(len(samples)):\n",
    "    errors[j] = quad_error(samples[j], quad_vars)\n",
    "\n",
    "\n",
    "median = np.median(errors)\n",
    "mean = np.mean(errors)\n"
   ]
  },
  {
   "cell_type": "code",
   "execution_count": 10,
   "id": "c5984e56",
   "metadata": {},
   "outputs": [
    {
     "data": {
      "text/plain": [
       "{'beta_range': [],\n",
       " 'num_reads': [],\n",
       " 'num_sweeps': [],\n",
       " 'beta_schedule_type': ['beta_schedule_options'],\n",
       " 'seed': [],\n",
       " 'interrupt_function': [],\n",
       " 'initial_states': [],\n",
       " 'initial_states_generator': []}"
      ]
     },
     "execution_count": 10,
     "metadata": {},
     "output_type": "execute_result"
    }
   ],
   "source": [
    "# Dimond doesn't work so look at SA again\n",
    "\n",
    "import neal\n",
    "\n",
    "sampler = neal.SimulatedAnnealingSampler()\n",
    "\n",
    "sampler.parameters"
   ]
  },
  {
   "cell_type": "code",
   "execution_count": 13,
   "id": "eebb87bd",
   "metadata": {},
   "outputs": [],
   "source": [
    "M = np.linspace(1, 20, 40)\n",
    "\n",
    "median = np.zeros(len(M))\n",
    "mean = np.zeros(len(M))\n",
    "\n",
    "energies = np.zeros(len(M), dtype='object')\n",
    "samples = np.zeros(len(M), dtype='object')\n",
    "\n",
    "for i in range(len(M)):\n",
    "    \n",
    "    maxnorm = Max_Norm_LP(u, M[i], muparams, muparams)\n",
    "    \n",
    "    model = maxnorm.compile(strength=5)\n",
    "\n",
    "    model_qubo = model.to_qubo()\n",
    "    \n",
    "    sampleset = sampler.sample_qubo(model_qubo[0], num_reads=1000)\n",
    "\n",
    "    samples[i] = sampleset.samples()\n",
    "    energies[i] = sampleset.record['energy']\n",
    "\n",
    "#     errors = np.zeros(len(samples))\n",
    "#     for j in range(len(samples)):\n",
    "#         errors[j] = quad_error(samples[j], quad_vars)\n",
    "    \n",
    "#     plt.plot(errors, color=scalarMap.to_rgba(M[i]))\n",
    "    \n",
    "#     median[i] = np.median(errors)\n",
    "#     mean[i] = np.mean(errors)"
   ]
  },
  {
   "cell_type": "code",
   "execution_count": 21,
   "id": "0fd19b2b",
   "metadata": {},
   "outputs": [
    {
     "data": {
      "image/png": "[encoded data removed]",
      "text/plain": [
       "<Figure size 432x288 with 1 Axes>"
      ]
     },
     "metadata": {
      "needs_background": "light"
     },
     "output_type": "display_data"
    }
   ],
   "source": [
    "min_e = np.zeros(len(energies))\n",
    "\n",
    "for i in range(len(energies)):\n",
    "    min_e[i] = np.min(energies[i])\n",
    "plt.plot(M, min_e)\n",
    "plt.show()"
   ]
  },
  {
   "cell_type": "code",
   "execution_count": 38,
   "id": "94725b4a",
   "metadata": {},
   "outputs": [
    {
     "data": {
      "image/png": "[encoded data removed]",
      "text/plain": [
       "<Figure size 432x288 with 1 Axes>"
      ]
     },
     "metadata": {
      "needs_background": "light"
     },
     "output_type": "display_data"
    }
   ],
   "source": [
    "import matplotlib.cm as mplcm\n",
    "import matplotlib.colors as colors\n",
    "\n",
    "cNorm = colors.Normalize(vmin=1, vmax=M[-1])\n",
    "cm = plt.get_cmap('hot_r')\n",
    "scalarMap = mplcm.ScalarMappable(norm=cNorm, cmap=cm)\n",
    "\n",
    "plt.hist(energies[1], label='first')\n",
    "plt.hist(energies[10])\n",
    "plt.hist(energies[39], label='last')\n",
    "plt.legend()\n",
    "plt.show()"
   ]
  },
  {
   "cell_type": "markdown",
   "id": "ae10a617",
   "metadata": {},
   "source": [
    "## Benchamark L$_\\infty$-norm "
   ]
  },
  {
   "cell_type": "code",
   "execution_count": 136,
   "id": "2fa1a731",
   "metadata": {},
   "outputs": [],
   "source": [
    "import os\n",
    "import numpy as np\n",
    "import pyqubo as pq\n",
    "import sympy as sp\n",
    "import pandas as pd\n",
    "import seaborn as sns\n",
    "\n",
    "from PyQubo_formulation import *\n",
    "from Utilities import *\n",
    "from Radio import *\n",
    "\n",
    "import neal\n",
    "import itertools\n",
    "\n",
    "import matplotlib.pyplot as plt\n",
    "import matplotlib.cm as mplcm\n",
    "import matplotlib.colors as colors"
   ]
  },
  {
   "cell_type": "markdown",
   "id": "6ac70fc3",
   "metadata": {},
   "source": [
    "### Test 1 - 'y' is known\n",
    "\n",
    "We define some vector $\\mathbf{y}$ with a known maximum, which we should find by minimising $\\mu$:\n",
    "\n",
    "<br>\n",
    "$$ \\text{min }\\;\\;\\mu \\;\\;s.t.\\;\\; |y_n|^2 \\leq \\mu, \\forall n$$\n",
    "\n",
    "<br>\n",
    "\n",
    "which in unconstrained form is:\n",
    "<br>\n",
    "$$\\Bigg(\\mu +\\gamma_1 \\sum_n\\big(|y_n|^2 + k_n - \\mu\\big) \\Bigg)$$"
   ]
  },
  {
   "cell_type": "markdown",
   "id": "45466171",
   "metadata": {},
   "source": [
    "Create some real vector with obvious maximum:"
   ]
  },
  {
   "cell_type": "code",
   "execution_count": 137,
   "id": "a6723c0e",
   "metadata": {},
   "outputs": [
    {
     "data": {
      "text/plain": [
       "array([1., 1., 1., 1., 1., 1., 1., 1., 1., 1., 1., 1., 1., 4., 1., 1.])"
      ]
     },
     "execution_count": 137,
     "metadata": {},
     "output_type": "execute_result"
    }
   ],
   "source": [
    "length = 16\n",
    "y = np.ones(length)\n",
    "y[np.random.randint(0,length-1)] = 4\n",
    "y"
   ]
  },
  {
   "cell_type": "markdown",
   "id": "914a29c4",
   "metadata": {},
   "source": [
    "Create $\\mu$ in a range that can capture the maximum.\n",
    "\n",
    "<br>\n",
    "\n",
    "Each constraint is satisfied if $\\big(|y_n|^2 + k_n - \\mu\\big)=0$. So in this case, $\\mu = 16$, but pretending we don't know, we take $\\mu \\in [15, 20]$."
   ]
  },
  {
   "cell_type": "code",
   "execution_count": 138,
   "id": "cc158bf2",
   "metadata": {},
   "outputs": [
    {
     "data": {
      "text/plain": [
       "['mu[0][0]',\n",
       " 'mu[1][0]',\n",
       " 'mu[2][0]',\n",
       " 'mu[3][0]',\n",
       " 'mu[4][0]',\n",
       " 'mu[5][0]',\n",
       " 'mu[6][0]',\n",
       " 'mu[7][0]',\n",
       " 'mu[8][0]',\n",
       " 'mu[9][0]',\n",
       " 'mu[10][0]',\n",
       " 'mu[11][0]']"
      ]
     },
     "execution_count": 138,
     "metadata": {},
     "output_type": "execute_result"
    }
   ],
   "source": [
    "nq = 12 ## number of binary vars to approxiamte the float\n",
    "domain = np.array([15,20]) ## we know mu should converge to 4\n",
    "\n",
    "float_accuracy = 2**(-nq+1)\n",
    "\n",
    "mu, muvars = Create_Float_Vec(1, nq, domain, 'mu')\n",
    "muvars"
   ]
  },
  {
   "cell_type": "code",
   "execution_count": 139,
   "id": "fe09aaf1",
   "metadata": {},
   "outputs": [],
   "source": [
    "mu = mu[0]"
   ]
  },
  {
   "cell_type": "markdown",
   "id": "f9c406bf",
   "metadata": {},
   "source": [
    "Create the slack variables $k_n$ such that the penalties $(|y_n|^2 + k_n - \\mu)^2$ can be satisfied:"
   ]
  },
  {
   "cell_type": "code",
   "execution_count": 140,
   "id": "bfe79c78",
   "metadata": {},
   "outputs": [
    {
     "data": {
      "text/plain": [
       "['k[0][0]',\n",
       " 'k[1][0]',\n",
       " 'k[2][0]',\n",
       " 'k[3][0]',\n",
       " 'k[4][0]',\n",
       " 'k[5][0]',\n",
       " 'k[6][0]',\n",
       " 'k[7][0]',\n",
       " 'k[8][0]',\n",
       " 'k[9][0]',\n",
       " 'k[10][0]',\n",
       " 'k[11][0]',\n",
       " 'k[12][0]',\n",
       " 'k[13][0]',\n",
       " 'k[14][0]',\n",
       " 'k[15][0]',\n",
       " 'k[16][0]',\n",
       " 'k[17][0]',\n",
       " 'k[18][0]',\n",
       " 'k[19][0]',\n",
       " 'k[20][0]',\n",
       " 'k[21][0]',\n",
       " 'k[22][0]',\n",
       " 'k[23][0]',\n",
       " 'k[24][0]',\n",
       " 'k[25][0]',\n",
       " 'k[26][0]',\n",
       " 'k[27][0]',\n",
       " 'k[28][0]',\n",
       " 'k[29][0]',\n",
       " 'k[30][0]',\n",
       " 'k[31][0]',\n",
       " 'k[32][0]',\n",
       " 'k[33][0]',\n",
       " 'k[34][0]',\n",
       " 'k[35][0]',\n",
       " 'k[36][0]',\n",
       " 'k[37][0]',\n",
       " 'k[38][0]',\n",
       " 'k[39][0]',\n",
       " 'k[40][0]',\n",
       " 'k[41][0]',\n",
       " 'k[42][0]',\n",
       " 'k[43][0]',\n",
       " 'k[44][0]',\n",
       " 'k[45][0]',\n",
       " 'k[46][0]',\n",
       " 'k[47][0]',\n",
       " 'k[48][0]',\n",
       " 'k[49][0]',\n",
       " 'k[50][0]',\n",
       " 'k[51][0]',\n",
       " 'k[52][0]',\n",
       " 'k[53][0]',\n",
       " 'k[54][0]',\n",
       " 'k[55][0]',\n",
       " 'k[56][0]',\n",
       " 'k[57][0]',\n",
       " 'k[58][0]',\n",
       " 'k[59][0]',\n",
       " 'k[60][0]',\n",
       " 'k[61][0]',\n",
       " 'k[62][0]',\n",
       " 'k[63][0]',\n",
       " 'k[64][0]',\n",
       " 'k[65][0]',\n",
       " 'k[66][0]',\n",
       " 'k[67][0]',\n",
       " 'k[68][0]',\n",
       " 'k[69][0]',\n",
       " 'k[70][0]',\n",
       " 'k[71][0]',\n",
       " 'k[72][0]',\n",
       " 'k[73][0]',\n",
       " 'k[74][0]',\n",
       " 'k[75][0]',\n",
       " 'k[76][0]',\n",
       " 'k[77][0]',\n",
       " 'k[78][0]',\n",
       " 'k[79][0]',\n",
       " 'k[80][0]',\n",
       " 'k[81][0]',\n",
       " 'k[82][0]',\n",
       " 'k[83][0]',\n",
       " 'k[84][0]',\n",
       " 'k[85][0]',\n",
       " 'k[86][0]',\n",
       " 'k[87][0]',\n",
       " 'k[88][0]',\n",
       " 'k[89][0]',\n",
       " 'k[90][0]',\n",
       " 'k[91][0]',\n",
       " 'k[92][0]',\n",
       " 'k[93][0]',\n",
       " 'k[94][0]',\n",
       " 'k[95][0]',\n",
       " 'k[96][0]',\n",
       " 'k[97][0]',\n",
       " 'k[98][0]',\n",
       " 'k[99][0]',\n",
       " 'k[100][0]',\n",
       " 'k[101][0]',\n",
       " 'k[102][0]',\n",
       " 'k[103][0]',\n",
       " 'k[104][0]',\n",
       " 'k[105][0]',\n",
       " 'k[106][0]',\n",
       " 'k[107][0]',\n",
       " 'k[108][0]',\n",
       " 'k[109][0]',\n",
       " 'k[110][0]',\n",
       " 'k[111][0]',\n",
       " 'k[112][0]',\n",
       " 'k[113][0]',\n",
       " 'k[114][0]',\n",
       " 'k[115][0]',\n",
       " 'k[116][0]',\n",
       " 'k[117][0]',\n",
       " 'k[118][0]',\n",
       " 'k[119][0]',\n",
       " 'k[120][0]',\n",
       " 'k[121][0]',\n",
       " 'k[122][0]',\n",
       " 'k[123][0]',\n",
       " 'k[124][0]',\n",
       " 'k[125][0]',\n",
       " 'k[126][0]',\n",
       " 'k[127][0]',\n",
       " 'k[128][0]',\n",
       " 'k[129][0]',\n",
       " 'k[130][0]',\n",
       " 'k[131][0]',\n",
       " 'k[132][0]',\n",
       " 'k[133][0]',\n",
       " 'k[134][0]',\n",
       " 'k[135][0]',\n",
       " 'k[136][0]',\n",
       " 'k[137][0]',\n",
       " 'k[138][0]',\n",
       " 'k[139][0]',\n",
       " 'k[140][0]',\n",
       " 'k[141][0]',\n",
       " 'k[142][0]',\n",
       " 'k[143][0]',\n",
       " 'k[144][0]',\n",
       " 'k[145][0]',\n",
       " 'k[146][0]',\n",
       " 'k[147][0]',\n",
       " 'k[148][0]',\n",
       " 'k[149][0]',\n",
       " 'k[150][0]',\n",
       " 'k[151][0]',\n",
       " 'k[152][0]',\n",
       " 'k[153][0]',\n",
       " 'k[154][0]',\n",
       " 'k[155][0]',\n",
       " 'k[156][0]',\n",
       " 'k[157][0]',\n",
       " 'k[158][0]',\n",
       " 'k[159][0]',\n",
       " 'k[160][0]',\n",
       " 'k[161][0]',\n",
       " 'k[162][0]',\n",
       " 'k[163][0]',\n",
       " 'k[164][0]',\n",
       " 'k[165][0]',\n",
       " 'k[166][0]',\n",
       " 'k[167][0]',\n",
       " 'k[168][0]',\n",
       " 'k[169][0]',\n",
       " 'k[170][0]',\n",
       " 'k[171][0]',\n",
       " 'k[172][0]',\n",
       " 'k[173][0]',\n",
       " 'k[174][0]',\n",
       " 'k[175][0]',\n",
       " 'k[176][0]',\n",
       " 'k[177][0]',\n",
       " 'k[178][0]',\n",
       " 'k[179][0]',\n",
       " 'k[180][0]',\n",
       " 'k[181][0]',\n",
       " 'k[182][0]',\n",
       " 'k[183][0]',\n",
       " 'k[184][0]',\n",
       " 'k[185][0]',\n",
       " 'k[186][0]',\n",
       " 'k[187][0]',\n",
       " 'k[188][0]',\n",
       " 'k[189][0]',\n",
       " 'k[190][0]',\n",
       " 'k[191][0]']"
      ]
     },
     "execution_count": 140,
     "metadata": {},
     "output_type": "execute_result"
    }
   ],
   "source": [
    "# define same domains for all, although we could adapt them more to y.\n",
    "domains = np.tile([0,15], (length,1))\n",
    "\n",
    "# approx all elements with same number of binaries, although again could be adapted.\n",
    "nq_k = 12\n",
    "\n",
    "k, kvars = Create_Float_Vec(length, nq_k, domains, 'k')\n",
    "kvars"
   ]
  },
  {
   "cell_type": "markdown",
   "id": "34b86e63",
   "metadata": {},
   "source": [
    "Create the corresponding QUBO problem:"
   ]
  },
  {
   "cell_type": "code",
   "execution_count": 141,
   "id": "be039794",
   "metadata": {},
   "outputs": [
    {
     "data": {
      "text/plain": [
       "({('k[100][0]', 'k[103][0]'): 2.74658203125,\n",
       "  ('k[186][0]', 'mu[2][0]'): -7.32421875,\n",
       "  ('mu[5][0]', 'mu[7][0]'): 2.44140625,\n",
       "  ('k[87][0]', 'mu[4][0]'): -14.6484375,\n",
       "  ('k[101][0]', 'mu[9][0]'): -0.11444091796875,\n",
       "  ('k[191][0]', 'mu[5][0]'): -0.0286102294921875,\n",
       "  ('k[87][0]', 'k[95][0]'): 0.34332275390625,\n",
       "  ('k[114][0]', 'mu[3][0]'): -3.662109375,\n",
       "  ('k[0][0]', 'k[8][0]'): 21.97265625,\n",
       "  ('k[0][0]', 'k[2][0]'): 1406.25,\n",
       "  ('k[17][0]', 'mu[9][0]'): -0.11444091796875,\n",
       "  ('k[103][0]', 'k[106][0]'): 0.04291534423828125,\n",
       "  ('k[83][0]', 'mu[2][0]'): -0.2288818359375,\n",
       "  ('k[149][0]', 'mu[11][0]'): -0.0286102294921875,\n",
       "  ('k[101][0]', 'k[105][0]'): 0.34332275390625,\n",
       "  ('k[132][0]', 'mu[1][0]'): -937.5,\n",
       "  ('k[100][0]', 'k[106][0]'): 0.34332275390625,\n",
       "  ('k[100][0]', 'mu[3][0]'): -14.6484375,\n",
       "  ('k[39][0]', 'k[42][0]'): 10.986328125,\n",
       "  ('k[28][0]', 'k[31][0]'): 2.74658203125,\n",
       "  ('k[118][0]', 'mu[10][0]'): -0.0017881393432617188,\n",
       "  ('k[99][0]', 'mu[1][0]'): -117.1875,\n",
       "  ('k[63][0]', 'mu[7][0]'): -1.8310546875,\n",
       "  ('k[65][0]', 'mu[10][0]'): -0.057220458984375,\n",
       "  ('k[102][0]', 'k[96][0]'): 87.890625,\n",
       "  ('k[0][0]', 'k[9][0]'): 10.986328125,\n",
       "  ('k[106][0]', 'k[107][0]'): 0.002682209014892578,\n",
       "  ('k[185][0]', 'k[186][0]'): 2.74658203125,\n",
       "  ('k[115][0]', 'mu[4][0]'): -0.91552734375,\n",
       "  ('k[100][0]', 'k[105][0]'): 0.6866455078125,\n",
       "  ('k[191][0]', 'mu[10][0]'): -0.0008940696716308594,\n",
       "  ('k[131][0]', 'k[131][0]'): -5.126282572746277,\n",
       "  ('k[60][0]', 'mu[7][0]'): -14.6484375,\n",
       "  ('k[0][0]', 'k[5][0]'): 175.78125,\n",
       "  ('k[147][0]', 'k[155][0]'): 0.34332275390625,\n",
       "  ('k[132][0]', 'mu[0][0]'): -1875.0,\n",
       "  ('k[38][0]', 'k[47][0]'): 0.6866455078125,\n",
       "  ('k[101][0]', 'k[103][0]'): 1.373291015625,\n",
       "  ('k[101][0]', 'k[104][0]'): 0.6866455078125,\n",
       "  ('k[10][0]', 'k[2][0]'): 1.373291015625,\n",
       "  ('k[20][0]', 'mu[1][0]'): -3.662109375,\n",
       "  ('k[98][0]', 'mu[0][0]'): -468.75,\n",
       "  ('k[20][0]', 'mu[4][0]'): -0.457763671875,\n",
       "  ('k[24][0]', 'k[33][0]'): 10.986328125,\n",
       "  ('k[4][0]', 'k[8][0]'): 1.373291015625,\n",
       "  ('k[172][0]', 'mu[4][0]'): -7.32421875,\n",
       "  ('k[40][0]', 'mu[5][0]'): -3.662109375,\n",
       "  ('k[130][0]', 'mu[4][0]'): -0.11444091796875,\n",
       "  ('mu[1][0]', 'mu[4][0]'): 312.5,\n",
       "  ('k[116][0]', 'mu[9][0]'): -0.01430511474609375,\n",
       "  ('k[150][0]', 'mu[2][0]'): -7.32421875,\n",
       "  ('k[103][0]', 'k[104][0]'): 0.171661376953125,\n",
       "  ('k[160][0]', 'k[162][0]'): 5.4931640625,\n",
       "  ('k[112][0]', 'k[117][0]'): 0.6866455078125,\n",
       "  ('k[167][0]', 'mu[8][0]'): -0.0035762786865234375,\n",
       "  ('k[90][0]', 'mu[10][0]'): -0.0286102294921875,\n",
       "  ('k[172][0]', 'k[175][0]'): 2.74658203125,\n",
       "  ('k[40][0]', 'mu[2][0]'): -29.296875,\n",
       "  ('k[166][0]', 'mu[11][0]'): -0.0008940696716308594,\n",
       "  ('k[101][0]', 'mu[10][0]'): -0.057220458984375,\n",
       "  ('k[101][0]', 'mu[7][0]'): -0.457763671875,\n",
       "  ('k[13][0]', 'mu[0][0]'): -937.5,\n",
       "  ('k[171][0]', 'k[175][0]'): 5.4931640625,\n",
       "  ('k[102][0]', 'k[104][0]'): 0.34332275390625,\n",
       "  ('k[101][0]', 'k[99][0]'): 21.97265625,\n",
       "  ('k[99][0]', 'mu[5][0]'): -7.32421875,\n",
       "  ('k[101][0]', 'k[97][0]'): 87.890625,\n",
       "  ('k[162][0]', 'mu[2][0]'): -7.32421875,\n",
       "  ('k[111][0]', 'mu[6][0]'): -3.662109375,\n",
       "  ('k[108][0]', 'k[113][0]'): 175.78125,\n",
       "  ('k[63][0]', 'k[65][0]'): 21.97265625,\n",
       "  ('k[132][0]', 'mu[10][0]'): -1.8310546875,\n",
       "  ('k[102][0]', 'k[103][0]'): 0.6866455078125,\n",
       "  ('k[174][0]', 'mu[4][0]'): -1.8310546875,\n",
       "  ('k[22][0]', 'mu[0][0]'): -1.8310546875,\n",
       "  ('k[75][0]', 'mu[7][0]'): -1.8310546875,\n",
       "  ('k[117][0]', 'mu[5][0]'): -0.11444091796875,\n",
       "  ('k[102][0]', 'k[98][0]'): 21.97265625,\n",
       "  ('k[110][0]', 'mu[1][0]'): -234.375,\n",
       "  ('k[81][0]', 'mu[5][0]'): -0.11444091796875,\n",
       "  ('k[135][0]', 'mu[4][0]'): -14.6484375,\n",
       "  ('k[110][0]', 'k[118][0]'): 1.373291015625,\n",
       "  ('k[105][0]', 'k[106][0]'): 0.010728836059570312,\n",
       "  ('k[58][0]', 'mu[9][0]'): -0.0035762786865234375,\n",
       "  ('k[0][0]', 'mu[11][0]'): -0.91552734375,\n",
       "  ('k[10][0]', 'k[9][0]'): 0.010728836059570312,\n",
       "  ('k[71][0]', 'mu[0][0]'): -0.91552734375,\n",
       "  ('k[105][0]', 'mu[2][0]'): -0.91552734375,\n",
       "  ('k[109][0]', 'k[113][0]'): 87.890625,\n",
       "  ('mu[10][0]', 'mu[11][0]'): 0.00476837158203125,\n",
       "  ('k[39][0]', 'mu[3][0]'): -29.296875,\n",
       "  ('k[143][0]', 'mu[11][0]'): -0.0004470348358154297,\n",
       "  ('k[125][0]', 'k[127][0]'): 1.373291015625,\n",
       "  ('k[110][0]', 'k[115][0]'): 10.986328125,\n",
       "  ('k[75][0]', 'k[78][0]'): 10.986328125,\n",
       "  ('k[84][0]', 'k[94][0]'): 5.4931640625,\n",
       "  ('k[157][0]', 'k[165][0]'): 5.4931640625,\n",
       "  ('k[0][0]', 'mu[2][0]'): -468.75,\n",
       "  ('k[102][0]', 'mu[10][0]'): -0.0286102294921875,\n",
       "  ('k[63][0]', 'k[68][0]'): 2.74658203125,\n",
       "  ('k[150][0]', 'k[155][0]'): 0.04291534423828125,\n",
       "  ('k[102][0]', 'mu[8][0]'): -0.11444091796875,\n",
       "  ('k[0][0]', 'k[3][0]'): 703.125,\n",
       "  ('k[120][0]', 'mu[10][0]'): -1.8310546875,\n",
       "  ('k[87][0]', 'mu[6][0]'): -3.662109375,\n",
       "  ('k[73][0]', 'mu[3][0]'): -117.1875,\n",
       "  ('k[165][0]', 'mu[7][0]'): -0.0286102294921875,\n",
       "  ('k[168][0]', 'mu[10][0]'): -1.8310546875,\n",
       "  ('k[0][0]', 'mu[8][0]'): -7.32421875,\n",
       "  ('k[107][0]', 'mu[11][0]'): -0.0004470348358154297,\n",
       "  ('k[115][0]', 'mu[11][0]'): -0.007152557373046875,\n",
       "  ('k[50][0]', 'k[59][0]'): 0.6866455078125,\n",
       "  ('k[15][0]', 'mu[4][0]'): -14.6484375,\n",
       "  ('k[103][0]', 'mu[10][0]'): -0.01430511474609375,\n",
       "  ('k[5][0]', 'k[7][0]'): 1.373291015625,\n",
       "  ('k[175][0]', 'mu[2][0]'): -3.662109375,\n",
       "  ('k[26][0]', 'mu[10][0]'): -0.457763671875,\n",
       "  ('k[108][0]', 'mu[10][0]'): -1.8310546875,\n",
       "  ('k[106][0]', 'k[97][0]'): 2.74658203125,\n",
       "  ('k[127][0]', 'mu[6][0]'): -0.2288818359375,\n",
       "  ('k[151][0]', 'k[151][0]'): -81.85958862304688,\n",
       "  ('k[11][0]', 'k[9][0]'): 0.005364418029785156,\n",
       "  ('k[111][0]', 'mu[7][0]'): -1.8310546875,\n",
       "  ('k[0][0]', 'mu[3][0]'): -234.375,\n",
       "  ('k[0][0]', 'k[10][0]'): 5.4931640625,\n",
       "  ('k[40][0]', 'mu[1][0]'): -58.59375,\n",
       "  ('k[103][0]', 'mu[5][0]'): -0.457763671875,\n",
       "  ('k[122][0]', 'mu[8][0]'): -1.8310546875,\n",
       "  ('k[101][0]', 'mu[4][0]'): -3.662109375,\n",
       "  ('k[13][0]', 'mu[6][0]'): -14.6484375,\n",
       "  ('k[146][0]', 'mu[4][0]'): -29.296875,\n",
       "  ('k[101][0]', 'k[102][0]'): 2.74658203125,\n",
       "  ('k[106][0]', 'mu[5][0]'): -0.057220458984375,\n",
       "  ('k[95][0]', 'mu[5][0]'): -0.0286102294921875,\n",
       "  ('k[128][0]', 'mu[10][0]'): -0.007152557373046875,\n",
       "  ('k[52][0]', 'mu[4][0]'): -7.32421875,\n",
       "  ('k[113][0]', 'mu[10][0]'): -0.057220458984375,\n",
       "  ('k[23][0]', 'mu[9][0]'): -0.0017881393432617188,\n",
       "  ('k[172][0]', 'k[179][0]'): 0.171661376953125,\n",
       "  ('k[64][0]', 'mu[6][0]'): -1.8310546875,\n",
       "  ('k[104][0]', 'mu[4][0]'): -0.457763671875,\n",
       "  ('k[142][0]', 'mu[3][0]'): -0.2288818359375,\n",
       "  ('k[116][0]', 'mu[4][0]'): -0.457763671875,\n",
       "  ('k[115][0]', 'mu[2][0]'): -3.662109375,\n",
       "  ('k[103][0]', 'mu[6][0]'): -0.2288818359375,\n",
       "  ('k[176][0]', 'k[179][0]'): 0.010728836059570312,\n",
       "  ('k[135][0]', 'mu[2][0]'): -58.59375,\n",
       "  ('k[60][0]', 'mu[4][0]'): -117.1875,\n",
       "  ('k[8][0]', 'mu[7][0]'): -0.057220458984375,\n",
       "  ('k[108][0]', 'k[114][0]'): 87.890625,\n",
       "  ('k[32][0]', 'mu[10][0]'): -0.007152557373046875,\n",
       "  ('k[68][0]', 'mu[0][0]'): -7.32421875,\n",
       "  ('k[173][0]', 'mu[2][0]'): -14.6484375,\n",
       "  ('k[67][0]', 'mu[6][0]'): -0.2288818359375,\n",
       "  ('k[85][0]', 'k[90][0]'): 43.9453125,\n",
       "  ('k[105][0]', 'k[107][0]'): 0.005364418029785156,\n",
       "  ('k[48][0]', 'k[57][0]'): 10.986328125,\n",
       "  ('k[14][0]', 'mu[4][0]'): -29.296875,\n",
       "  ('k[105][0]', 'k[99][0]'): 1.373291015625,\n",
       "  ('k[30][0]', 'k[33][0]'): 0.171661376953125,\n",
       "  ('k[102][0]', 'mu[4][0]'): -1.8310546875,\n",
       "  ('k[40][0]', 'mu[3][0]'): -14.6484375,\n",
       "  ('k[55][0]', 'k[59][0]'): 0.021457672119140625,\n",
       "  ('k[100][0]', 'k[107][0]'): 0.171661376953125,\n",
       "  ('k[8][0]', 'mu[6][0]'): -0.11444091796875,\n",
       "  ('k[25][0]', 'mu[8][0]'): -3.662109375,\n",
       "  ('k[104][0]', 'mu[8][0]'): -0.0286102294921875,\n",
       "  ('k[88][0]', 'k[92][0]'): 1.373291015625,\n",
       "  ('k[18][0]', 'mu[0][0]'): -29.296875,\n",
       "  ('k[151][0]', 'mu[0][0]'): -14.6484375,\n",
       "  ('k[57][0]', 'k[58][0]'): 0.010728836059570312,\n",
       "  ('k[84][0]', 'mu[8][0]'): -7.32421875,\n",
       "  ('k[105][0]', 'mu[11][0]'): -0.0017881393432617188,\n",
       "  ('k[117][0]', 'mu[3][0]'): -0.457763671875,\n",
       "  ('k[3][0]', 'mu[3][0]'): -29.296875,\n",
       "  ('k[76][0]', 'k[79][0]'): 2.74658203125,\n",
       "  ('k[17][0]', 'mu[0][0]'): -58.59375,\n",
       "  ('k[175][0]', 'mu[1][0]'): -7.32421875,\n",
       "  ('k[137][0]', 'k[139][0]'): 1.373291015625,\n",
       "  ('k[165][0]', 'mu[5][0]'): -0.11444091796875,\n",
       "  ('k[105][0]', 'mu[3][0]'): -0.457763671875,\n",
       "  ('k[76][0]', 'k[77][0]'): 10.986328125,\n",
       "  ('k[105][0]', 'mu[7][0]'): -0.0286102294921875,\n",
       "  ('k[142][0]', 'mu[11][0]'): -0.0008940696716308594,\n",
       "  ('k[26][0]', 'k[31][0]'): 10.986328125,\n",
       "  ('k[49][0]', 'k[50][0]'): 703.125,\n",
       "  ('k[176][0]', 'mu[0][0]'): -7.32421875,\n",
       "  ('k[83][0]', 'mu[11][0]'): -0.0004470348358154297,\n",
       "  ('k[33][0]', 'mu[9][0]'): -0.007152557373046875,\n",
       "  ('k[51][0]', 'mu[1][0]'): -117.1875,\n",
       "  ('k[29][0]', 'mu[9][0]'): -0.11444091796875,\n",
       "  ('k[78][0]', 'mu[6][0]'): -0.457763671875,\n",
       "  ('k[132][0]', 'mu[8][0]'): -7.32421875,\n",
       "  ('k[108][0]', 'mu[5][0]'): -58.59375,\n",
       "  ('k[83][0]', 'mu[1][0]'): -0.457763671875,\n",
       "  ('k[120][0]', 'mu[5][0]'): -58.59375,\n",
       "  ('k[106][0]', 'mu[1][0]'): -0.91552734375,\n",
       "  ('k[181][0]', 'k[185][0]'): 87.890625,\n",
       "  ('k[157][0]', 'mu[0][0]'): -937.5,\n",
       "  ('k[27][0]', 'mu[11][0]'): -0.11444091796875,\n",
       "  ('k[182][0]', 'mu[7][0]'): -3.662109375,\n",
       "  ('k[0][0]', 'k[1][0]'): 2812.5,\n",
       "  ('k[11][0]', 'k[1][0]'): 1.373291015625,\n",
       "  ('k[95][0]', 'mu[2][0]'): -0.2288818359375,\n",
       "  ('k[53][0]', 'mu[5][0]'): -1.8310546875,\n",
       "  ('k[103][0]', 'k[107][0]'): 0.021457672119140625,\n",
       "  ('k[30][0]', 'mu[9][0]'): -0.057220458984375,\n",
       "  ('k[160][0]', 'k[161][0]'): 10.986328125,\n",
       "  ('k[78][0]', 'mu[1][0]'): -14.6484375,\n",
       "  ('k[158][0]', 'k[161][0]'): 43.9453125,\n",
       "  ('k[24][0]', 'mu[9][0]'): -3.662109375,\n",
       "  ('k[63][0]', 'mu[1][0]'): -117.1875,\n",
       "  ('k[107][0]', 'mu[2][0]'): -0.2288818359375,\n",
       "  ('k[102][0]', 'mu[7][0]'): -0.2288818359375,\n",
       "  ('k[42][0]', 'k[45][0]'): 0.171661376953125,\n",
       "  ('k[108][0]', 'mu[4][0]'): -117.1875,\n",
       "  ('k[153][0]', 'mu[5][0]'): -0.11444091796875,\n",
       "  ('k[158][0]', 'mu[7][0]'): -3.662109375,\n",
       "  ('k[107][0]', 'mu[9][0]'): -0.0017881393432617188,\n",
       "  ('k[106][0]', 'mu[6][0]'): -0.0286102294921875,\n",
       "  ('k[107][0]', 'mu[1][0]'): -0.457763671875,\n",
       "  ('k[64][0]', 'mu[0][0]'): -117.1875,\n",
       "  ('k[119][0]', 'mu[3][0]'): -0.11444091796875,\n",
       "  ('k[107][0]', 'mu[6][0]'): -0.01430511474609375,\n",
       "  ('k[138][0]', 'mu[3][0]'): -3.662109375,\n",
       "  ('k[36][0]', 'k[46][0]'): 5.4931640625,\n",
       "  ('k[49][0]', 'mu[0][0]'): -937.5,\n",
       "  ('k[106][0]', 'k[96][0]'): 5.4931640625,\n",
       "  ('k[110][0]', 'mu[4][0]'): -29.296875,\n",
       "  ('k[43][0]', 'k[45][0]'): 0.0858306884765625,\n",
       "  ('k[14][0]', 'mu[0][0]'): -468.75,\n",
       "  ('k[139][0]', 'mu[11][0]'): -0.007152557373046875,\n",
       "  ('k[53][0]', 'k[57][0]'): 0.34332275390625,\n",
       "  ('k[108][0]', 'k[110][0]'): 1406.25,\n",
       "  ('k[183][0]', 'k[188][0]'): 2.74658203125,\n",
       "  ('k[108][0]', 'k[115][0]'): 43.9453125,\n",
       "  ('k[134][0]', 'mu[5][0]'): -14.6484375,\n",
       "  ('k[9][0]', 'mu[3][0]'): -0.457763671875,\n",
       "  ('k[55][0]', 'mu[2][0]'): -3.662109375,\n",
       "  ('k[68][0]', 'mu[4][0]'): -0.457763671875,\n",
       "  ('k[27][0]', 'mu[0][0]'): -234.375,\n",
       "  ('k[70][0]', 'mu[3][0]'): -0.2288818359375,\n",
       "  ('k[111][0]', 'k[111][0]'): -1268.5546875,\n",
       "  ('k[111][0]', 'mu[9][0]'): -0.457763671875,\n",
       "  ('k[41][0]', 'mu[1][0]'): -29.296875,\n",
       "  ('k[108][0]', 'mu[2][0]'): -468.75,\n",
       "  ('k[104][0]', 'k[105][0]'): 0.04291534423828125,\n",
       "  ('k[4][0]', 'mu[4][0]'): -7.32421875,\n",
       "  ('k[108][0]', 'mu[9][0]'): -3.662109375,\n",
       "  ('k[5][0]', 'mu[11][0]'): -0.0286102294921875,\n",
       "  ('k[90][0]', 'k[90][0]'): -163.3758544921875,\n",
       "  ('k[100][0]', 'mu[9][0]'): -0.2288818359375,\n",
       "  ('k[162][0]', 'mu[0][0]'): -29.296875,\n",
       "  ('k[101][0]', 'k[98][0]'): 43.9453125,\n",
       "  ('k[111][0]', 'k[119][0]'): 0.34332275390625,\n",
       "  ('k[116][0]', 'mu[3][0]'): -0.91552734375,\n",
       "  ('k[87][0]', 'k[91][0]'): 5.4931640625,\n",
       "  ('k[110][0]', 'k[111][0]'): 175.78125,\n",
       "  ('k[107][0]', 'mu[10][0]'): -0.0008940696716308594,\n",
       "  ('k[36][0]', 'mu[8][0]'): -7.32421875,\n",
       "  ('k[23][0]', 'mu[6][0]'): -0.01430511474609375,\n",
       "  ('k[149][0]', 'mu[5][0]'): -1.8310546875,\n",
       "  ('k[100][0]', 'mu[4][0]'): -7.32421875,\n",
       "  ('k[109][0]', 'mu[11][0]'): -0.457763671875,\n",
       "  ('k[147][0]', 'k[151][0]'): 5.4931640625,\n",
       "  ('k[10][0]', 'k[11][0]'): 0.002682209014892578,\n",
       "  ('k[110][0]', 'mu[10][0]'): -0.457763671875,\n",
       "  ('k[98][0]', 'mu[4][0]'): -29.296875,\n",
       "  ('k[132][0]', 'k[142][0]'): 5.4931640625,\n",
       "  ('k[101][0]', 'k[96][0]'): 175.78125,\n",
       "  ('k[152][0]', 'mu[9][0]'): -0.01430511474609375,\n",
       "  ('k[34][0]', 'mu[9][0]'): -0.0035762786865234375,\n",
       "  ('k[118][0]', 'mu[1][0]'): -0.91552734375,\n",
       "  ('k[58][0]', 'mu[7][0]'): -0.01430511474609375,\n",
       "  ('k[120][0]', 'k[123][0]'): 703.125,\n",
       "  ('k[180][0]', 'mu[5][0]'): -58.59375,\n",
       "  ('k[10][0]', 'k[4][0]'): 0.34332275390625,\n",
       "  ('k[25][0]', 'k[34][0]'): 2.74658203125,\n",
       "  ('k[72][0]', 'mu[4][0]'): -117.1875,\n",
       "  ('k[12][0]', 'mu[9][0]'): -3.662109375,\n",
       "  ('k[113][0]', 'mu[2][0]'): -14.6484375,\n",
       "  ('k[147][0]', 'mu[7][0]'): -1.8310546875,\n",
       "  ('k[172][0]', 'mu[1][0]'): -58.59375,\n",
       "  ('k[10][0]', 'k[7][0]'): 0.04291534423828125,\n",
       "  ('k[80][0]', 'mu[7][0]'): -0.057220458984375,\n",
       "  ('k[104][0]', 'mu[1][0]'): -3.662109375,\n",
       "  ('k[10][0]', 'mu[0][0]'): -1.8310546875,\n",
       "  ('k[167][0]', 'mu[3][0]'): -0.11444091796875,\n",
       "  ('k[71][0]', 'mu[7][0]'): -0.007152557373046875,\n",
       "  ('k[10][0]', 'mu[10][0]'): -0.0017881393432617188,\n",
       "  ('k[141][0]', 'mu[11][0]'): -0.0017881393432617188,\n",
       "  ('k[47][0]', 'mu[8][0]'): -0.0035762786865234375,\n",
       "  ('k[110][0]', 'mu[6][0]'): -7.32421875,\n",
       "  ('k[177][0]', 'mu[7][0]'): -0.0286102294921875,\n",
       "  ('k[121][0]', 'mu[9][0]'): -1.8310546875,\n",
       "  ('k[155][0]', 'mu[1][0]'): -0.457763671875,\n",
       "  ('k[110][0]', 'mu[3][0]'): -58.59375,\n",
       "  ('k[123][0]', 'k[131][0]'): 0.34332275390625,\n",
       "  ('k[34][0]', 'mu[0][0]'): -1.8310546875,\n",
       "  ('k[179][0]', 'mu[2][0]'): -0.2288818359375,\n",
       "  ('k[185][0]', 'mu[6][0]'): -0.91552734375,\n",
       "  ('k[41][0]', 'mu[6][0]'): -0.91552734375,\n",
       "  ('k[60][0]', 'mu[9][0]'): -3.662109375,\n",
       "  ('k[10][0]', 'mu[6][0]'): -0.0286102294921875,\n",
       "  ('k[20][0]', 'k[20][0]'): -40.97270965576172,\n",
       "  ('k[118][0]', 'mu[5][0]'): -0.057220458984375,\n",
       "  ('k[135][0]', 'k[137][0]'): 21.97265625,\n",
       "  ('k[120][0]', 'k[130][0]'): 5.4931640625,\n",
       "  ('k[31][0]', 'mu[11][0]'): -0.007152557373046875,\n",
       "  ('k[119][0]', 'mu[6][0]'): -0.01430511474609375,\n",
       "  ('k[81][0]', 'mu[8][0]'): -0.01430511474609375,\n",
       "  ('k[166][0]', 'mu[2][0]'): -0.457763671875,\n",
       "  ('k[18][0]', 'k[20][0]'): 0.34332275390625,\n",
       "  ('k[134][0]', 'k[141][0]'): 2.74658203125,\n",
       "  ('k[112][0]', 'mu[1][0]'): -58.59375,\n",
       "  ('k[180][0]', 'k[190][0]'): 5.4931640625,\n",
       "  ('k[156][0]', 'k[160][0]'): 351.5625,\n",
       "  ('k[82][0]', 'mu[4][0]'): -0.11444091796875,\n",
       "  ('k[154][0]', 'mu[5][0]'): -0.057220458984375,\n",
       "  ('mu[0][0]', 'mu[7][0]'): 78.125,\n",
       "  ('k[172][0]', 'mu[6][0]'): -1.8310546875,\n",
       "  ('k[112][0]', 'k[119][0]'): 0.171661376953125,\n",
       "  ('k[40][0]', 'k[41][0]'): 10.986328125,\n",
       "  ('k[7][0]', 'mu[5][0]'): -0.457763671875,\n",
       "  ('k[162][0]', 'k[163][0]'): 0.6866455078125,\n",
       "  ('k[82][0]', 'mu[9][0]'): -0.0035762786865234375,\n",
       "  ('k[115][0]', 'k[116][0]'): 0.171661376953125,\n",
       "  ('k[187][0]', 'mu[4][0]'): -0.91552734375,\n",
       "  ('k[105][0]', 'k[97][0]'): 5.4931640625,\n",
       "  ('k[186][0]', 'k[191][0]'): 0.04291534423828125,\n",
       "  ('k[121][0]', 'mu[0][0]'): -937.5,\n",
       "  ('k[114][0]', 'k[117][0]'): 0.171661376953125,\n",
       "  ('k[132][0]', 'mu[6][0]'): -29.296875,\n",
       "  ('k[41][0]', 'k[41][0]'): -325.37841796875,\n",
       "  ('k[146][0]', 'mu[7][0]'): -3.662109375,\n",
       "  ('k[118][0]', 'mu[7][0]'): -0.01430511474609375,\n",
       "  ('k[128][0]', 'k[130][0]'): 0.021457672119140625,\n",
       "  ('k[11][0]', 'mu[8][0]'): -0.0035762786865234375,\n",
       "  ('k[111][0]', 'mu[11][0]'): -0.11444091796875,\n",
       "  ('k[41][0]', 'k[42][0]'): 2.74658203125,\n",
       "  ('k[111][0]', 'mu[2][0]'): -58.59375,\n",
       "  ('k[67][0]', 'mu[3][0]'): -1.8310546875,\n",
       "  ('k[13][0]', 'k[21][0]'): 5.4931640625,\n",
       "  ('mu[1][0]', 'mu[5][0]'): 156.25,\n",
       "  ('k[49][0]', 'k[53][0]'): 87.890625,\n",
       "  ('k[60][0]', 'mu[3][0]'): -234.375,\n",
       "  ('k[136][0]', 'k[139][0]'): 2.74658203125,\n",
       "  ('k[156][0]', 'k[166][0]'): 5.4931640625,\n",
       "  ('k[95][0]', 'mu[6][0]'): -0.01430511474609375,\n",
       "  ('k[1][0]', 'mu[10][0]'): -0.91552734375,\n",
       "  ('k[114][0]', 'k[115][0]'): 0.6866455078125,\n",
       "  ('k[62][0]', 'k[68][0]'): 5.4931640625,\n",
       "  ('k[71][0]', 'mu[8][0]'): -0.0035762786865234375,\n",
       "  ('k[111][0]', 'mu[3][0]'): -29.296875,\n",
       "  ('k[56][0]', 'mu[4][0]'): -0.457763671875,\n",
       "  ('k[111][0]', 'mu[8][0]'): -0.91552734375,\n",
       "  ('k[6][0]', 'mu[8][0]'): -0.11444091796875,\n",
       "  ('k[10][0]', 'mu[8][0]'): -0.007152557373046875,\n",
       "  ('k[147][0]', 'k[153][0]'): 1.373291015625,\n",
       "  ('k[112][0]', 'k[118][0]'): 0.34332275390625,\n",
       "  ('k[104][0]', 'mu[2][0]'): -1.8310546875,\n",
       "  ('k[24][0]', 'mu[6][0]'): -29.296875,\n",
       "  ('k[61][0]', 'k[64][0]'): 175.78125,\n",
       "  ('k[112][0]', 'mu[11][0]'): -0.057220458984375,\n",
       "  ('k[0][0]', 'mu[0][0]'): -1875.0,\n",
       "  ('k[112][0]', 'mu[3][0]'): -14.6484375,\n",
       "  ('k[79][0]', 'mu[11][0]'): -0.007152557373046875,\n",
       "  ('k[15][0]', 'mu[2][0]'): -58.59375,\n",
       "  ('k[121][0]', 'mu[7][0]'): -7.32421875,\n",
       "  ('k[157][0]', 'mu[5][0]'): -29.296875,\n",
       "  ('k[135][0]', 'k[138][0]'): 10.986328125,\n",
       "  ('k[101][0]', 'mu[0][0]'): -58.59375,\n",
       "  ('k[20][0]', 'mu[8][0]'): -0.0286102294921875,\n",
       "  ('k[133][0]', 'k[136][0]'): 175.78125,\n",
       "  ('k[121][0]', 'k[126][0]'): 43.9453125,\n",
       "  ('k[102][0]', 'mu[0][0]'): -29.296875,\n",
       "  ('k[168][0]', 'k[168][0]'): -7687.5,\n",
       "  ('k[144][0]', 'mu[8][0]'): -7.32421875,\n",
       "  ('k[35][0]', 'mu[0][0]'): -0.91552734375,\n",
       "  ('k[165][0]', 'mu[2][0]'): -0.91552734375,\n",
       "  ('k[84][0]', 'k[84][0]'): -7687.5,\n",
       "  ('k[62][0]', 'mu[2][0]'): -117.1875,\n",
       "  ('k[26][0]', 'mu[8][0]'): -1.8310546875,\n",
       "  ('k[63][0]', 'mu[8][0]'): -0.91552734375,\n",
       "  ('k[10][0]', 'mu[11][0]'): -0.0008940696716308594,\n",
       "  ('k[94][0]', 'mu[6][0]'): -0.0286102294921875,\n",
       "  ('k[29][0]', 'mu[6][0]'): -0.91552734375,\n",
       "  ('k[98][0]', 'mu[1][0]'): -234.375,\n",
       "  ('k[127][0]', 'mu[4][0]'): -0.91552734375,\n",
       "  ('k[107][0]', 'mu[4][0]'): -0.057220458984375,\n",
       "  ('k[125][0]', 'mu[1][0]'): -29.296875,\n",
       "  ('k[103][0]', 'mu[8][0]'): -0.057220458984375,\n",
       "  ('k[138][0]', 'mu[9][0]'): -0.057220458984375,\n",
       "  ('k[135][0]', 'mu[9][0]'): -0.457763671875,\n",
       "  ('k[16][0]', 'mu[8][0]'): -0.457763671875,\n",
       "  ('k[108][0]', 'mu[11][0]'): -0.91552734375,\n",
       "  ('k[145][0]', 'k[154][0]'): 2.74658203125,\n",
       "  ('mu[1][0]', 'mu[6][0]'): 78.125,\n",
       "  ('k[109][0]', 'k[111][0]'): 351.5625,\n",
       "  ('k[166][0]', 'mu[0][0]'): -1.8310546875,\n",
       "  ('k[102][0]', 'k[99][0]'): 10.986328125,\n",
       "  ('k[110][0]', 'mu[7][0]'): -3.662109375,\n",
       "  ('k[109][0]', 'k[116][0]'): 10.986328125,\n",
       "  ('k[120][0]', 'mu[11][0]'): -0.91552734375,\n",
       "  ('k[70][0]', 'mu[1][0]'): -0.91552734375,\n",
       "  ('k[166][0]', 'mu[10][0]'): -0.0017881393432617188,\n",
       "  ('k[166][0]', 'mu[4][0]'): -0.11444091796875,\n",
       "  ('k[123][0]', 'k[128][0]'): 2.74658203125,\n",
       "  ('k[123][0]', 'mu[6][0]'): -3.662109375,\n",
       "  ('k[113][0]', 'mu[0][0]'): -58.59375,\n",
       "  ('k[100][0]', 'mu[6][0]'): -1.8310546875,\n",
       "  ('k[113][0]', 'mu[5][0]'): -1.8310546875,\n",
       "  ('k[77][0]', 'mu[11][0]'): -0.0286102294921875,\n",
       "  ('k[179][0]', 'mu[0][0]'): -0.91552734375,\n",
       "  ('k[16][0]', 'mu[9][0]'): -0.2288818359375,\n",
       "  ('k[126][0]', 'k[128][0]'): 0.34332275390625,\n",
       "  ('k[20][0]', 'mu[7][0]'): -0.057220458984375,\n",
       "  ('k[188][0]', 'k[190][0]'): 0.021457672119140625,\n",
       "  ('k[127][0]', 'mu[5][0]'): -0.457763671875,\n",
       "  ('k[26][0]', 'mu[4][0]'): -29.296875,\n",
       "  ('k[114][0]', 'k[118][0]'): 0.0858306884765625,\n",
       "  ('k[165][0]', 'mu[11][0]'): -0.0017881393432617188,\n",
       "  ('k[191][0]', 'mu[3][0]'): -0.11444091796875,\n",
       "  ('k[161][0]', 'mu[1][0]'): -29.296875,\n",
       "  ('k[26][0]', 'k[28][0]'): 87.890625,\n",
       "  ('k[81][0]', 'k[83][0]'): 0.005364418029785156,\n",
       "  ('k[157][0]', 'k[163][0]'): 21.97265625,\n",
       "  ('k[111][0]', 'k[116][0]'): 2.74658203125,\n",
       "  ('k[25][0]', 'k[33][0]'): 5.4931640625,\n",
       "  ('k[107][0]', 'mu[8][0]'): -0.0035762786865234375,\n",
       "  ('k[127][0]', 'mu[1][0]'): -7.32421875,\n",
       "  ('k[67][0]', 'mu[5][0]'): -0.457763671875,\n",
       "  ('k[122][0]', 'mu[10][0]'): -0.457763671875,\n",
       "  ('k[114][0]', 'mu[9][0]'): -0.057220458984375,\n",
       "  ('k[3][0]', 'k[4][0]'): 43.9453125,\n",
       "  ('k[174][0]', 'mu[11][0]'): -0.01430511474609375,\n",
       "  ('k[135][0]', 'k[141][0]'): 1.373291015625,\n",
       "  ('k[111][0]', 'mu[10][0]'): -0.2288818359375,\n",
       "  ('k[24][0]', 'k[27][0]'): 703.125,\n",
       "  ('k[100][0]', 'mu[10][0]'): -0.11444091796875,\n",
       "  ('k[115][0]', 'k[118][0]'): 0.04291534423828125,\n",
       "  ('k[50][0]', 'mu[2][0]'): -117.1875,\n",
       "  ('k[27][0]', 'k[35][0]'): 0.34332275390625,\n",
       "  ('k[115][0]', 'mu[5][0]'): -0.457763671875,\n",
       "  ('k[124][0]', 'k[125][0]'): 10.986328125,\n",
       "  ('k[104][0]', 'k[98][0]'): 5.4931640625,\n",
       "  ('k[64][0]', 'mu[8][0]'): -0.457763671875,\n",
       "  ('k[117][0]', 'mu[1][0]'): -1.8310546875,\n",
       "  ('k[85][0]', 'k[87][0]'): 351.5625,\n",
       "  ('k[157][0]', 'k[167][0]'): 1.373291015625,\n",
       "  ('k[115][0]', 'mu[7][0]'): -0.11444091796875,\n",
       "  ('k[140][0]', 'mu[8][0]'): -0.0286102294921875,\n",
       "  ('k[113][0]', 'mu[4][0]'): -3.662109375,\n",
       "  ('k[178][0]', 'mu[8][0]'): -0.007152557373046875,\n",
       "  ('k[113][0]', 'k[117][0]'): 0.34332275390625,\n",
       "  ('k[175][0]', 'mu[0][0]'): -14.6484375,\n",
       "  ('k[82][0]', 'k[82][0]'): -10.251224040985107,\n",
       "  ('k[187][0]', 'mu[6][0]'): -0.2288818359375,\n",
       "  ('k[10][0]', 'mu[5][0]'): -0.057220458984375,\n",
       "  ('k[103][0]', 'k[96][0]'): 43.9453125,\n",
       "  ('k[46][0]', 'mu[10][0]'): -0.0017881393432617188,\n",
       "  ('k[40][0]', 'k[43][0]'): 2.74658203125,\n",
       "  ('k[13][0]', 'mu[9][0]'): -1.8310546875,\n",
       "  ('k[76][0]', 'k[78][0]'): 5.4931640625,\n",
       "  ('k[149][0]', 'k[151][0]'): 1.373291015625,\n",
       "  ('k[145][0]', 'k[147][0]'): 351.5625,\n",
       "  ('k[7][0]', 'mu[11][0]'): -0.007152557373046875,\n",
       "  ('k[120][0]', 'k[124][0]'): 351.5625,\n",
       "  ('k[118][0]', 'mu[11][0]'): -0.0008940696716308594,\n",
       "  ('k[23][0]', 'mu[11][0]'): -0.0004470348358154297,\n",
       "  ('k[112][0]', 'mu[9][0]'): -0.2288818359375,\n",
       "  ('k[100][0]', 'k[104][0]'): 1.373291015625,\n",
       "  ('k[122][0]', 'mu[3][0]'): -58.59375,\n",
       "  ('k[163][0]', 'mu[3][0]'): -1.8310546875,\n",
       "  ('k[169][0]', 'mu[10][0]'): -0.91552734375,\n",
       "  ('k[132][0]', 'mu[9][0]'): -3.662109375,\n",
       "  ('k[41][0]', 'mu[0][0]'): -58.59375,\n",
       "  ('k[116][0]', 'mu[5][0]'): -0.2288818359375,\n",
       "  ('k[171][0]', 'mu[2][0]'): -58.59375,\n",
       "  ('k[159][0]', 'mu[2][0]'): -58.59375,\n",
       "  ('k[168][0]', 'mu[1][0]'): -937.5,\n",
       "  ('k[73][0]', 'mu[6][0]'): -14.6484375,\n",
       "  ('k[87][0]', 'k[88][0]'): 43.9453125,\n",
       "  ('mu[11][0]', 'mu[9][0]'): 0.0095367431640625,\n",
       "  ('k[87][0]', 'mu[9][0]'): -0.457763671875,\n",
       "  ('k[118][0]', 'mu[6][0]'): -0.0286102294921875,\n",
       "  ('k[117][0]', 'k[118][0]'): 0.010728836059570312,\n",
       "  ('k[69][0]', 'mu[2][0]'): -0.91552734375,\n",
       "  ('k[102][0]', 'k[107][0]'): 0.04291534423828125,\n",
       "  ('k[105][0]', 'mu[4][0]'): -0.2288818359375,\n",
       "  ('k[10][0]', 'k[5][0]'): 0.171661376953125,\n",
       "  ('k[14][0]', 'k[20][0]'): 5.4931640625,\n",
       "  ('k[117][0]', 'mu[4][0]'): -0.2288818359375,\n",
       "  ('k[39][0]', 'k[47][0]'): 0.34332275390625,\n",
       "  ('k[61][0]', 'k[70][0]'): 2.74658203125,\n",
       "  ('k[51][0]', 'k[56][0]'): 2.74658203125,\n",
       "  ('k[161][0]', 'k[163][0]'): 1.373291015625,\n",
       "  ('mu[0][0]', 'mu[8][0]'): 39.0625,\n",
       "  ('k[102][0]', 'k[106][0]'): 0.0858306884765625,\n",
       "  ('k[12][0]', 'k[14][0]'): 1406.25,\n",
       "  ('k[63][0]', 'mu[0][0]'): -234.375,\n",
       "  ('k[129][0]', 'mu[5][0]'): -0.11444091796875,\n",
       "  ('k[91][0]', 'mu[0][0]'): -14.6484375,\n",
       "  ('k[105][0]', 'k[96][0]'): 10.986328125,\n",
       "  ('k[12][0]', 'k[22][0]'): 5.4931640625,\n",
       "  ('k[151][0]', 'mu[8][0]'): -0.057220458984375,\n",
       "  ('k[107][0]', 'k[97][0]'): 1.373291015625,\n",
       "  ('k[180][0]', 'mu[10][0]'): -1.8310546875,\n",
       "  ('k[144][0]', 'mu[0][0]'): -1875.0,\n",
       "  ('k[90][0]', 'mu[1][0]'): -14.6484375,\n",
       "  ('k[165][0]', 'mu[0][0]'): -3.662109375,\n",
       "  ('k[115][0]', 'mu[1][0]'): -7.32421875,\n",
       "  ('k[183][0]', 'k[191][0]'): 0.34332275390625,\n",
       "  ('k[15][0]', 'k[18][0]'): 10.986328125,\n",
       "  ('k[147][0]', 'mu[6][0]'): -3.662109375,\n",
       "  ('k[178][0]', 'mu[11][0]'): -0.0008940696716308594,\n",
       "  ('k[119][0]', 'mu[0][0]'): -0.91552734375,\n",
       "  ('k[145][0]', 'k[153][0]'): 5.4931640625,\n",
       "  ('k[109][0]', 'k[110][0]'): 703.125,\n",
       "  ('k[126][0]', 'mu[4][0]'): -1.8310546875,\n",
       "  ('k[159][0]', 'k[165][0]'): 1.373291015625,\n",
       "  ('k[121][0]', 'k[124][0]'): 175.78125,\n",
       "  ('k[51][0]', 'mu[5][0]'): -7.32421875,\n",
       "  ('k[119][0]', 'mu[4][0]'): -0.057220458984375,\n",
       "  ('k[72][0]', 'mu[1][0]'): -937.5,\n",
       "  ('k[119][0]', 'mu[8][0]'): -0.0035762786865234375,\n",
       "  ('k[111][0]', 'mu[5][0]'): -7.32421875,\n",
       "  ('k[113][0]', 'k[116][0]'): 0.6866455078125,\n",
       "  ('k[118][0]', 'mu[9][0]'): -0.0035762786865234375,\n",
       "  ('k[84][0]', 'mu[4][0]'): -117.1875,\n",
       "  ('k[184][0]', 'k[184][0]'): -645.263671875,\n",
       "  ('k[156][0]', 'k[156][0]'): 3562.5,\n",
       "  ('k[41][0]', 'k[47][0]'): 0.0858306884765625,\n",
       "  ('k[70][0]', 'mu[8][0]'): -0.007152557373046875,\n",
       "  ('mu[4][0]', 'mu[8][0]'): 2.44140625,\n",
       "  ('k[107][0]', 'mu[3][0]'): -0.11444091796875,\n",
       "  ('k[106][0]', 'mu[11][0]'): -0.0008940696716308594,\n",
       "  ('k[164][0]', 'mu[9][0]'): -0.01430511474609375,\n",
       "  ('k[2][0]', 'mu[3][0]'): -58.59375,\n",
       "  ('k[2][0]', 'mu[4][0]'): -29.296875,\n",
       "  ('k[11][0]', 'k[8][0]'): 0.010728836059570312,\n",
       "  ('k[108][0]', 'mu[1][0]'): -937.5,\n",
       "  ('k[12][0]', 'k[13][0]'): 2812.5,\n",
       "  ('k[72][0]', 'k[82][0]'): 5.4931640625,\n",
       "  ('k[172][0]', 'mu[0][0]'): -117.1875,\n",
       "  ('k[147][0]', 'mu[11][0]'): -0.11444091796875,\n",
       "  ('k[163][0]', 'mu[1][0]'): -7.32421875,\n",
       "  ('k[20][0]', 'k[23][0]'): 0.010728836059570312,\n",
       "  ('k[76][0]', 'mu[2][0]'): -29.296875,\n",
       "  ('k[132][0]', 'k[137][0]'): 175.78125,\n",
       "  ('k[28][0]', 'mu[7][0]'): -0.91552734375,\n",
       "  ('k[144][0]', 'k[152][0]'): 21.97265625,\n",
       "  ('k[124][0]', 'mu[8][0]'): -0.457763671875,\n",
       "  ('k[107][0]', 'mu[7][0]'): -0.007152557373046875,\n",
       "  ('k[28][0]', 'k[32][0]'): 1.373291015625,\n",
       "  ('k[156][0]', 'mu[11][0]'): -0.91552734375,\n",
       "  ('mu[1][0]', 'mu[2][0]'): 1250.0,\n",
       "  ('k[11][0]', 'mu[9][0]'): -0.0017881393432617188,\n",
       "  ('k[145][0]', 'mu[2][0]'): -234.375,\n",
       "  ('k[157][0]', 'mu[3][0]'): -117.1875,\n",
       "  ('k[122][0]', 'mu[2][0]'): -117.1875,\n",
       "  ('k[190][0]', 'mu[5][0]'): -0.057220458984375,\n",
       "  ('k[164][0]', 'k[165][0]'): 0.04291534423828125,\n",
       "  ('k[7][0]', 'mu[8][0]'): -0.057220458984375,\n",
       "  ('k[120][0]', 'k[121][0]'): 2812.5,\n",
       "  ('k[63][0]', 'mu[4][0]'): -14.6484375,\n",
       "  ('k[23][0]', 'k[23][0]'): -5.126282572746277,\n",
       "  ('k[6][0]', 'mu[10][0]'): -0.0286102294921875,\n",
       "  ('k[109][0]', 'k[118][0]'): 2.74658203125,\n",
       "  ('k[120][0]', 'k[122][0]'): 1406.25,\n",
       "  ('mu[10][0]', 'mu[1][0]'): 4.8828125,\n",
       "  ('k[156][0]', 'k[161][0]'): 175.78125,\n",
       "  ('k[115][0]', 'k[119][0]'): 0.021457672119140625,\n",
       "  ('k[105][0]', 'mu[1][0]'): -1.8310546875,\n",
       "  ('k[120][0]', 'k[127][0]'): 43.9453125,\n",
       "  ('k[167][0]', 'mu[6][0]'): -0.01430511474609375,\n",
       "  ('k[133][0]', 'mu[11][0]'): -0.457763671875,\n",
       "  ('k[120][0]', 'k[128][0]'): 21.97265625,\n",
       "  ('k[123][0]', 'k[127][0]'): 5.4931640625,\n",
       "  ('k[10][0]', 'mu[7][0]'): -0.01430511474609375,\n",
       "  ('k[14][0]', 'k[15][0]'): 175.78125,\n",
       "  ('k[120][0]', 'k[129][0]'): 10.986328125,\n",
       "  ('k[171][0]', 'mu[10][0]'): -0.2288818359375,\n",
       "  ('k[180][0]', 'mu[6][0]'): -29.296875,\n",
       "  ('k[134][0]', 'k[135][0]'): 175.78125,\n",
       "  ('k[165][0]', 'k[166][0]'): 0.010728836059570312,\n",
       "  ('k[120][0]', 'mu[6][0]'): -29.296875,\n",
       "  ('k[144][0]', 'k[147][0]'): 703.125,\n",
       "  ('k[171][0]', 'k[176][0]'): 2.74658203125,\n",
       "  ('k[97][0]', 'k[99][0]'): 351.5625,\n",
       "  ('k[16][0]', 'mu[2][0]'): -29.296875,\n",
       "  ('k[121][0]', 'k[128][0]'): 10.986328125,\n",
       "  ('k[83][0]', 'mu[3][0]'): -0.11444091796875,\n",
       "  ('k[163][0]', 'mu[4][0]'): -0.91552734375,\n",
       "  ('k[75][0]', 'k[80][0]'): 2.74658203125,\n",
       "  ('k[86][0]', 'k[88][0]'): 87.890625,\n",
       "  ('k[106][0]', 'mu[0][0]'): -1.8310546875,\n",
       "  ('k[146][0]', 'mu[6][0]'): -7.32421875,\n",
       "  ('k[111][0]', 'k[112][0]'): 43.9453125,\n",
       "  ('k[96][0]', 'mu[10][0]'): -1.8310546875,\n",
       "  ('k[66][0]', 'mu[8][0]'): -0.11444091796875,\n",
       "  ('k[12][0]', 'k[19][0]'): 43.9453125,\n",
       "  ('k[173][0]', 'mu[7][0]'): -0.457763671875,\n",
       "  ('k[121][0]', 'k[130][0]'): 2.74658203125,\n",
       "  ('k[21][0]', 'mu[3][0]'): -0.457763671875,\n",
       "  ('k[9][0]', 'k[9][0]'): -20.49708366394043,\n",
       "  ('k[137][0]', 'mu[7][0]'): -0.457763671875,\n",
       "  ('k[101][0]', 'mu[8][0]'): -0.2288818359375,\n",
       "  ('k[61][0]', 'mu[8][0]'): -3.662109375,\n",
       "  ('k[105][0]', 'mu[6][0]'): -0.057220458984375,\n",
       "  ('k[103][0]', 'mu[9][0]'): -0.0286102294921875,\n",
       "  ('k[171][0]', 'mu[1][0]'): -117.1875,\n",
       "  ('k[122][0]', 'k[126][0]'): 21.97265625,\n",
       "  ('k[122][0]', 'k[128][0]'): 5.4931640625,\n",
       "  ('k[105][0]', 'mu[5][0]'): -0.11444091796875,\n",
       "  ('k[54][0]', 'mu[7][0]'): -0.2288818359375,\n",
       "  ('k[122][0]', 'k[130][0]'): 1.373291015625,\n",
       "  ('k[74][0]', 'k[79][0]'): 10.986328125,\n",
       "  ('k[122][0]', 'mu[0][0]'): -468.75,\n",
       "  ('k[122][0]', 'mu[11][0]'): -0.2288818359375,\n",
       "  ('k[16][0]', 'mu[7][0]'): -0.91552734375,\n",
       "  ('k[131][0]', 'mu[11][0]'): -0.0004470348358154297,\n",
       "  ('k[173][0]', 'k[175][0]'): 1.373291015625,\n",
       "  ('k[52][0]', 'k[52][0]'): -645.263671875,\n",
       "  ('k[122][0]', 'mu[4][0]'): -29.296875,\n",
       "  ('k[132][0]', 'k[133][0]'): 2812.5,\n",
       "  ('k[28][0]', 'mu[1][0]'): -58.59375,\n",
       "  ('k[141][0]', 'mu[5][0]'): -0.11444091796875,\n",
       "  ('k[81][0]', 'mu[4][0]'): -0.2288818359375,\n",
       "  ('k[124][0]', 'mu[0][0]'): -117.1875,\n",
       "  ('k[100][0]', 'mu[11][0]'): -0.057220458984375,\n",
       "  ('k[122][0]', 'mu[5][0]'): -14.6484375,\n",
       "  ('k[173][0]', 'k[179][0]'): 0.0858306884765625,\n",
       "  ('k[122][0]', 'mu[6][0]'): -7.32421875,\n",
       "  ('k[103][0]', 'mu[4][0]'): -0.91552734375,\n",
       "  ('k[152][0]', 'mu[4][0]'): -0.457763671875,\n",
       "  ('k[117][0]', 'mu[2][0]'): -0.91552734375,\n",
       "  ('k[112][0]', 'k[114][0]'): 5.4931640625,\n",
       "  ('k[101][0]', 'k[106][0]'): 0.171661376953125,\n",
       "  ('k[170][0]', 'k[173][0]'): 43.9453125,\n",
       "  ('k[144][0]', 'mu[7][0]'): -14.6484375,\n",
       "  ('k[6][0]', 'k[6][0]'): -163.3758544921875,\n",
       "  ('k[83][0]', 'mu[9][0]'): -0.0017881393432617188,\n",
       "  ('k[17][0]', 'k[23][0]'): 0.0858306884765625,\n",
       "  ('k[39][0]', 'k[41][0]'): 21.97265625,\n",
       "  ('k[64][0]', 'mu[4][0]'): -7.32421875,\n",
       "  ('k[123][0]', 'mu[0][0]'): -234.375,\n",
       "  ('k[123][0]', 'mu[10][0]'): -0.2288818359375,\n",
       "  ('k[45][0]', 'mu[0][0]'): -3.662109375,\n",
       "  ('k[121][0]', 'mu[5][0]'): -29.296875,\n",
       "  ('k[159][0]', 'k[162][0]'): 10.986328125,\n",
       "  ('k[85][0]', 'mu[7][0]'): -7.32421875,\n",
       "  ('k[123][0]', 'mu[11][0]'): -0.11444091796875,\n",
       "  ('k[117][0]', 'mu[6][0]'): -0.057220458984375,\n",
       "  ('k[55][0]', 'k[58][0]'): 0.04291534423828125,\n",
       "  ('k[60][0]', 'k[65][0]'): 175.78125,\n",
       "  ('k[54][0]', 'mu[0][0]'): -29.296875,\n",
       "  ('k[36][0]', 'mu[1][0]'): -937.5,\n",
       "  ('k[155][0]', 'mu[2][0]'): -0.2288818359375,\n",
       "  ('k[123][0]', 'mu[4][0]'): -14.6484375,\n",
       "  ('k[32][0]', 'mu[1][0]'): -3.662109375,\n",
       "  ('k[68][0]', 'k[70][0]'): 0.021457672119140625,\n",
       "  ('k[123][0]', 'mu[7][0]'): -1.8310546875,\n",
       "  ('k[127][0]', 'k[130][0]'): 0.04291534423828125,\n",
       "  ('k[102][0]', 'mu[2][0]'): -7.32421875,\n",
       "  ('k[74][0]', 'mu[4][0]'): -29.296875,\n",
       "  ('k[175][0]', 'k[177][0]'): 0.0858306884765625,\n",
       "  ('k[37][0]', 'mu[3][0]'): -117.1875,\n",
       "  ('k[10][0]', 'mu[1][0]'): -0.91552734375,\n",
       "  ('k[102][0]', 'mu[6][0]'): -0.457763671875,\n",
       "  ('k[150][0]', 'k[151][0]'): 0.6866455078125,\n",
       "  ('k[124][0]', 'k[127][0]'): 2.74658203125,\n",
       "  ('k[111][0]', 'k[118][0]'): 0.6866455078125,\n",
       "  ('k[113][0]', 'mu[1][0]'): -29.296875,\n",
       "  ('k[37][0]', 'mu[1][0]'): -468.75,\n",
       "  ('k[100][0]', 'k[102][0]'): 5.4931640625,\n",
       "  ('k[64][0]', 'k[66][0]'): 5.4931640625,\n",
       "  ('k[121][0]', 'mu[1][0]'): -468.75,\n",
       "  ('k[124][0]', 'k[129][0]'): 0.6866455078125,\n",
       "  ('k[145][0]', 'k[151][0]'): 21.97265625,\n",
       "  ('k[115][0]', 'mu[10][0]'): -0.01430511474609375,\n",
       "  ('k[16][0]', 'k[18][0]'): 5.4931640625,\n",
       "  ('k[15][0]', 'k[22][0]'): 0.6866455078125,\n",
       "  ('k[111][0]', 'k[114][0]'): 10.986328125,\n",
       "  ('k[57][0]', 'mu[7][0]'): -0.0286102294921875,\n",
       "  ('k[100][0]', 'k[96][0]'): 351.5625,\n",
       "  ('k[73][0]', 'mu[2][0]'): -234.375,\n",
       "  ('k[145][0]', 'mu[6][0]'): -14.6484375,\n",
       "  ('k[165][0]', 'mu[4][0]'): -0.2288818359375,\n",
       "  ('k[131][0]', 'mu[1][0]'): -0.457763671875,\n",
       "  ('k[133][0]', 'k[135][0]'): 351.5625,\n",
       "  ('k[124][0]', 'k[131][0]'): 0.171661376953125,\n",
       "  ('k[91][0]', 'mu[9][0]'): -0.0286102294921875,\n",
       "  ('k[24][0]', 'mu[3][0]'): -234.375,\n",
       "  ('k[169][0]', 'mu[6][0]'): -14.6484375,\n",
       "  ('k[91][0]', 'k[95][0]'): 0.021457672119140625,\n",
       "  ('k[124][0]', 'mu[10][0]'): -0.11444091796875,\n",
       "  ('k[32][0]', 'mu[2][0]'): -1.8310546875,\n",
       "  ('k[130][0]', 'mu[8][0]'): -0.007152557373046875,\n",
       "  ('k[123][0]', 'mu[9][0]'): -0.457763671875,\n",
       "  ('k[166][0]', 'mu[7][0]'): -0.01430511474609375,\n",
       "  ('k[25][0]', 'mu[3][0]'): -117.1875,\n",
       "  ('k[124][0]', 'mu[3][0]'): -14.6484375,\n",
       "  ('k[121][0]', 'mu[6][0]'): -14.6484375,\n",
       "  ('mu[2][0]', 'mu[8][0]'): 9.765625,\n",
       "  ('k[175][0]', 'mu[4][0]'): -0.91552734375,\n",
       "  ('k[2][0]', 'k[3][0]'): 175.78125,\n",
       "  ('k[124][0]', 'mu[4][0]'): -7.32421875,\n",
       "  ('k[87][0]', 'mu[7][0]'): -1.8310546875,\n",
       "  ('k[124][0]', 'mu[5][0]'): -3.662109375,\n",
       "  ('k[165][0]', 'mu[9][0]'): -0.007152557373046875,\n",
       "  ('k[175][0]', 'mu[8][0]'): -0.057220458984375,\n",
       "  ('k[124][0]', 'mu[9][0]'): -0.2288818359375,\n",
       "  ('k[137][0]', 'mu[6][0]'): -0.91552734375,\n",
       "  ('k[36][0]', 'mu[7][0]'): -14.6484375,\n",
       "  ('k[174][0]', 'mu[5][0]'): -0.91552734375,\n",
       "  ('k[127][0]', 'mu[7][0]'): -0.11444091796875,\n",
       "  ('k[120][0]', 'mu[0][0]'): -1875.0,\n",
       "  ('k[69][0]', 'mu[8][0]'): -0.01430511474609375,\n",
       "  ('k[142][0]', 'mu[4][0]'): -0.11444091796875,\n",
       "  ('k[125][0]', 'k[130][0]'): 0.171661376953125,\n",
       "  ('k[48][0]', 'k[56][0]'): 21.97265625,\n",
       "  ('k[165][0]', 'mu[1][0]'): -1.8310546875,\n",
       "  ('k[191][0]', 'mu[11][0]'): -0.0004470348358154297,\n",
       "  ('k[23][0]', 'mu[4][0]'): -0.057220458984375,\n",
       "  ('k[170][0]', 'mu[6][0]'): -7.32421875,\n",
       "  ('k[0][0]', 'k[7][0]'): 43.9453125,\n",
       "  ('k[180][0]', 'mu[7][0]'): -14.6484375,\n",
       "  ('k[82][0]', 'mu[8][0]'): -0.007152557373046875,\n",
       "  ('k[125][0]', 'mu[0][0]'): -58.59375,\n",
       "  ('k[174][0]', 'mu[2][0]'): -7.32421875,\n",
       "  ('k[29][0]', 'mu[0][0]'): -58.59375,\n",
       "  ('k[31][0]', 'k[35][0]'): 0.021457672119140625,\n",
       "  ('k[126][0]', 'mu[6][0]'): -0.457763671875,\n",
       "  ('k[11][0]', 'mu[1][0]'): -0.457763671875,\n",
       "  ('k[109][0]', 'mu[3][0]'): -117.1875,\n",
       "  ('k[51][0]', 'k[55][0]'): 5.4931640625,\n",
       "  ('k[133][0]', 'k[143][0]'): 1.373291015625,\n",
       "  ('k[103][0]', 'k[97][0]'): 21.97265625,\n",
       "  ('k[46][0]', 'mu[2][0]'): -0.457763671875,\n",
       "  ('k[12][0]', 'k[16][0]'): 351.5625,\n",
       "  ('k[137][0]', 'k[137][0]'): -325.37841796875,\n",
       "  ('k[136][0]', 'k[136][0]'): -645.263671875,\n",
       "  ('k[109][0]', 'k[117][0]'): 5.4931640625,\n",
       "  ('k[101][0]', 'mu[11][0]'): -0.0286102294921875,\n",
       "  ('k[16][0]', 'mu[5][0]'): -3.662109375,\n",
       "  ('k[126][0]', 'k[129][0]'): 0.171661376953125,\n",
       "  ('k[63][0]', 'k[66][0]'): 10.986328125,\n",
       "  ('k[145][0]', 'mu[10][0]'): -0.91552734375,\n",
       "  ('k[168][0]', 'mu[11][0]'): -0.91552734375,\n",
       "  ('k[183][0]', 'mu[6][0]'): -3.662109375,\n",
       "  ('k[126][0]', 'k[131][0]'): 0.04291534423828125,\n",
       "  ('k[136][0]', 'k[138][0]'): 5.4931640625,\n",
       "  ('k[126][0]', 'mu[0][0]'): -29.296875,\n",
       "  ('k[15][0]', 'k[17][0]'): 21.97265625,\n",
       "  ('k[185][0]', 'mu[1][0]'): -29.296875,\n",
       "  ('k[149][0]', 'mu[6][0]'): -0.91552734375,\n",
       "  ('k[14][0]', 'k[21][0]'): 2.74658203125,\n",
       "  ('k[121][0]', 'mu[8][0]'): -3.662109375,\n",
       "  ('k[116][0]', 'mu[2][0]'): -1.8310546875,\n",
       "  ('k[66][0]', 'mu[2][0]'): -7.32421875,\n",
       "  ('k[168][0]', 'mu[5][0]'): -58.59375,\n",
       "  ('k[114][0]', 'mu[0][0]'): -29.296875,\n",
       "  ('k[160][0]', 'mu[10][0]'): -0.11444091796875,\n",
       "  ('k[129][0]', 'mu[7][0]'): -0.0286102294921875,\n",
       "  ('k[51][0]', 'k[57][0]'): 1.373291015625,\n",
       "  ('k[127][0]', 'k[131][0]'): 0.021457672119140625,\n",
       "  ('k[29][0]', 'k[35][0]'): 0.0858306884765625,\n",
       "  ('k[120][0]', 'mu[7][0]'): -14.6484375,\n",
       "  ('k[152][0]', 'k[153][0]'): 0.04291534423828125,\n",
       "  ('k[109][0]', 'mu[0][0]'): -937.5,\n",
       "  ('k[127][0]', 'mu[0][0]'): -14.6484375,\n",
       "  ('k[142][0]', 'mu[9][0]'): -0.0035762786865234375,\n",
       "  ('k[183][0]', 'k[183][0]'): -1268.5546875,\n",
       "  ('k[109][0]', 'mu[2][0]'): -234.375,\n",
       "  ('k[118][0]', 'mu[3][0]'): -0.2288818359375,\n",
       "  ('k[112][0]', 'mu[7][0]'): -0.91552734375,\n",
       "  ('k[127][0]', 'mu[10][0]'): -0.01430511474609375,\n",
       "  ('k[53][0]', 'mu[7][0]'): -0.457763671875,\n",
       "  ('k[68][0]', 'k[69][0]'): 0.04291534423828125,\n",
       "  ('k[159][0]', 'mu[9][0]'): -0.457763671875,\n",
       "  ('k[103][0]', 'mu[1][0]'): -7.32421875,\n",
       "  ('k[156][0]', 'mu[6][0]'): -29.296875,\n",
       "  ('k[36][0]', 'k[45][0]'): 10.986328125,\n",
       "  ('k[159][0]', 'mu[5][0]'): -7.32421875,\n",
       "  ('k[86][0]', 'mu[7][0]'): -3.662109375,\n",
       "  ('k[128][0]', 'k[129][0]'): 0.04291534423828125,\n",
       "  ('k[2][0]', 'mu[10][0]'): -0.457763671875,\n",
       "  ('k[86][0]', 'k[90][0]'): 21.97265625,\n",
       "  ('k[186][0]', 'k[190][0]'): 0.0858306884765625,\n",
       "  ('k[129][0]', 'mu[9][0]'): -0.007152557373046875,\n",
       "  ('k[49][0]', 'k[57][0]'): 5.4931640625,\n",
       "  ('k[128][0]', 'k[131][0]'): 0.010728836059570312,\n",
       "  ('k[28][0]', 'mu[2][0]'): -29.296875,\n",
       "  ('k[80][0]', 'mu[3][0]'): -0.91552734375,\n",
       "  ('k[50][0]', 'mu[10][0]'): -0.457763671875,\n",
       "  ('k[132][0]', 'k[141][0]'): 10.986328125,\n",
       "  ('k[153][0]', 'mu[3][0]'): -0.457763671875,\n",
       "  ('k[144][0]', 'k[153][0]'): 10.986328125,\n",
       "  ('k[93][0]', 'k[93][0]'): -20.49708366394043,\n",
       "  ('k[7][0]', 'mu[4][0]'): -0.91552734375,\n",
       "  ('k[114][0]', 'k[119][0]'): 0.04291534423828125,\n",
       "  ('k[21][0]', 'mu[2][0]'): -0.91552734375,\n",
       "  ('k[139][0]', 'mu[6][0]'): -0.2288818359375,\n",
       "  ('k[180][0]', 'k[183][0]'): 703.125,\n",
       "  ('k[149][0]', 'k[149][0]'): -325.37841796875,\n",
       "  ('k[170][0]', 'k[174][0]'): 21.97265625,\n",
       "  ('k[128][0]', 'mu[7][0]'): -0.057220458984375,\n",
       "  ('k[136][0]', 'mu[6][0]'): -1.8310546875,\n",
       "  ('k[53][0]', 'k[55][0]'): 1.373291015625,\n",
       "  ('k[10][0]', 'k[3][0]'): 0.6866455078125,\n",
       "  ('k[129][0]', 'mu[0][0]'): -3.662109375,\n",
       "  ('k[112][0]', 'mu[10][0]'): -0.11444091796875,\n",
       "  ('k[129][0]', 'mu[10][0]'): -0.0035762786865234375,\n",
       "  ('k[25][0]', 'k[35][0]'): 1.373291015625,\n",
       "  ('k[105][0]', 'mu[9][0]'): -0.007152557373046875,\n",
       "  ('k[158][0]', 'mu[10][0]'): -0.457763671875,\n",
       "  ('k[129][0]', 'mu[1][0]'): -1.8310546875,\n",
       "  ('k[188][0]', 'mu[8][0]'): -0.0286102294921875,\n",
       "  ('k[189][0]', 'mu[8][0]'): -0.01430511474609375,\n",
       "  ('k[77][0]', 'mu[0][0]'): -58.59375,\n",
       "  ('k[69][0]', 'mu[9][0]'): -0.007152557373046875,\n",
       "  ('mu[6][0]', 'mu[7][0]'): 1.220703125,\n",
       "  ('k[116][0]', 'mu[10][0]'): -0.007152557373046875,\n",
       "  ('k[129][0]', 'mu[4][0]'): -0.2288818359375,\n",
       "  ('k[73][0]', 'mu[1][0]'): -468.75,\n",
       "  ('k[132][0]', 'k[134][0]'): 1406.25,\n",
       "  ('k[117][0]', 'k[119][0]'): 0.005364418029785156,\n",
       "  ('k[102][0]', 'mu[5][0]'): -0.91552734375,\n",
       "  ('k[104][0]', 'mu[11][0]'): -0.0035762786865234375,\n",
       "  ('k[118][0]', 'mu[8][0]'): -0.007152557373046875,\n",
       "  ('mu[2][0]', 'mu[5][0]'): 78.125,\n",
       "  ('k[129][0]', 'mu[8][0]'): -0.01430511474609375,\n",
       "  ('k[74][0]', 'mu[0][0]'): -468.75,\n",
       "  ('k[183][0]', 'mu[3][0]'): -29.296875,\n",
       "  ('k[103][0]', 'mu[2][0]'): -3.662109375,\n",
       "  ('mu[8][0]', 'mu[9][0]'): 0.0762939453125,\n",
       "  ('k[70][0]', 'mu[7][0]'): -0.01430511474609375,\n",
       "  ('k[160][0]', 'k[163][0]'): 2.74658203125,\n",
       "  ('k[12][0]', 'k[18][0]'): 87.890625,\n",
       "  ('mu[0][0]', 'mu[3][0]'): 1250.0,\n",
       "  ('k[168][0]', 'mu[4][0]'): -117.1875,\n",
       "  ('k[12][0]', 'k[21][0]'): 10.986328125,\n",
       "  ('k[11][0]', 'mu[6][0]'): -0.01430511474609375,\n",
       "  ('k[187][0]', 'mu[5][0]'): -0.457763671875,\n",
       "  ('k[61][0]', 'mu[4][0]'): -58.59375,\n",
       "  ('k[104][0]', 'k[107][0]'): 0.010728836059570312,\n",
       "  ('k[163][0]', 'mu[7][0]'): -0.11444091796875,\n",
       "  ('k[116][0]', 'mu[1][0]'): -3.662109375,\n",
       "  ('k[110][0]', 'k[113][0]'): 43.9453125,\n",
       "  ('k[136][0]', 'mu[1][0]'): -58.59375,\n",
       "  ('k[170][0]', 'k[178][0]'): 1.373291015625,\n",
       "  ('k[186][0]', 'k[186][0]'): -163.3758544921875,\n",
       "  ('k[183][0]', 'mu[2][0]'): -58.59375,\n",
       "  ('k[150][0]', 'k[152][0]'): 0.34332275390625,\n",
       "  ('k[154][0]', 'mu[3][0]'): -0.2288818359375,\n",
       "  ('k[12][0]', 'mu[0][0]'): -1875.0,\n",
       "  ('k[4][0]', 'mu[7][0]'): -0.91552734375,\n",
       "  ('k[12][0]', 'mu[11][0]'): -0.91552734375,\n",
       "  ('k[26][0]', 'mu[0][0]'): -468.75,\n",
       "  ('k[174][0]', 'mu[10][0]'): -0.0286102294921875,\n",
       "  ('k[12][0]', 'mu[1][0]'): -937.5,\n",
       "  ('k[12][0]', 'mu[4][0]'): -117.1875,\n",
       "  ('k[103][0]', 'mu[7][0]'): -0.11444091796875,\n",
       "  ('k[172][0]', 'k[176][0]'): 1.373291015625,\n",
       "  ('k[36][0]', 'mu[11][0]'): -0.91552734375,\n",
       "  ('k[54][0]', 'mu[9][0]'): -0.057220458984375,\n",
       "  ('k[119][0]', 'mu[2][0]'): -0.2288818359375,\n",
       "  ('k[90][0]', 'mu[7][0]'): -0.2288818359375,\n",
       "  ('k[12][0]', 'mu[7][0]'): -14.6484375,\n",
       "  ('k[130][0]', 'k[131][0]'): 0.002682209014892578,\n",
       "  ('k[30][0]', 'mu[7][0]'): -0.2288818359375,\n",
       "  ('k[175][0]', 'k[176][0]'): 0.171661376953125,\n",
       "  ('k[134][0]', 'k[138][0]'): 21.97265625,\n",
       "  ('k[154][0]', 'mu[10][0]'): -0.0017881393432617188,\n",
       "  ('k[98][0]', 'mu[8][0]'): -1.8310546875,\n",
       "  ('k[184][0]', 'k[190][0]'): 0.34332275390625,\n",
       "  ('k[3][0]', 'mu[2][0]'): -58.59375,\n",
       "  ('k[79][0]', 'mu[5][0]'): -0.457763671875,\n",
       "  ('k[176][0]', 'mu[10][0]'): -0.007152557373046875,\n",
       "  ('k[76][0]', 'k[82][0]'): 0.34332275390625,\n",
       "  ('k[132][0]', 'k[139][0]'): 43.9453125,\n",
       "  ('k[81][0]', 'mu[9][0]'): -0.007152557373046875,\n",
       "  ('k[130][0]', 'mu[3][0]'): -0.2288818359375,\n",
       "  ('k[130][0]', 'mu[5][0]'): -0.057220458984375,\n",
       "  ('k[48][0]', 'mu[3][0]'): -234.375,\n",
       "  ('k[127][0]', 'mu[3][0]'): -1.8310546875,\n",
       "  ('k[172][0]', 'mu[7][0]'): -0.91552734375,\n",
       "  ('k[183][0]', 'mu[7][0]'): -1.8310546875,\n",
       "  ('k[130][0]', 'mu[7][0]'): -0.01430511474609375,\n",
       "  ('k[102][0]', 'mu[1][0]'): -14.6484375,\n",
       "  ('k[136][0]', 'k[143][0]'): 0.171661376953125,\n",
       "  ('k[146][0]', 'k[151][0]'): 10.986328125,\n",
       "  ('k[182][0]', 'mu[5][0]'): -14.6484375,\n",
       "  ('k[131][0]', 'mu[0][0]'): -0.91552734375,\n",
       "  ('k[21][0]', 'mu[10][0]'): -0.0035762786865234375,\n",
       "  ('k[23][0]', 'mu[2][0]'): -0.2288818359375,\n",
       "  ('k[135][0]', 'k[140][0]'): 2.74658203125,\n",
       "  ('k[128][0]', 'mu[11][0]'): -0.0035762786865234375,\n",
       "  ('k[159][0]', 'mu[10][0]'): -0.2288818359375,\n",
       "  ('k[51][0]', 'mu[6][0]'): -3.662109375,\n",
       "  ('k[136][0]', 'mu[11][0]'): -0.057220458984375,\n",
       "  ('k[131][0]', 'mu[3][0]'): -0.11444091796875,\n",
       "  ('k[3][0]', 'mu[11][0]'): -0.11444091796875,\n",
       "  ('k[121][0]', 'mu[11][0]'): -0.457763671875,\n",
       "  ('k[96][0]', 'mu[4][0]'): -117.1875,\n",
       "  ('k[162][0]', 'mu[1][0]'): -14.6484375,\n",
       "  ('k[156][0]', 'mu[7][0]'): -14.6484375,\n",
       "  ('k[131][0]', 'mu[5][0]'): -0.0286102294921875,\n",
       "  ('k[0][0]', 'mu[1][0]'): -937.5,\n",
       "  ('k[181][0]', 'k[186][0]'): 43.9453125,\n",
       "  ('k[24][0]', 'mu[4][0]'): -117.1875,\n",
       "  ('k[13][0]', 'k[18][0]'): 43.9453125,\n",
       "  ('k[131][0]', 'mu[6][0]'): -0.01430511474609375,\n",
       "  ('k[174][0]', 'mu[3][0]'): -3.662109375,\n",
       "  ('k[22][0]', 'mu[8][0]'): -0.007152557373046875,\n",
       "  ('k[131][0]', 'mu[8][0]'): -0.0035762786865234375,\n",
       "  ('k[104][0]', 'mu[9][0]'): -0.01430511474609375,\n",
       "  ('k[146][0]', 'mu[8][0]'): -1.8310546875,\n",
       "  ('k[148][0]', 'mu[0][0]'): -117.1875,\n",
       "  ('k[147][0]', 'mu[4][0]'): -14.6484375,\n",
       "  ('k[8][0]', 'mu[2][0]'): -1.8310546875,\n",
       "  ('k[131][0]', 'mu[9][0]'): -0.0017881393432617188,\n",
       "  ('k[168][0]', 'k[174][0]'): 87.890625,\n",
       "  ('k[121][0]', 'k[123][0]'): 351.5625,\n",
       "  ('k[109][0]', 'k[112][0]'): 175.78125,\n",
       "  ('k[187][0]', 'mu[7][0]'): -0.11444091796875,\n",
       "  ('k[108][0]', 'k[111][0]'): 703.125,\n",
       "  ('k[87][0]', 'mu[3][0]'): -29.296875,\n",
       "  ('k[107][0]', 'mu[5][0]'): -0.0286102294921875,\n",
       "  ('k[132][0]', 'k[136][0]'): 351.5625,\n",
       "  ('k[128][0]', 'mu[1][0]'): -3.662109375,\n",
       "  ('k[112][0]', 'k[113][0]'): 10.986328125,\n",
       "  ('k[132][0]', 'k[138][0]'): 87.890625,\n",
       "  ('k[115][0]', 'mu[8][0]'): -0.057220458984375,\n",
       "  ('k[106][0]', 'mu[7][0]'): -0.01430511474609375,\n",
       "  ('k[13][0]', 'k[14][0]'): 703.125,\n",
       "  ('k[53][0]', 'k[58][0]'): 0.171661376953125,\n",
       "  ('k[134][0]', 'k[143][0]'): 0.6866455078125,\n",
       "  ('k[131][0]', 'mu[10][0]'): -0.0008940696716308594,\n",
       "  ('k[96][0]', 'mu[0][0]'): -1875.0,\n",
       "  ('k[132][0]', 'mu[11][0]'): -0.91552734375,\n",
       "  ('k[37][0]', 'k[40][0]'): 175.78125,\n",
       "  ('k[53][0]', 'mu[10][0]'): -0.057220458984375,\n",
       "  ('k[137][0]', 'mu[3][0]'): -7.32421875,\n",
       "  ('k[132][0]', 'mu[2][0]'): -468.75,\n",
       "  ('k[20][0]', 'k[21][0]'): 0.04291534423828125,\n",
       "  ('k[115][0]', 'mu[0][0]'): -14.6484375,\n",
       "  ('k[154][0]', 'mu[6][0]'): -0.0286102294921875,\n",
       "  ('k[132][0]', 'mu[3][0]'): -234.375,\n",
       "  ('k[117][0]', 'mu[10][0]'): -0.0035762786865234375,\n",
       "  ('k[168][0]', 'mu[3][0]'): -234.375,\n",
       "  ('k[106][0]', 'mu[8][0]'): -0.007152557373046875,\n",
       "  ('k[147][0]', 'mu[1][0]'): -117.1875,\n",
       "  ('k[48][0]', 'mu[4][0]'): -117.1875,\n",
       "  ('k[73][0]', 'k[76][0]'): 175.78125,\n",
       "  ('k[132][0]', 'mu[5][0]'): -58.59375,\n",
       "  ('k[132][0]', 'mu[7][0]'): -14.6484375,\n",
       "  ('k[30][0]', 'mu[8][0]'): -0.11444091796875,\n",
       "  ('k[12][0]', 'k[17][0]'): 175.78125,\n",
       "  ('k[133][0]', 'k[137][0]'): 87.890625,\n",
       "  ('k[138][0]', 'mu[4][0]'): -1.8310546875,\n",
       "  ('k[126][0]', 'k[130][0]'): 0.0858306884765625,\n",
       "  ('k[133][0]', 'k[138][0]'): 43.9453125,\n",
       "  ('k[157][0]', 'k[166][0]'): 2.74658203125,\n",
       "  ('k[40][0]', 'k[42][0]'): 5.4931640625,\n",
       "  ('k[27][0]', 'k[32][0]'): 2.74658203125,\n",
       "  ('k[178][0]', 'mu[9][0]'): -0.0035762786865234375,\n",
       "  ('k[19][0]', 'mu[1][0]'): -7.32421875,\n",
       "  ('k[133][0]', 'k[140][0]'): 10.986328125,\n",
       "  ('k[121][0]', 'k[129][0]'): 5.4931640625,\n",
       "  ('k[100][0]', 'mu[5][0]'): -3.662109375,\n",
       "  ('k[22][0]', 'mu[10][0]'): -0.0017881393432617188,\n",
       "  ('k[133][0]', 'mu[10][0]'): -0.91552734375,\n",
       "  ('k[137][0]', 'k[143][0]'): 0.0858306884765625,\n",
       "  ('k[104][0]', 'mu[0][0]'): -7.32421875,\n",
       "  ('k[3][0]', 'mu[8][0]'): -0.91552734375,\n",
       "  ('k[103][0]', 'mu[3][0]'): -1.8310546875,\n",
       "  ('k[13][0]', 'mu[4][0]'): -58.59375,\n",
       "  ('k[189][0]', 'k[190][0]'): 0.010728836059570312,\n",
       "  ('k[133][0]', 'mu[1][0]'): -468.75,\n",
       "  ('k[133][0]', 'k[142][0]'): 2.74658203125,\n",
       "  ('k[133][0]', 'mu[2][0]'): -234.375,\n",
       "  ('k[129][0]', 'mu[3][0]'): -0.457763671875,\n",
       "  ('k[133][0]', 'mu[3][0]'): -117.1875,\n",
       "  ('k[138][0]', 'mu[1][0]'): -14.6484375,\n",
       "  ('k[133][0]', 'mu[4][0]'): -58.59375,\n",
       "  ('k[11][0]', 'mu[10][0]'): -0.0008940696716308594,\n",
       "  ('k[139][0]', 'mu[3][0]'): -1.8310546875,\n",
       "  ('k[117][0]', 'mu[8][0]'): -0.01430511474609375,\n",
       "  ('k[44][0]', 'k[45][0]'): 0.04291534423828125,\n",
       "  ('k[109][0]', 'mu[1][0]'): -468.75,\n",
       "  ('k[72][0]', 'k[79][0]'): 43.9453125,\n",
       "  ('k[133][0]', 'mu[5][0]'): -29.296875,\n",
       "  ('k[133][0]', 'mu[9][0]'): -1.8310546875,\n",
       "  ('k[12][0]', 'mu[6][0]'): -29.296875,\n",
       "  ('k[119][0]', 'mu[9][0]'): -0.0017881393432617188,\n",
       "  ('k[62][0]', 'mu[6][0]'): -7.32421875,\n",
       "  ('k[157][0]', 'k[164][0]'): 10.986328125,\n",
       "  ('k[102][0]', 'k[105][0]'): 0.171661376953125,\n",
       "  ...},\n",
       " 147065.0)"
      ]
     },
     "execution_count": 141,
     "metadata": {},
     "output_type": "execute_result"
    }
   ],
   "source": [
    "gamma = 50\n",
    "\n",
    "problem = Max_Norm_LP(y, mu, k, gamma) ## actually has at most quadratic terms in this case\n",
    "problem_qubo = problem.compile().to_qubo()\n",
    "problem_qubo"
   ]
  },
  {
   "cell_type": "markdown",
   "id": "a6385116",
   "metadata": {},
   "source": [
    "Define the SA sampler:"
   ]
  },
  {
   "cell_type": "code",
   "execution_count": 142,
   "id": "3d473091",
   "metadata": {},
   "outputs": [
    {
     "data": {
      "text/plain": [
       "{'beta_range': [],\n",
       " 'num_reads': [],\n",
       " 'num_sweeps': [],\n",
       " 'beta_schedule_type': ['beta_schedule_options'],\n",
       " 'seed': [],\n",
       " 'interrupt_function': [],\n",
       " 'initial_states': [],\n",
       " 'initial_states_generator': []}"
      ]
     },
     "execution_count": 142,
     "metadata": {},
     "output_type": "execute_result"
    }
   ],
   "source": [
    "sampler = neal.SimulatedAnnealingSampler()\n",
    "\n",
    "sampler.parameters"
   ]
  },
  {
   "cell_type": "code",
   "execution_count": 143,
   "id": "9825451b",
   "metadata": {},
   "outputs": [],
   "source": [
    "sampleset = sampler.sample_qubo(problem_qubo[0], num_reads=100)\n",
    "\n",
    "samples = sampleset.samples()\n",
    "\n",
    "data = sampleset.to_pandas_dataframe()"
   ]
  },
  {
   "cell_type": "code",
   "execution_count": 144,
   "id": "7579d1b0",
   "metadata": {},
   "outputs": [
    {
     "data": {
      "image/png": "[encoded data removed]",
      "text/plain": [
       "<Figure size 432x288 with 1 Axes>"
      ]
     },
     "metadata": {
      "needs_background": "light"
     },
     "output_type": "display_data"
    },
    {
     "name": "stdout",
     "output_type": "stream",
     "text": [
      "mean: 15.936279296875 std: 0.0\n"
     ]
    }
   ],
   "source": [
    "allmus = np.zeros(len(samples))\n",
    "for i in range(len(allmus)):\n",
    "    allmus[i] = Float_Approx([samples[0][v] for v in muvars], domain)\n",
    "allmus\n",
    "plt.plot(allmus)\n",
    "plt.show()\n",
    "print('mean:', np.mean(allmus), 'std:', np.std(allmus))"
   ]
  },
  {
   "cell_type": "code",
   "execution_count": 145,
   "id": "ce857897",
   "metadata": {},
   "outputs": [
    {
     "data": {
      "text/plain": [
       "<AxesSubplot:xlabel='energy', ylabel='Count'>"
      ]
     },
     "execution_count": 145,
     "metadata": {},
     "output_type": "execute_result"
    },
    {
     "data": {
      "image/png": "[encoded data removed]",
      "text/plain": [
       "<Figure size 432x288 with 1 Axes>"
      ]
     },
     "metadata": {
      "needs_background": "light"
     },
     "output_type": "display_data"
    }
   ],
   "source": [
    "sns.histplot(data['energy'])"
   ]
  },
  {
   "cell_type": "code",
   "execution_count": 146,
   "id": "2ce1eae2",
   "metadata": {},
   "outputs": [],
   "source": [
    "def Get_Low_E_Samples(data, e_threshold):\n",
    "    \"\"\"\n",
    "    'data' is Pandas DataFrame of the samplet from annealing.\n",
    "    'e_threshold' is how far from lowest energy.\n",
    "    \"\"\"\n",
    "    min_e = np.min(data['energy'])\n",
    "#     print(min_e)\n",
    "    \n",
    "    if e_threshold == 0:\n",
    "        min_e_idx = data[data['energy'] == min_e].index.tolist()\n",
    "#         print(min_e_idx)\n",
    "    else:\n",
    "        min_e_idx = data[data['energy'] <= min_e + e_threshold*np.abs(min_e)].index.tolist()\n",
    "    \n",
    "    # dataframe has variable names as headers\n",
    "    binaries = data.columns[:data.shape[1]-2]\n",
    "#     print(binaries)\n",
    "    \n",
    "    # more useful for us as dictionary\n",
    "    min_e_samps_dict = data[binaries].to_dict('index')\n",
    "    \n",
    "    # even more useful as an ndarray of dictionaries\n",
    "    min_e_samps = np.asarray([min_e_samps_dict[k] for k in min_e_idx])\n",
    "    \n",
    "    return min_e_samps"
   ]
  },
  {
   "cell_type": "code",
   "execution_count": 147,
   "id": "9210d444",
   "metadata": {},
   "outputs": [
    {
     "data": {
      "text/plain": [
       "array([{'k[0][0]': 1, 'k[100][0]': 1, 'k[101][0]': 1, 'k[102][0]': 1, 'k[103][0]': 0, 'k[104][0]': 1, 'k[105][0]': 1, 'k[106][0]': 1, 'k[107][0]': 1, 'k[108][0]': 1, 'k[109][0]': 1, 'k[10][0]': 1, 'k[110][0]': 1, 'k[111][0]': 1, 'k[112][0]': 1, 'k[113][0]': 1, 'k[114][0]': 1, 'k[115][0]': 0, 'k[116][0]': 1, 'k[117][0]': 1, 'k[118][0]': 1, 'k[119][0]': 1, 'k[11][0]': 1, 'k[120][0]': 1, 'k[121][0]': 1, 'k[122][0]': 1, 'k[123][0]': 1, 'k[124][0]': 1, 'k[125][0]': 1, 'k[126][0]': 1, 'k[127][0]': 1, 'k[128][0]': 0, 'k[129][0]': 0, 'k[12][0]': 1, 'k[130][0]': 0, 'k[131][0]': 0, 'k[132][0]': 1, 'k[133][0]': 1, 'k[134][0]': 1, 'k[135][0]': 1, 'k[136][0]': 1, 'k[137][0]': 1, 'k[138][0]': 1, 'k[139][0]': 0, 'k[13][0]': 1, 'k[140][0]': 1, 'k[141][0]': 1, 'k[142][0]': 1, 'k[143][0]': 1, 'k[144][0]': 1, 'k[145][0]': 1, 'k[146][0]': 1, 'k[147][0]': 1, 'k[148][0]': 1, 'k[149][0]': 1, 'k[14][0]': 1, 'k[150][0]': 1, 'k[151][0]': 0, 'k[152][0]': 1, 'k[153][0]': 1, 'k[154][0]': 1, 'k[155][0]': 1, 'k[156][0]': 0, 'k[157][0]': 0, 'k[158][0]': 0, 'k[159][0]': 0, 'k[15][0]': 1, 'k[160][0]': 0, 'k[161][0]': 0, 'k[162][0]': 0, 'k[163][0]': 0, 'k[164][0]': 0, 'k[165][0]': 0, 'k[166][0]': 0, 'k[167][0]': 0, 'k[168][0]': 1, 'k[169][0]': 1, 'k[16][0]': 1, 'k[170][0]': 1, 'k[171][0]': 1, 'k[172][0]': 1, 'k[173][0]': 1, 'k[174][0]': 1, 'k[175][0]': 0, 'k[176][0]': 1, 'k[177][0]': 1, 'k[178][0]': 1, 'k[179][0]': 1, 'k[17][0]': 1, 'k[180][0]': 1, 'k[181][0]': 1, 'k[182][0]': 1, 'k[183][0]': 1, 'k[184][0]': 1, 'k[185][0]': 1, 'k[186][0]': 1, 'k[187][0]': 0, 'k[188][0]': 1, 'k[189][0]': 1, 'k[18][0]': 1, 'k[190][0]': 1, 'k[191][0]': 1, 'k[19][0]': 0, 'k[1][0]': 1, 'k[20][0]': 1, 'k[21][0]': 1, 'k[22][0]': 1, 'k[23][0]': 1, 'k[24][0]': 1, 'k[25][0]': 1, 'k[26][0]': 1, 'k[27][0]': 1, 'k[28][0]': 1, 'k[29][0]': 1, 'k[2][0]': 1, 'k[30][0]': 1, 'k[31][0]': 0, 'k[32][0]': 1, 'k[33][0]': 1, 'k[34][0]': 1, 'k[35][0]': 1, 'k[36][0]': 1, 'k[37][0]': 1, 'k[38][0]': 1, 'k[39][0]': 1, 'k[3][0]': 1, 'k[40][0]': 1, 'k[41][0]': 1, 'k[42][0]': 1, 'k[43][0]': 0, 'k[44][0]': 1, 'k[45][0]': 1, 'k[46][0]': 1, 'k[47][0]': 1, 'k[48][0]': 1, 'k[49][0]': 1, 'k[4][0]': 1, 'k[50][0]': 1, 'k[51][0]': 1, 'k[52][0]': 1, 'k[53][0]': 1, 'k[54][0]': 1, 'k[55][0]': 0, 'k[56][0]': 1, 'k[57][0]': 1, 'k[58][0]': 1, 'k[59][0]': 1, 'k[5][0]': 1, 'k[60][0]': 1, 'k[61][0]': 1, 'k[62][0]': 1, 'k[63][0]': 1, 'k[64][0]': 1, 'k[65][0]': 1, 'k[66][0]': 1, 'k[67][0]': 0, 'k[68][0]': 1, 'k[69][0]': 1, 'k[6][0]': 1, 'k[70][0]': 1, 'k[71][0]': 1, 'k[72][0]': 1, 'k[73][0]': 1, 'k[74][0]': 1, 'k[75][0]': 1, 'k[76][0]': 1, 'k[77][0]': 1, 'k[78][0]': 1, 'k[79][0]': 0, 'k[7][0]': 0, 'k[80][0]': 1, 'k[81][0]': 1, 'k[82][0]': 1, 'k[83][0]': 1, 'k[84][0]': 1, 'k[85][0]': 1, 'k[86][0]': 1, 'k[87][0]': 1, 'k[88][0]': 1, 'k[89][0]': 1, 'k[8][0]': 1, 'k[90][0]': 1, 'k[91][0]': 1, 'k[92][0]': 0, 'k[93][0]': 0, 'k[94][0]': 0, 'k[95][0]': 0, 'k[96][0]': 1, 'k[97][0]': 1, 'k[98][0]': 1, 'k[99][0]': 1, 'k[9][0]': 1, 'mu[0][0]': 0, 'mu[10][0]': 1, 'mu[11][0]': 1, 'mu[1][0]': 0, 'mu[2][0]': 1, 'mu[3][0]': 0, 'mu[4][0]': 1, 'mu[5][0]': 1, 'mu[6][0]': 1, 'mu[7][0]': 1, 'mu[8][0]': 1, 'mu[9][0]': 1}],\n",
       "      dtype=object)"
      ]
     },
     "execution_count": 147,
     "metadata": {},
     "output_type": "execute_result"
    }
   ],
   "source": [
    "min_samples = Get_Low_E_Samples(data, 0)\n",
    "min_samples"
   ]
  },
  {
   "cell_type": "code",
   "execution_count": 148,
   "id": "2d4f7a21",
   "metadata": {},
   "outputs": [
    {
     "data": {
      "text/plain": [
       "15.936279296875"
      ]
     },
     "execution_count": 148,
     "metadata": {},
     "output_type": "execute_result"
    }
   ],
   "source": [
    "myvalues = [min_samples[0][k] for k in muvars]\n",
    "\n",
    "Float_Approx(myvalues, domain)\n",
    "# min_samples[0][*muvars]"
   ]
  },
  {
   "cell_type": "code",
   "execution_count": 149,
   "id": "efe2eeec",
   "metadata": {},
   "outputs": [],
   "source": [
    "# q_error, problematic = [], [] \n",
    "\n",
    "error = []\n",
    "\n",
    "mu_result = np.zeros(len(min_samples))\n",
    "k_result = np.zeros((len(min_samples), length))\n",
    "\n",
    "for i in range(len(min_samples)):\n",
    "    \n",
    "#     q_er, prob, _ = Quad_Error(sample[i], og_vars)\n",
    "#     q_error.append(q_er)\n",
    "#     problematic.append(prob)\n",
    "\n",
    "#     for j in range(ulen):\n",
    "    musamps = [min_samples[i][k] for k in muvars]\n",
    "    mu_result[i] = Float_Approx(musamps, domain)\n",
    "    \n",
    "    ksamps = [min_samples[i][k] for k in kvars]\n",
    "    for j in range(length):\n",
    "            k_result[i][j] = Float_Approx(ksamps[j*nq_k : nq_k*(j+1)], domains[j])\n",
    "    \n",
    "#     error.append((np.abs(result[i] - ceiling)) / ceiling)"
   ]
  },
  {
   "cell_type": "code",
   "execution_count": 150,
   "id": "3d48a46e",
   "metadata": {},
   "outputs": [
    {
     "data": {
      "text/plain": [
       "array([15.93676758])"
      ]
     },
     "execution_count": 150,
     "metadata": {},
     "output_type": "execute_result"
    }
   ],
   "source": [
    "mu_result + float_accuracy"
   ]
  },
  {
   "cell_type": "code",
   "execution_count": 151,
   "id": "fd61e127",
   "metadata": {},
   "outputs": [
    {
     "name": "stdout",
     "output_type": "stream",
     "text": [
      "mu= [15.9362793] +-0.00048828125\n"
     ]
    },
    {
     "data": {
      "image/png": "[encoded data removed]",
      "text/plain": [
       "<Figure size 432x288 with 1 Axes>"
      ]
     },
     "metadata": {
      "needs_background": "light"
     },
     "output_type": "display_data"
    }
   ],
   "source": [
    "print('mu=', mu_result,'+-{}'.format(float_accuracy) )\n",
    "\n",
    "for kres in k_result:\n",
    "    plt.plot((kres-mu_result[0]+np.abs(y)**2), label='constraints') \n",
    "\n",
    "plt.plot(y, 'k', label='y')\n",
    "plt.xlabel('vector idx')\n",
    "plt.ylabel('value')\n",
    "plt.legend()\n",
    "plt.tight_layout()\n",
    "plt.show()"
   ]
  },
  {
   "cell_type": "markdown",
   "id": "40ec91c4",
   "metadata": {},
   "source": [
    "Now for various $\\gamma_1$ values:\n"
   ]
  },
  {
   "cell_type": "code",
   "execution_count": 17,
   "id": "2eb81f23",
   "metadata": {},
   "outputs": [
    {
     "data": {
      "image/png": "[encoded data removed]",
      "text/plain": [
       "<Figure size 432x288 with 1 Axes>"
      ]
     },
     "metadata": {
      "needs_background": "light"
     },
     "output_type": "display_data"
    }
   ],
   "source": [
    "gamma = np.linspace(1,200, 10)\n",
    "\n",
    "mu_mean, mu_std = [], []\n",
    "\n",
    "mu_result, k_result = [], []\n",
    "\n",
    "for i in range(len(gamma)):\n",
    "    \n",
    "    problem = Max_Norm_LP(y, mu, k, gamma[i]) ## actually has at most quadratic terms in this case\n",
    "    problem_qubo = problem.compile().to_qubo()\n",
    "    \n",
    "    sampleset = sampler.sample_qubo(problem_qubo[0], num_reads=100)\n",
    "    \n",
    "    samples = sampleset.samples()\n",
    "    \n",
    "\n",
    "    data = sampleset.to_pandas_dataframe()\n",
    "    min_samples = Get_Low_E_Samples(data, 0)\n",
    "    \n",
    "    allmus = np.zeros(len(samples))\n",
    "    for i in range(len(allmus)):\n",
    "        allmus[i] = Float_Approx([samples[0][v] for v in muvars], domain)\n",
    "    \n",
    "    mu_mean.append(np.mean(allmus))\n",
    "    mu_std.append(np.std(allmus))\n",
    "    \n",
    "    sns.histplot(data['energy'])\n",
    "    \n",
    "    \n",
    "    \n",
    "    mu_res = np.zeros(len(min_samples))\n",
    "    k_res = np.zeros((len(min_samples), length))\n",
    "\n",
    "    for i in range(len(min_samples)):\n",
    "\n",
    "        musamps = [min_samples[i][k] for k in muvars]\n",
    "        mu_res[i] = Float_Approx(musamps, domain)\n",
    "\n",
    "        ksamps = [min_samples[i][k] for k in kvars]\n",
    "        for j in range(length):\n",
    "                k_res[i][j] = Float_Approx(ksamps[j*nq_k : nq_k*(j+1)], domains[j])\n",
    "    \n",
    "    mu_result.append(mu_res)\n",
    "    k_result.append(k_res)\n",
    "    \n",
    "plt.show()"
   ]
  },
  {
   "cell_type": "code",
   "execution_count": 18,
   "id": "4f8435bc",
   "metadata": {},
   "outputs": [
    {
     "data": {
      "text/plain": [
       "[array([15.52368164]),\n",
       " array([15.92529297]),\n",
       " array([15.9362793]),\n",
       " array([15.9362793]),\n",
       " array([15.9362793]),\n",
       " array([15.6237793]),\n",
       " array([15.9362793]),\n",
       " array([15.9362793]),\n",
       " array([15.9362793]),\n",
       " array([15.9362793])]"
      ]
     },
     "execution_count": 18,
     "metadata": {},
     "output_type": "execute_result"
    }
   ],
   "source": [
    "mu_result"
   ]
  },
  {
   "cell_type": "markdown",
   "id": "ea3fc7eb",
   "metadata": {},
   "source": [
    "Complex valued y"
   ]
  },
  {
   "cell_type": "code",
   "execution_count": null,
   "id": "baa33c02",
   "metadata": {},
   "outputs": [],
   "source": []
  },
  {
   "cell_type": "markdown",
   "id": "4af0da02",
   "metadata": {},
   "source": []
  },
  {
   "cell_type": "code",
   "execution_count": null,
   "id": "44041873",
   "metadata": {},
   "outputs": [],
   "source": []
  },
  {
   "cell_type": "markdown",
   "id": "bc435ae6",
   "metadata": {},
   "source": [
    "### Testing full 2x2"
   ]
  },
  {
   "cell_type": "markdown",
   "id": "bffe340a",
   "metadata": {},
   "source": [
    "Create some channel real matrix:"
   ]
  },
  {
   "cell_type": "code",
   "execution_count": 2,
   "id": "0cf7928c",
   "metadata": {},
   "outputs": [
    {
     "data": {
      "text/plain": [
       "array([[1.3 +1.82j, 0.85+0.89j],\n",
       "       [1.01+1.67j, 0.21+0.59j]])"
      ]
     },
     "execution_count": 2,
     "metadata": {},
     "output_type": "execute_result"
    }
   ],
   "source": [
    "H = np.around(Channel_Rayleigh(2, 2), decimals=2)\n",
    "H"
   ]
  },
  {
   "cell_type": "markdown",
   "id": "b4b614b5",
   "metadata": {},
   "source": [
    "Create some message s:"
   ]
  },
  {
   "cell_type": "code",
   "execution_count": 3,
   "id": "5adbf662",
   "metadata": {},
   "outputs": [
    {
     "data": {
      "text/plain": [
       "array([ 1.+3.j, -1.+1.j])"
      ]
     },
     "execution_count": 3,
     "metadata": {},
     "output_type": "execute_result"
    }
   ],
   "source": [
    "QAMsize = 16 \n",
    "s = Create_S(2, QAMsize)\n",
    "s"
   ]
  },
  {
   "cell_type": "markdown",
   "id": "0cd3d366",
   "metadata": {},
   "source": [
    "noise vector:"
   ]
  },
  {
   "cell_type": "code",
   "execution_count": 4,
   "id": "15160ffa",
   "metadata": {},
   "outputs": [
    {
     "data": {
      "text/plain": [
       "array([0.03-0.03j, 0.21+0.09j])"
      ]
     },
     "execution_count": 4,
     "metadata": {},
     "output_type": "execute_result"
    }
   ],
   "source": [
    "n = np.around(Gauss_Noise(2), decimals=2)\n",
    "n"
   ]
  },
  {
   "cell_type": "code",
   "execution_count": 5,
   "id": "b5073f3e",
   "metadata": {},
   "outputs": [
    {
     "data": {
      "text/plain": [
       "array([ 1.15966294, 20.05987812])"
      ]
     },
     "execution_count": 5,
     "metadata": {},
     "output_type": "execute_result"
    }
   ],
   "source": [
    "np.abs(np.linalg.inv(H)@s)**2"
   ]
  },
  {
   "cell_type": "code",
   "execution_count": 6,
   "id": "cc30d668",
   "metadata": {},
   "outputs": [
    {
     "data": {
      "text/plain": [
       "array([-1.7988673 +0.51537995j,  1.53762542-1.52143113j])"
      ]
     },
     "execution_count": 6,
     "metadata": {},
     "output_type": "execute_result"
    }
   ],
   "source": [
    "np.linalg.solve(H, s)"
   ]
  },
  {
   "cell_type": "code",
   "execution_count": 7,
   "id": "eeba305e",
   "metadata": {},
   "outputs": [],
   "source": [
    "from scipy.linalg import dft\n",
    "F = np.around(dft(2, scale='sqrtn'), decimals=4) #TODO: handle accuracy as a parameter when calling the functions\n",
    "F = F.T.conj()\n",
    "def fun(x):\n",
    "    F = np.around(dft(2, scale='sqrtn'), decimals=4) #TODO: handle accuracy as a parameter when calling the functions\n",
    "    F = F.T.conj()\n",
    "    maxnorm = np.max(np.abs(F@x))\n",
    "    return maxnorm / np.linalg.norm(x)\n"
   ]
  },
  {
   "cell_type": "code",
   "execution_count": 8,
   "id": "b5d77da1",
   "metadata": {},
   "outputs": [
    {
     "name": "stderr",
     "output_type": "stream",
     "text": [
      "/Users/davidbern/anaconda3/lib/python3.8/site-packages/scipy/optimize/_differentiable_functions.py:554: ComplexWarning: Casting complex values to real discards the imaginary part\n",
      "  self.x = np.atleast_1d(x0).astype(float)\n",
      "/Users/davidbern/anaconda3/lib/python3.8/site-packages/scipy/optimize/_constraints.py:246: ComplexWarning: Casting complex values to real discards the imaginary part\n",
      "  lb = np.asarray(constraint.lb, dtype=float)\n",
      "/Users/davidbern/anaconda3/lib/python3.8/site-packages/scipy/optimize/_constraints.py:247: ComplexWarning: Casting complex values to real discards the imaginary part\n",
      "  ub = np.asarray(constraint.ub, dtype=float)\n",
      "/Users/davidbern/anaconda3/lib/python3.8/site-packages/numpy/lib/type_check.py:114: ComplexWarning: Casting complex values to real discards the imaginary part\n",
      "  return asarray(a, dtype=dtype)\n",
      "/Users/davidbern/anaconda3/lib/python3.8/site-packages/scipy/optimize/slsqp.py:427: ComplexWarning: Casting complex values to real discards the imaginary part\n",
      "  slsqp(m, meq, x, xl, xu, fx, c, g, a, acc, majiter, mode, w, jw,\n"
     ]
    },
    {
     "data": {
      "text/plain": [
       "     fun: 0.9617934153799875\n",
       "     jac: array([-0.01518488, -0.00845625])\n",
       " message: 'Optimization terminated successfully'\n",
       "    nfev: 6\n",
       "     nit: 2\n",
       "    njev: 2\n",
       "  status: 0\n",
       " success: True\n",
       "       x: array([-7.66273002, 13.75995606])"
      ]
     },
     "execution_count": 8,
     "metadata": {},
     "output_type": "execute_result"
    }
   ],
   "source": [
    "from scipy.optimize import minimize\n",
    "from scipy.optimize import LinearConstraint\n",
    "\n",
    "x0 = s\n",
    "\n",
    "cons = LinearConstraint(H, s, s)\n",
    "\n",
    "# cons = ({'type': 'ineq', 'fun': lambda x:  x[0] - 2 * x[1] + 2})\n",
    "\n",
    "res = minimize(fun, x0, constraints=cons)\n",
    "res"
   ]
  },
  {
   "cell_type": "code",
   "execution_count": 9,
   "id": "762bbc1d",
   "metadata": {},
   "outputs": [
    {
     "data": {
      "text/plain": [
       "array([-3.-3.51002472j,  3.+1.49134853j])"
      ]
     },
     "execution_count": 9,
     "metadata": {},
     "output_type": "execute_result"
    }
   ],
   "source": [
    "H@res.x"
   ]
  },
  {
   "cell_type": "code",
   "execution_count": 10,
   "id": "24e15586",
   "metadata": {},
   "outputs": [
    {
     "data": {
      "text/plain": [
       "array([ 0.2737412 +0.j, -0.96179342+0.j])"
      ]
     },
     "execution_count": 10,
     "metadata": {},
     "output_type": "execute_result"
    }
   ],
   "source": [
    "F@res.x / np.linalg.norm(res.x)"
   ]
  },
  {
   "cell_type": "raw",
   "id": "633c8493",
   "metadata": {},
   "source": []
  },
  {
   "cell_type": "code",
   "execution_count": 125,
   "id": "8bb176a3",
   "metadata": {},
   "outputs": [
    {
     "data": {
      "text/plain": [
       "((20.000000 * (((Binary('x[0][0]') + (0.500000 * Binary('x[1][0]'))) + (0.250000 * Binary('x[2][0]'))) + (0.125000 * Binary('x[3][0]')))) + -20.000000)"
      ]
     },
     "execution_count": 125,
     "metadata": {},
     "output_type": "execute_result"
    }
   ],
   "source": [
    "nqx = 4\n",
    "xdomains = np.tile([-20,20], (4,1))\n",
    "xtilde, xvars = Create_Float_Vec(4, nqx, xdomains, 'x')\n",
    "# xtilde[0] = pq.Array(xtilde[0])\n",
    "# for i in range(len(xtilde)):\n",
    "#     xtilde[i] = xtilde[i][0]\n",
    "xtilde[0]"
   ]
  },
  {
   "cell_type": "code",
   "execution_count": 126,
   "id": "7abd502e",
   "metadata": {},
   "outputs": [],
   "source": [
    "nqu = 4 ## number of binary vars to approxiamte the float\n",
    "mudomain = np.array([45,55]) ## we know mu should converge to 4\n",
    "\n",
    "float_accuracy = 2**(-nqu+1)\n",
    "\n",
    "mu, muvars = Create_Float_Vec(1, nqu, mudomain, 'mu')\n",
    "mu = mu[0]"
   ]
  },
  {
   "cell_type": "code",
   "execution_count": 127,
   "id": "a41775d1",
   "metadata": {},
   "outputs": [],
   "source": [
    "# define same domains for all, although we could adapt them more to y.\n",
    "kdomains = np.tile([0,10], (4,1))\n",
    "\n",
    "# approx all elements with same number of binaries, although again could be adapted.\n",
    "nqk = 4\n",
    "\n",
    "k, kvars = Create_Float_Vec(4, nqk, kdomains, 'k')\n",
    "# for i in range(len(xtilde)):\n",
    "#     k[i] = k[i][0]"
   ]
  },
  {
   "cell_type": "code",
   "execution_count": 128,
   "id": "595c1edf",
   "metadata": {},
   "outputs": [
    {
     "data": {
      "text/plain": [
       "(4,)"
      ]
     },
     "execution_count": 128,
     "metadata": {},
     "output_type": "execute_result"
    }
   ],
   "source": [
    "y = Time_Dom(xtilde)\n",
    "y.shape\n"
   ]
  },
  {
   "cell_type": "code",
   "execution_count": 129,
   "id": "2bd3fc1d",
   "metadata": {},
   "outputs": [
    {
     "data": {
      "text/plain": [
       "Array([((((0.500000 * ((20.000000 * (((Binary('x[0][0]') + (0.500000 * Binary('x[1][0]'))) + (0.250000 * Binary('x[2][0]'))) + (0.125000 * Binary('x[3][0]')))) + -20.000000)) + (0.500000 * ((20.000000 * (((Binary('x[4][0]') + (0.500000 * Binary('x[5][0]'))) + (0.250000 * Binary('x[6][0]'))) + (0.125000 * Binary('x[7][0]')))) + -20.000000))) + (0.500000 * ((20.000000 * (((Binary('x[8][0]') + (0.500000 * Binary('x[9][0]'))) + (0.250000 * Binary('x[10][0]'))) + (0.125000 * Binary('x[11][0]')))) + -20.000000))) + (0.500000 * ((20.000000 * (((Binary('x[12][0]') + (0.500000 * Binary('x[13][0]'))) + (0.250000 * Binary('x[14][0]'))) + (0.125000 * Binary('x[15][0]')))) + -20.000000))), ((((0.500000 * ((20.000000 * (((Binary('x[0][0]') + (0.500000 * Binary('x[1][0]'))) + (0.250000 * Binary('x[2][0]'))) + (0.125000 * Binary('x[3][0]')))) + -20.000000)) + (0.000000 * ((20.000000 * (((Binary('x[4][0]') + (0.500000 * Binary('x[5][0]'))) + (0.250000 * Binary('x[6][0]'))) + (0.125000 * Binary('x[7][0]')))) + -20.000000))) + (-0.500000 * ((20.000000 * (((Binary('x[8][0]') + (0.500000 * Binary('x[9][0]'))) + (0.250000 * Binary('x[10][0]'))) + (0.125000 * Binary('x[11][0]')))) + -20.000000))) + (-0.000000 * ((20.000000 * (((Binary('x[12][0]') + (0.500000 * Binary('x[13][0]'))) + (0.250000 * Binary('x[14][0]'))) + (0.125000 * Binary('x[15][0]')))) + -20.000000))), ((((0.500000 * ((20.000000 * (((Binary('x[0][0]') + (0.500000 * Binary('x[1][0]'))) + (0.250000 * Binary('x[2][0]'))) + (0.125000 * Binary('x[3][0]')))) + -20.000000)) + (-0.500000 * ((20.000000 * (((Binary('x[4][0]') + (0.500000 * Binary('x[5][0]'))) + (0.250000 * Binary('x[6][0]'))) + (0.125000 * Binary('x[7][0]')))) + -20.000000))) + (0.500000 * ((20.000000 * (((Binary('x[8][0]') + (0.500000 * Binary('x[9][0]'))) + (0.250000 * Binary('x[10][0]'))) + (0.125000 * Binary('x[11][0]')))) + -20.000000))) + (-0.500000 * ((20.000000 * (((Binary('x[12][0]') + (0.500000 * Binary('x[13][0]'))) + (0.250000 * Binary('x[14][0]'))) + (0.125000 * Binary('x[15][0]')))) + -20.000000))), ((((0.500000 * ((20.000000 * (((Binary('x[0][0]') + (0.500000 * Binary('x[1][0]'))) + (0.250000 * Binary('x[2][0]'))) + (0.125000 * Binary('x[3][0]')))) + -20.000000)) + (-0.000000 * ((20.000000 * (((Binary('x[4][0]') + (0.500000 * Binary('x[5][0]'))) + (0.250000 * Binary('x[6][0]'))) + (0.125000 * Binary('x[7][0]')))) + -20.000000))) + (-0.500000 * ((20.000000 * (((Binary('x[8][0]') + (0.500000 * Binary('x[9][0]'))) + (0.250000 * Binary('x[10][0]'))) + (0.125000 * Binary('x[11][0]')))) + -20.000000))) + (0.000000 * ((20.000000 * (((Binary('x[12][0]') + (0.500000 * Binary('x[13][0]'))) + (0.250000 * Binary('x[14][0]'))) + (0.125000 * Binary('x[15][0]')))) + -20.000000)))])"
      ]
     },
     "execution_count": 129,
     "metadata": {},
     "output_type": "execute_result"
    }
   ],
   "source": [
    "\n",
    "Htry = Channel_Rayleigh(4,4)\n",
    "\n",
    "F = np.around(dft(4, scale='sqrtn'), decimals=4) #TODO: handle accuracy as a parameter when calling the functions\n",
    "F = F.T.conj()\n",
    "F= pq.Array(F.real)\n",
    "F@xtilde"
   ]
  },
  {
   "cell_type": "code",
   "execution_count": 130,
   "id": "a7c373f8",
   "metadata": {},
   "outputs": [],
   "source": [
    "maxnorm = Max_Norm_LP(y, mu, k, 100)"
   ]
  },
  {
   "cell_type": "code",
   "execution_count": 131,
   "id": "2ed73b77",
   "metadata": {},
   "outputs": [
    {
     "name": "stdout",
     "output_type": "stream",
     "text": [
      "(4, 4)\n"
     ]
    }
   ],
   "source": [
    "evm = EVM(xtilde, s, noise=False)"
   ]
  },
  {
   "cell_type": "code",
   "execution_count": 132,
   "id": "ee11d70d",
   "metadata": {},
   "outputs": [],
   "source": [
    "gamma2 = 100\n",
    "model = maxnorm + gamma2*evm\n",
    "model_qubo = model.compile().to_qubo()\n",
    "\n"
   ]
  },
  {
   "cell_type": "code",
   "execution_count": 133,
   "id": "1ac1308b",
   "metadata": {},
   "outputs": [
    {
     "data": {
      "image/png": "[encoded data removed]",
      "text/plain": [
       "<Figure size 432x288 with 1 Axes>"
      ]
     },
     "metadata": {
      "needs_background": "light"
     },
     "output_type": "display_data"
    }
   ],
   "source": [
    "sampler = neal.SimulatedAnnealingSampler()\n",
    "\n",
    "sampleset = sampler.sample_qubo(model_qubo[0], num_reads=100)\n",
    "\n",
    "samples = sampleset.samples()\n",
    "\n",
    "\n",
    "data = sampleset.to_pandas_dataframe()\n",
    "\n",
    "min_samples = Get_Low_E_Samples(data, 0)\n",
    "\n",
    "sns.histplot(data['energy'])\n",
    "    \n",
    "\n",
    "\n",
    "mu_res = np.zeros(len(min_samples))\n",
    "k_res = np.zeros((len(min_samples), 4))\n",
    "x_res = np.zeros((len(min_samples), 4))\n",
    "\n",
    "for i in range(len(min_samples)):\n",
    "\n",
    "    musamps = [min_samples[i][k] for k in muvars]\n",
    "    mu_res[i] = Float_Approx(musamps, mudomain)\n",
    "\n",
    "    ksamps = [min_samples[i][k] for k in kvars]\n",
    "    xsamps = [min_samples[i][k] for k in xvars]\n",
    "    for j in range(4):\n",
    "            k_res[i][j] = Float_Approx(ksamps[j*nqk : nqk*(j+1)], kdomains[j])\n",
    "            x_res[i][j] = Float_Approx(xsamps[j*nqx : nqx*(j+1)], xdomains[j])\n",
    "\n",
    "# mu_result.append(mu_res)\n",
    "# k_result.append(k_res)\n",
    "\n",
    "plt.show()"
   ]
  },
  {
   "cell_type": "code",
   "execution_count": 134,
   "id": "05b2b19f",
   "metadata": {},
   "outputs": [
    {
     "data": {
      "text/plain": [
       "array([45., 45., 45., 45., 45., 45., 45., 45., 45., 45., 45., 45., 45.,\n",
       "       45., 45., 45., 45., 45., 45., 45., 45., 45., 45., 45.])"
      ]
     },
     "execution_count": 134,
     "metadata": {},
     "output_type": "execute_result"
    }
   ],
   "source": [
    "mu_res"
   ]
  },
  {
   "cell_type": "code",
   "execution_count": 135,
   "id": "ab3f08a9",
   "metadata": {},
   "outputs": [
    {
     "data": {
      "text/plain": [
       "array([[17.5, 17.5, 17.5, 17.5],\n",
       "       [17.5, 17.5, 17.5, 17.5],\n",
       "       [17.5, 17.5, 17.5, 17.5],\n",
       "       [17.5, 17.5, 17.5, 17.5],\n",
       "       [17.5, 17.5, 17.5, 17.5],\n",
       "       [17.5, 17.5, 17.5, 17.5],\n",
       "       [17.5, 17.5, 17.5, 17.5],\n",
       "       [17.5, 17.5, 17.5, 17.5],\n",
       "       [17.5, 17.5, 17.5, 17.5],\n",
       "       [17.5, 17.5, 17.5, 17.5],\n",
       "       [17.5, 17.5, 17.5, 17.5],\n",
       "       [17.5, 17.5, 17.5, 17.5],\n",
       "       [17.5, 17.5, 17.5, 17.5],\n",
       "       [17.5, 17.5, 17.5, 17.5],\n",
       "       [17.5, 17.5, 17.5, 17.5],\n",
       "       [17.5, 17.5, 17.5, 17.5],\n",
       "       [17.5, 17.5, 17.5, 17.5],\n",
       "       [17.5, 17.5, 17.5, 17.5],\n",
       "       [17.5, 17.5, 17.5, 17.5],\n",
       "       [17.5, 17.5, 17.5, 17.5],\n",
       "       [17.5, 17.5, 17.5, 17.5],\n",
       "       [17.5, 17.5, 17.5, 17.5],\n",
       "       [17.5, 17.5, 17.5, 17.5],\n",
       "       [17.5, 17.5, 17.5, 17.5]])"
      ]
     },
     "execution_count": 135,
     "metadata": {},
     "output_type": "execute_result"
    }
   ],
   "source": [
    "x_res"
   ]
  },
  {
   "cell_type": "code",
   "execution_count": null,
   "id": "e98330a7",
   "metadata": {},
   "outputs": [],
   "source": []
  }
 ],
 "metadata": {
  "kernelspec": {
   "display_name": "Python 3 (ipykernel)",
   "language": "python",
   "name": "python3"
  },
  "language_info": {
   "codemirror_mode": {
    "name": "ipython",
    "version": 3
   },
   "file_extension": ".py",
   "mimetype": "text/x-python",
   "name": "python",
   "nbconvert_exporter": "python",
   "pygments_lexer": "ipython3",
   "version": "3.8.13"
  }
 },
 "nbformat": 4,
 "nbformat_minor": 5
}
