{
 "cells": [
  {
   "cell_type": "code",
   "execution_count": null,
   "id": "43d7370a",
   "metadata": {},
   "outputs": [],
   "source": []
  },
  {
   "cell_type": "code",
   "execution_count": 6,
   "id": "6f345e95",
   "metadata": {},
   "outputs": [],
   "source": [
    "import numpy as np\n",
    "import matplotlib.pyplot as plt\n",
    "from PyQubo_formulation import *\n",
    "from Utilities import Dict_to_Mat, quad_error\n",
    "import networkx as nx"
   ]
  },
  {
   "cell_type": "code",
   "execution_count": 7,
   "id": "0f018e4d",
   "metadata": {},
   "outputs": [],
   "source": [
    "root = np.array([-2,2], dtype='float')\n",
    "\n",
    "ulen = 6\n",
    "\n",
    "eps1 = np.around(np.random.uniform(-0.5, 0.5, ulen), decimals=2)\n",
    "eps2 = np.around(np.random.uniform(-0.5, 0.5, ulen), decimals=2)\n",
    "\n",
    "domains = np.tile(root, (ulen,1))\n",
    "\n",
    "domains[:,0] = domains[:,0]+eps1\n",
    "domains[:,1] = domains[:,1]+eps2\n"
   ]
  },
  {
   "cell_type": "code",
   "execution_count": 8,
   "id": "2040fdb1",
   "metadata": {},
   "outputs": [
    {
     "data": {
      "image/png": "[encoded data removed]",
      "text/plain": [
       "<Figure size 432x288 with 1 Axes>"
      ]
     },
     "metadata": {
      "needs_background": "light"
     },
     "output_type": "display_data"
    }
   ],
   "source": [
    "plt.plot(domains[:,0], '--')\n",
    "plt.plot(domains[:,1], '--')\n",
    "plt.show()"
   ]
  },
  {
   "cell_type": "code",
   "execution_count": 9,
   "id": "6a0c8c63",
   "metadata": {},
   "outputs": [
    {
     "data": {
      "text/plain": [
       "((1.735000 * (((Binary('q[0]') + (0.500000 * Binary('q[1]'))) + (0.250000 * Binary('q[2]'))) + (0.125000 * Binary('q[3]')))) + -1.840000)"
      ]
     },
     "execution_count": 9,
     "metadata": {},
     "output_type": "execute_result"
    }
   ],
   "source": [
    "nq_u = 4\n",
    "u = Create_float_vec(ulen, nq_u, domains)\n",
    "u[0]"
   ]
  },
  {
   "cell_type": "code",
   "execution_count": 21,
   "id": "fc81f659",
   "metadata": {},
   "outputs": [
    {
     "data": {
      "text/plain": [
       "[({('q[1]', 'q[3]'): 0.5382031250000001,\n",
       "   ('q[2]', 'q[2]'): -1.6606484375,\n",
       "   ('q[1]', 'q[1]'): -2.78309375,\n",
       "   ('q[0]', 'q[0]'): -3.4133749999999994,\n",
       "   ('q[0]', 'q[3]'): 1.0764062500000002,\n",
       "   ('q[1]', 'q[2]'): 1.0764062500000002,\n",
       "   ('q[0]', 'q[2]'): 2.1528125000000005,\n",
       "   ('q[0]', 'q[1]'): 4.305625000000001,\n",
       "   ('q[2]', 'q[3]'): 0.26910156250000006,\n",
       "   ('q[3]', 'q[3]'): -0.897599609375},\n",
       "  3.4595999999999996),\n",
       " ({('q[4]', 'q[5]'): 4.730624999999999,\n",
       "   ('q[4]', 'q[6]'): 2.3653124999999995,\n",
       "   ('q[4]', 'q[7]'): 1.1826562499999997,\n",
       "   ('q[5]', 'q[6]'): 1.1826562499999997,\n",
       "   ('q[6]', 'q[7]'): 0.29566406249999994,\n",
       "   ('q[5]', 'q[7]'): 0.5913281249999999,\n",
       "   ('q[6]', 'q[6]'): -2.2925859374999997,\n",
       "   ('q[5]', 'q[5]'): -3.993843749999999,\n",
       "   ('q[7]', 'q[7]'): -1.2202089843749997,\n",
       "   ('q[4]', 'q[4]'): -5.622374999999999},\n",
       "  5.6644),\n",
       " ({('q[10]', 'q[11]'): 0.23765624999999999,\n",
       "   ('q[11]', 'q[9]'): 0.47531249999999997,\n",
       "   ('q[8]', 'q[8]'): -2.4764999999999993,\n",
       "   ('q[10]', 'q[8]'): 1.9012499999999999,\n",
       "   ('q[10]', 'q[9]'): 0.9506249999999999,\n",
       "   ('q[11]', 'q[8]'): 0.9506249999999999,\n",
       "   ('q[9]', 'q[9]'): -2.1888749999999995,\n",
       "   ('q[10]', 'q[10]'): -1.3320937499999999,\n",
       "   ('q[8]', 'q[9]'): 3.8024999999999998,\n",
       "   ('q[11]', 'q[11]'): -0.7254609374999998},\n",
       "  2.5920999999999994),\n",
       " ({('q[12]', 'q[13]'): 4.579599999999998,\n",
       "   ('q[12]', 'q[14]'): 2.289799999999999,\n",
       "   ('q[12]', 'q[15]'): 1.1448999999999996,\n",
       "   ('q[13]', 'q[14]'): 1.1448999999999996,\n",
       "   ('q[14]', 'q[15]'): 0.2862249999999999,\n",
       "   ('q[13]', 'q[15]'): 0.5724499999999998,\n",
       "   ('q[15]', 'q[15]'): -0.9877437499999999,\n",
       "   ('q[14]', 'q[14]'): -1.8323749999999999,\n",
       "   ('q[13]', 'q[13]'): -3.0923,\n",
       "   ('q[12]', 'q[12]'): -3.894800000000001},\n",
       "  3.9204),\n",
       " ({('q[16]', 'q[17]'): 4.601025,\n",
       "   ('q[16]', 'q[18]'): 2.3005125,\n",
       "   ('q[18]', 'q[18]'): -2.3615109375,\n",
       "   ('q[19]', 'q[19]'): -1.252646484375,\n",
       "   ('q[17]', 'q[19]'): 0.575128125,\n",
       "   ('q[16]', 'q[19]'): 1.15025625,\n",
       "   ('q[17]', 'q[18]'): 1.15025625,\n",
       "   ('q[18]', 'q[19]'): 0.2875640625,\n",
       "   ('q[17]', 'q[17]'): -4.14789375,\n",
       "   ('q[16]', 'q[16]'): -5.9952749999999995},\n",
       "  6.100899999999998),\n",
       " ({('q[20]', 'q[21]'): 3.9800250000000004,\n",
       "   ('q[20]', 'q[23]'): 0.9950062500000001,\n",
       "   ('q[22]', 'q[22]'): -2.0953734375,\n",
       "   ('q[21]', 'q[22]'): 0.9950062500000001,\n",
       "   ('q[20]', 'q[22]'): 1.9900125000000002,\n",
       "   ('q[21]', 'q[23]'): 0.49750312500000005,\n",
       "   ('q[22]', 'q[23]'): 0.24875156250000002,\n",
       "   ('q[23]', 'q[23]'): -1.109874609375,\n",
       "   ('q[21]', 'q[21]'): -3.6932437499999997,\n",
       "   ('q[20]', 'q[20]'): -5.396475},\n",
       "  5.522500000000001)]"
      ]
     },
     "execution_count": 21,
     "metadata": {},
     "output_type": "execute_result"
    }
   ],
   "source": [
    "# l = u[0]**2\n",
    "# l.compile().to_qubo()\n",
    "\n",
    "usquared = [u[i]**2 for i in range(len(u))]\n",
    "umods = [usquared[i].compile().to_qubo() for i in range(len(usquared))]\n",
    "umods"
   ]
  },
  {
   "cell_type": "code",
   "execution_count": 12,
   "id": "102caa42",
   "metadata": {},
   "outputs": [],
   "source": [
    "muparams = np.array([4,[-3,3]], dtype='object')\n",
    "maxnorm = Max_Norm_LP(u, 1, muparams, muparams)"
   ]
  },
  {
   "cell_type": "code",
   "execution_count": 23,
   "id": "41b81b92",
   "metadata": {},
   "outputs": [],
   "source": [
    "model = maxnorm.compile(strength=5)\n",
    "\n",
    "model_qubo = model.to_qubo()\n",
    "\n"
   ]
  },
  {
   "cell_type": "code",
   "execution_count": 30,
   "id": "0607a61d",
   "metadata": {},
   "outputs": [],
   "source": [
    "import dimod\n",
    "\n",
    "sampler_exact = dimod.ExactSolver()\n",
    "sampler_exact.parameters\n",
    "\n",
    "model_bqm = dimod.BQM.from_qubo(model_qubo[0])"
   ]
  },
  {
   "cell_type": "code",
   "execution_count": 31,
   "id": "6573eae1",
   "metadata": {},
   "outputs": [
    {
     "ename": "ValueError",
     "evalue": "Maximum allowed dimension exceeded",
     "output_type": "error",
     "traceback": [
      "\u001b[0;31m---------------------------------------------------------------------------\u001b[0m",
      "\u001b[0;31mValueError\u001b[0m                                Traceback (most recent call last)",
      "Input \u001b[0;32mIn [31]\u001b[0m, in \u001b[0;36m<cell line: 1>\u001b[0;34m()\u001b[0m\n\u001b[0;32m----> 1\u001b[0m sampleset \u001b[38;5;241m=\u001b[39m \u001b[43msampler_exact\u001b[49m\u001b[38;5;241;43m.\u001b[39;49m\u001b[43msample\u001b[49m\u001b[43m(\u001b[49m\u001b[43mmodel_bqm\u001b[49m\u001b[43m)\u001b[49m\n\u001b[1;32m      3\u001b[0m samples \u001b[38;5;241m=\u001b[39m sampleset\u001b[38;5;241m.\u001b[39msamples()\n\u001b[1;32m      4\u001b[0m energies \u001b[38;5;241m=\u001b[39m sampleset\u001b[38;5;241m.\u001b[39mrecord[\u001b[38;5;124m'\u001b[39m\u001b[38;5;124menergy\u001b[39m\u001b[38;5;124m'\u001b[39m]\n",
      "File \u001b[0;32m~/anaconda3/lib/python3.8/site-packages/dimod/reference/samplers/exact_solver.py:96\u001b[0m, in \u001b[0;36mExactSolver.sample\u001b[0;34m(self, bqm, **kwargs)\u001b[0m\n\u001b[1;32m     93\u001b[0m \u001b[38;5;28;01mif\u001b[39;00m \u001b[38;5;129;01mnot\u001b[39;00m \u001b[38;5;28mlen\u001b[39m(bqm\u001b[38;5;241m.\u001b[39mvariables):\n\u001b[1;32m     94\u001b[0m     \u001b[38;5;28;01mreturn\u001b[39;00m SampleSet\u001b[38;5;241m.\u001b[39mfrom_samples([], bqm\u001b[38;5;241m.\u001b[39mvartype, energy\u001b[38;5;241m=\u001b[39m[])\n\u001b[0;32m---> 96\u001b[0m samples \u001b[38;5;241m=\u001b[39m \u001b[43m_graycode\u001b[49m\u001b[43m(\u001b[49m\u001b[43mbqm\u001b[49m\u001b[43m)\u001b[49m\n\u001b[1;32m     98\u001b[0m \u001b[38;5;28;01mif\u001b[39;00m bqm\u001b[38;5;241m.\u001b[39mvartype \u001b[38;5;129;01mis\u001b[39;00m Vartype\u001b[38;5;241m.\u001b[39mSPIN:\n\u001b[1;32m     99\u001b[0m     samples \u001b[38;5;241m=\u001b[39m \u001b[38;5;241m2\u001b[39m\u001b[38;5;241m*\u001b[39msamples \u001b[38;5;241m-\u001b[39m \u001b[38;5;241m1\u001b[39m\n",
      "File \u001b[0;32m~/anaconda3/lib/python3.8/site-packages/dimod/reference/samplers/exact_solver.py:280\u001b[0m, in \u001b[0;36m_graycode\u001b[0;34m(bqm)\u001b[0m\n\u001b[1;32m    278\u001b[0m n \u001b[38;5;241m=\u001b[39m \u001b[38;5;28mlen\u001b[39m(bqm\u001b[38;5;241m.\u001b[39mvariables)\n\u001b[1;32m    279\u001b[0m ns \u001b[38;5;241m=\u001b[39m \u001b[38;5;241m1\u001b[39m \u001b[38;5;241m<<\u001b[39m n\n\u001b[0;32m--> 280\u001b[0m samples \u001b[38;5;241m=\u001b[39m \u001b[43mnp\u001b[49m\u001b[38;5;241;43m.\u001b[39;49m\u001b[43mempty\u001b[49m\u001b[43m(\u001b[49m\u001b[43m(\u001b[49m\u001b[43mns\u001b[49m\u001b[43m,\u001b[49m\u001b[43m \u001b[49m\u001b[43mn\u001b[49m\u001b[43m)\u001b[49m\u001b[43m,\u001b[49m\u001b[43m \u001b[49m\u001b[43mdtype\u001b[49m\u001b[38;5;241;43m=\u001b[39;49m\u001b[43mnp\u001b[49m\u001b[38;5;241;43m.\u001b[39;49m\u001b[43mint8\u001b[49m\u001b[43m)\u001b[49m\n\u001b[1;32m    282\u001b[0m samples[\u001b[38;5;241m0\u001b[39m, :] \u001b[38;5;241m=\u001b[39m \u001b[38;5;241m0\u001b[39m\n\u001b[1;32m    284\u001b[0m \u001b[38;5;28;01mfor\u001b[39;00m i \u001b[38;5;129;01min\u001b[39;00m \u001b[38;5;28mrange\u001b[39m(\u001b[38;5;241m1\u001b[39m, ns):\n",
      "\u001b[0;31mValueError\u001b[0m: Maximum allowed dimension exceeded"
     ]
    }
   ],
   "source": [
    "sampleset = sampler_exact.sample(model_bqm)\n",
    "\n",
    "samples = sampleset.samples()\n",
    "energies = sampleset.record['energy']\n",
    "\n",
    "errors = np.zeros(len(samples))\n",
    "for j in range(len(samples)):\n",
    "    errors[j] = quad_error(samples[j], quad_vars)\n",
    "\n",
    "\n",
    "median = np.median(errors)\n",
    "mean = np.mean(errors)\n"
   ]
  },
  {
   "cell_type": "code",
   "execution_count": 10,
   "id": "c5984e56",
   "metadata": {},
   "outputs": [
    {
     "data": {
      "text/plain": [
       "{'beta_range': [],\n",
       " 'num_reads': [],\n",
       " 'num_sweeps': [],\n",
       " 'beta_schedule_type': ['beta_schedule_options'],\n",
       " 'seed': [],\n",
       " 'interrupt_function': [],\n",
       " 'initial_states': [],\n",
       " 'initial_states_generator': []}"
      ]
     },
     "execution_count": 10,
     "metadata": {},
     "output_type": "execute_result"
    }
   ],
   "source": [
    "# Dimond doesn't work so look at SA again\n",
    "\n",
    "import neal\n",
    "\n",
    "sampler = neal.SimulatedAnnealingSampler()\n",
    "\n",
    "sampler.parameters"
   ]
  },
  {
   "cell_type": "code",
   "execution_count": 13,
   "id": "eebb87bd",
   "metadata": {},
   "outputs": [],
   "source": [
    "M = np.linspace(1, 20, 40)\n",
    "\n",
    "median = np.zeros(len(M))\n",
    "mean = np.zeros(len(M))\n",
    "\n",
    "energies = np.zeros(len(M), dtype='object')\n",
    "samples = np.zeros(len(M), dtype='object')\n",
    "\n",
    "for i in range(len(M)):\n",
    "    \n",
    "    maxnorm = Max_Norm_LP(u, M[i], muparams, muparams)\n",
    "    \n",
    "    model = maxnorm.compile(strength=5)\n",
    "\n",
    "    model_qubo = model.to_qubo()\n",
    "    \n",
    "    sampleset = sampler.sample_qubo(model_qubo[0], num_reads=1000)\n",
    "\n",
    "    samples[i] = sampleset.samples()\n",
    "    energies[i] = sampleset.record['energy']\n",
    "\n",
    "#     errors = np.zeros(len(samples))\n",
    "#     for j in range(len(samples)):\n",
    "#         errors[j] = quad_error(samples[j], quad_vars)\n",
    "    \n",
    "#     plt.plot(errors, color=scalarMap.to_rgba(M[i]))\n",
    "    \n",
    "#     median[i] = np.median(errors)\n",
    "#     mean[i] = np.mean(errors)"
   ]
  },
  {
   "cell_type": "code",
   "execution_count": 21,
   "id": "6745d6a0",
   "metadata": {},
   "outputs": [
    {
     "data": {
      "image/png": "[encoded data removed]",
      "text/plain": [
       "<Figure size 432x288 with 1 Axes>"
      ]
     },
     "metadata": {
      "needs_background": "light"
     },
     "output_type": "display_data"
    }
   ],
   "source": [
    "min_e = np.zeros(len(energies))\n",
    "\n",
    "for i in range(len(energies)):\n",
    "    min_e[i] = np.min(energies[i])\n",
    "plt.plot(M, min_e)\n",
    "plt.show()"
   ]
  },
  {
   "cell_type": "code",
   "execution_count": 26,
   "id": "ba507353",
   "metadata": {},
   "outputs": [
    {
     "data": {
      "image/png": "[encoded data removed]",
      "text/plain": [
       "<Figure size 432x288 with 1 Axes>"
      ]
     },
     "metadata": {
      "needs_background": "light"
     },
     "output_type": "display_data"
    }
   ],
   "source": [
    "import matplotlib.cm as mplcm\n",
    "import matplotlib.colors as colors\n",
    "\n",
    "cNorm = colors.Normalize(vmin=1, vmax=M[-1])\n",
    "cm = plt.get_cmap('hot_r')\n",
    "scalarMap = mplcm.ScalarMappable(norm=cNorm, cmap=cm)\n",
    "\n",
    "for energy in energies:\n",
    "    plt.hist(energy)\n",
    "plt.show()"
   ]
  },
  {
   "cell_type": "code",
   "execution_count": null,
   "id": "911790e0",
   "metadata": {},
   "outputs": [],
   "source": []
  }
 ],
 "metadata": {
  "kernelspec": {
   "display_name": "Python 3 (ipykernel)",
   "language": "python",
   "name": "python3"
  },
  "language_info": {
   "codemirror_mode": {
    "name": "ipython",
    "version": 3
   },
   "file_extension": ".py",
   "mimetype": "text/x-python",
   "name": "python",
   "nbconvert_exporter": "python",
   "pygments_lexer": "ipython3",
   "version": "3.8.13"
  }
 },
 "nbformat": 4,
 "nbformat_minor": 5
}
