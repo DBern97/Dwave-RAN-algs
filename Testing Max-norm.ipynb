{
 "cells": [
  {
   "cell_type": "code",
   "execution_count": null,
   "id": "43d7370a",
   "metadata": {},
   "outputs": [],
   "source": []
  },
  {
   "cell_type": "code",
   "execution_count": 287,
   "id": "6f345e95",
   "metadata": {},
   "outputs": [],
   "source": [
    "import os\n",
    "import numpy as np\n",
    "import pyqubo as pq\n",
    "import sympy as sp\n",
    "import pandas as pd\n",
    "import seaborn as sns\n",
    "\n",
    "from PyQubo_formulation import *\n",
    "from Utilities import *\n",
    "\n",
    "import neal\n",
    "import itertools\n",
    "\n",
    "import matplotlib.pyplot as plt\n",
    "import matplotlib.cm as mplcm\n",
    "import matplotlib.colors as colors"
   ]
  },
  {
   "cell_type": "code",
   "execution_count": 125,
   "id": "0f018e4d",
   "metadata": {},
   "outputs": [],
   "source": [
    "root = np.array([0,4], dtype='float')\n",
    "\n",
    "ulen = 6\n",
    "\n",
    "# eps1 = np.around(np.random.uniform(-0.5, 0.5, ulen), decimals=2)\n",
    "eps2 = np.around(np.random.uniform(-1, 1, ulen), decimals=2)\n",
    "\n",
    "domains = np.tile(root, (ulen,1))\n",
    "\n",
    "# domains[:,0] = domains[:,0]+eps1\n",
    "domains[:,1] = domains[:,1]+eps2\n"
   ]
  },
  {
   "cell_type": "code",
   "execution_count": 126,
   "id": "2040fdb1",
   "metadata": {},
   "outputs": [
    {
     "data": {
      "image/png": "[encoded data removed]",
      "text/plain": [
       "<Figure size 432x288 with 1 Axes>"
      ]
     },
     "metadata": {
      "needs_background": "light"
     },
     "output_type": "display_data"
    }
   ],
   "source": [
    "plt.plot(domains[:,0], '--')\n",
    "plt.plot(domains[:,1], '--')\n",
    "plt.show()"
   ]
  },
  {
   "cell_type": "code",
   "execution_count": 203,
   "id": "e9584165",
   "metadata": {},
   "outputs": [
    {
     "data": {
      "text/plain": [
       "4.71515625"
      ]
     },
     "execution_count": 203,
     "metadata": {},
     "output_type": "execute_result"
    }
   ],
   "source": [
    "p = [1,1,1,1,1,1]\n",
    "float_approx(p, domains[1])"
   ]
  },
  {
   "cell_type": "code",
   "execution_count": 127,
   "id": "6a0c8c63",
   "metadata": {},
   "outputs": [
    {
     "data": {
      "text/plain": [
       "(1.660000 * (((((Binary('q[0]') + (0.500000 * Binary('q[1]'))) + (0.250000 * Binary('q[2]'))) + (0.125000 * Binary('q[3]'))) + (0.062500 * Binary('q[4]'))) + (0.031250 * Binary('q[5]'))))"
      ]
     },
     "execution_count": 127,
     "metadata": {},
     "output_type": "execute_result"
    }
   ],
   "source": [
    "nq_u = 6\n",
    "u = Create_float_vec(ulen, nq_u, domains)\n",
    "u[0]"
   ]
  },
  {
   "cell_type": "code",
   "execution_count": 128,
   "id": "fd9b5467",
   "metadata": {},
   "outputs": [
    {
     "name": "stdout",
     "output_type": "stream",
     "text": [
      "['q[0]', 'q[1]', 'q[2]', 'q[3]', 'q[4]', 'q[5]', 'q[6]', 'q[7]', 'q[8]', 'q[9]', 'q[10]', 'q[11]', 'q[12]', 'q[13]', 'q[14]', 'q[15]', 'q[16]', 'q[17]', 'q[18]', 'q[19]', 'q[20]', 'q[21]', 'q[22]', 'q[23]', 'q[24]', 'q[25]', 'q[26]', 'q[27]', 'q[28]', 'q[29]', 'q[30]', 'q[31]', 'q[32]', 'q[33]', 'q[34]', 'q[35]']\n"
     ]
    }
   ],
   "source": [
    "empty = np.sum(u).compile()\n",
    "og_vars = empty.variables\n",
    "print(og_vars)"
   ]
  },
  {
   "cell_type": "code",
   "execution_count": 129,
   "id": "41b81b92",
   "metadata": {},
   "outputs": [],
   "source": [
    "nq_mu = 6\n",
    "\n",
    "muparams = np.array([nq_mu,[0,4]], dtype=object)"
   ]
  },
  {
   "cell_type": "code",
   "execution_count": 199,
   "id": "4369b659",
   "metadata": {},
   "outputs": [
    {
     "data": {
      "text/plain": [
       "4491.78234956867"
      ]
     },
     "execution_count": 199,
     "metadata": {},
     "output_type": "execute_result"
    }
   ],
   "source": [
    "maxnorm = Max_Norm_LP(u, 2, muparams, muparams)\n",
    "\n",
    "model = maxnorm.compile(strength=10)\n",
    "\n",
    "model_qubo = model.to_qubo(index_label=True)\n",
    "\n",
    "np.trace(Dict_to_Mat(model_qubo[0]))"
   ]
  },
  {
   "cell_type": "code",
   "execution_count": 200,
   "id": "0ac8b0e8",
   "metadata": {},
   "outputs": [
    {
     "data": {
      "image/png": "[encoded data removed]",
      "text/plain": [
       "<Figure size 432x288 with 1 Axes>"
      ]
     },
     "metadata": {
      "needs_background": "light"
     },
     "output_type": "display_data"
    }
   ],
   "source": [
    "sampler = neal.SimulatedAnnealingSampler()\n",
    "\n",
    "correct_max = np.max(domains)\n",
    "\n",
    "model_qubo = model.to_qubo()\n",
    "    \n",
    "sampleset = sampler.sample_qubo(model_qubo[0], num_reads=100)\n",
    "\n",
    "samples = sampleset.samples()\n",
    "\n",
    "data = sampleset.to_pandas_dataframe()\n",
    "\n",
    "\n",
    "cwd = os.getcwd()\n",
    "path = cwd + \"/Data/SA/\"\n",
    "\n",
    "data.to_hdf(path+'trialsave.h5', key='a', mode='w')\n",
    "\n",
    "sns.histplot(data['energy'], bins=20)\n",
    "plt.show()"
   ]
  },
  {
   "cell_type": "code",
   "execution_count": 201,
   "id": "0c16d45e",
   "metadata": {},
   "outputs": [
    {
     "name": "stdout",
     "output_type": "stream",
     "text": [
      "[24 31 94 98]\n"
     ]
    },
    {
     "data": {
      "text/plain": [
       "array([[1., 1., 0., 1., 0., 0., 0., 1., 1., 0., 1., 1., 1., 1., 1., 0.,\n",
       "        0., 0., 1., 1., 0., 1., 0., 0., 1., 1., 0., 1., 1., 1., 1., 1.,\n",
       "        1., 0., 1., 0.],\n",
       "       [1., 1., 1., 1., 1., 0., 1., 1., 0., 0., 0., 1., 1., 1., 1., 0.,\n",
       "        0., 0., 1., 1., 1., 0., 0., 0., 1., 1., 1., 0., 0., 0., 1., 1.,\n",
       "        0., 1., 1., 0.],\n",
       "       [0., 0., 1., 1., 0., 0., 0., 0., 0., 1., 0., 1., 0., 0., 1., 0.,\n",
       "        0., 0., 0., 1., 1., 0., 1., 1., 0., 0., 1., 1., 0., 0., 0., 0.,\n",
       "        1., 1., 1., 0.],\n",
       "       [0., 1., 1., 1., 1., 0., 0., 1., 1., 0., 0., 1., 0., 1., 0., 1.,\n",
       "        1., 1., 1., 0., 0., 0., 1., 1., 1., 1., 0., 1., 1., 0., 0., 1.,\n",
       "        0., 0., 1., 1.]])"
      ]
     },
     "execution_count": 201,
     "metadata": {},
     "output_type": "execute_result"
    }
   ],
   "source": [
    "low_samps = np.argwhere(sampleset.record['energy'] < np.min(sampleset.record['energy'])+1 ).flatten()\n",
    "\n",
    "print(low_samps)\n",
    "\n",
    "strings = np.zeros((len(low_samps),len(og_vars)))\n",
    "\n",
    "for i in range(len(low_samps)):\n",
    "    for j in range(len(og_vars)):\n",
    "        strings[i][j] = samples[int(low_samps[i])][og_vars[j]]\n",
    "strings\n"
   ]
  },
  {
   "cell_type": "code",
   "execution_count": 202,
   "id": "fda8b45b",
   "metadata": {},
   "outputs": [
    {
     "data": {
      "image/png": "[encoded data removed]",
      "text/plain": [
       "<Figure size 432x288 with 1 Axes>"
      ]
     },
     "metadata": {
      "needs_background": "light"
     },
     "output_type": "display_data"
    }
   ],
   "source": [
    "## subbing back into binary approximation to get the result\n",
    "\n",
    "res = np.zeros((nq_u, ulen))\n",
    "for n in range(len(strings)):\n",
    "    for i in range(ulen):\n",
    "        res[n][i] = float_approx(strings[n][i*nq_u : nq_u*(i+1),], domains[i])\n",
    "\n",
    "for r in res:\n",
    "    plt.plot(res)\n",
    "plt.plot(domains[:,0], '--')\n",
    "plt.plot(domains[:,1], '--')\n",
    "plt.show()"
   ]
  },
  {
   "cell_type": "code",
   "execution_count": 304,
   "id": "3e3dd31e",
   "metadata": {},
   "outputs": [],
   "source": [
    "sampler = neal.SimulatedAnnealingSampler()\n",
    "\n",
    "gamma = np.linspace(1,40,20)\n",
    "\n",
    "\n",
    "results = []\n",
    "for i in range(len(gamma)):\n",
    "    \n",
    "    maxnorm = Max_Norm_LP(u, gamma[i], muparams, muparams)\n",
    "\n",
    "    model = maxnorm.compile(strength=30)\n",
    "    \n",
    "#     model_vars = model.variables\n",
    "#     unique_vars = model_vars[:(nq_u*ulen+2*nq_mu)]\n",
    "\n",
    "    model_qubo = model.to_qubo()\n",
    "    \n",
    "    sampleset = sampler.sample_qubo(model_qubo[0], num_reads=1000)\n",
    "\n",
    "    samples = sampleset.samples()\n",
    "    energies = sampleset.record['energy']\n",
    "\n",
    "    data = sampleset.to_pandas_dataframe()\n",
    "\n",
    "    cwd = os.getcwd()\n",
    "    path = cwd + \"/Data/SA/\"\n",
    "\n",
    "    data.to_hdf(path+'trialgamma{}.h5'.format(gamma[i]), key='a', mode='w')\n",
    "\n",
    "    \n",
    "#     min_energy = np.min(energies)\n",
    "\n",
    "#     errors = np.zeros(len(samples))\n",
    "#     for j in range(len(samples)):\n",
    "#         if np.abs(min_energy - energies[j]) <= np.abs(min_energy)/100:\n",
    "#             results.append(samples[j])\n"
   ]
  },
  {
   "cell_type": "code",
   "execution_count": 305,
   "id": "5fde5c29",
   "metadata": {},
   "outputs": [
    {
     "data": {
      "text/html": [
       "<div>\n",
       "<style scoped>\n",
       "    .dataframe tbody tr th:only-of-type {\n",
       "        vertical-align: middle;\n",
       "    }\n",
       "\n",
       "    .dataframe tbody tr th {\n",
       "        vertical-align: top;\n",
       "    }\n",
       "\n",
       "    .dataframe thead th {\n",
       "        text-align: right;\n",
       "    }\n",
       "</style>\n",
       "<table border=\"1\" class=\"dataframe\">\n",
       "  <thead>\n",
       "    <tr style=\"text-align: right;\">\n",
       "      <th></th>\n",
       "      <th>kq[0]</th>\n",
       "      <th>kq[1]</th>\n",
       "      <th>kq[2]</th>\n",
       "      <th>kq[3]</th>\n",
       "      <th>kq[4]</th>\n",
       "      <th>kq[5]</th>\n",
       "      <th>muq[0]</th>\n",
       "      <th>muq[1]</th>\n",
       "      <th>muq[2]</th>\n",
       "      <th>muq[3]</th>\n",
       "      <th>...</th>\n",
       "      <th>q[7] * q[9]</th>\n",
       "      <th>q[8]</th>\n",
       "      <th>q[8] * q[10]</th>\n",
       "      <th>q[8] * q[11]</th>\n",
       "      <th>q[8] * q[9]</th>\n",
       "      <th>q[9]</th>\n",
       "      <th>q[9] * q[10]</th>\n",
       "      <th>q[9] * q[11]</th>\n",
       "      <th>energy</th>\n",
       "      <th>num_occurrences</th>\n",
       "    </tr>\n",
       "  </thead>\n",
       "  <tbody>\n",
       "    <tr>\n",
       "      <th>0</th>\n",
       "      <td>0</td>\n",
       "      <td>0</td>\n",
       "      <td>1</td>\n",
       "      <td>0</td>\n",
       "      <td>0</td>\n",
       "      <td>0</td>\n",
       "      <td>0</td>\n",
       "      <td>1</td>\n",
       "      <td>0</td>\n",
       "      <td>0</td>\n",
       "      <td>...</td>\n",
       "      <td>0</td>\n",
       "      <td>0</td>\n",
       "      <td>0</td>\n",
       "      <td>0</td>\n",
       "      <td>0</td>\n",
       "      <td>0</td>\n",
       "      <td>0</td>\n",
       "      <td>0</td>\n",
       "      <td>5.654684</td>\n",
       "      <td>1</td>\n",
       "    </tr>\n",
       "    <tr>\n",
       "      <th>1</th>\n",
       "      <td>0</td>\n",
       "      <td>0</td>\n",
       "      <td>1</td>\n",
       "      <td>1</td>\n",
       "      <td>0</td>\n",
       "      <td>1</td>\n",
       "      <td>1</td>\n",
       "      <td>1</td>\n",
       "      <td>0</td>\n",
       "      <td>1</td>\n",
       "      <td>...</td>\n",
       "      <td>0</td>\n",
       "      <td>0</td>\n",
       "      <td>0</td>\n",
       "      <td>0</td>\n",
       "      <td>0</td>\n",
       "      <td>0</td>\n",
       "      <td>0</td>\n",
       "      <td>0</td>\n",
       "      <td>19.168104</td>\n",
       "      <td>1</td>\n",
       "    </tr>\n",
       "    <tr>\n",
       "      <th>2</th>\n",
       "      <td>0</td>\n",
       "      <td>0</td>\n",
       "      <td>0</td>\n",
       "      <td>0</td>\n",
       "      <td>0</td>\n",
       "      <td>0</td>\n",
       "      <td>1</td>\n",
       "      <td>1</td>\n",
       "      <td>0</td>\n",
       "      <td>0</td>\n",
       "      <td>...</td>\n",
       "      <td>1</td>\n",
       "      <td>0</td>\n",
       "      <td>0</td>\n",
       "      <td>0</td>\n",
       "      <td>0</td>\n",
       "      <td>1</td>\n",
       "      <td>1</td>\n",
       "      <td>1</td>\n",
       "      <td>16.638422</td>\n",
       "      <td>1</td>\n",
       "    </tr>\n",
       "    <tr>\n",
       "      <th>3</th>\n",
       "      <td>0</td>\n",
       "      <td>1</td>\n",
       "      <td>0</td>\n",
       "      <td>1</td>\n",
       "      <td>1</td>\n",
       "      <td>0</td>\n",
       "      <td>1</td>\n",
       "      <td>0</td>\n",
       "      <td>1</td>\n",
       "      <td>0</td>\n",
       "      <td>...</td>\n",
       "      <td>0</td>\n",
       "      <td>0</td>\n",
       "      <td>0</td>\n",
       "      <td>0</td>\n",
       "      <td>0</td>\n",
       "      <td>1</td>\n",
       "      <td>1</td>\n",
       "      <td>1</td>\n",
       "      <td>10.006206</td>\n",
       "      <td>1</td>\n",
       "    </tr>\n",
       "    <tr>\n",
       "      <th>4</th>\n",
       "      <td>0</td>\n",
       "      <td>0</td>\n",
       "      <td>1</td>\n",
       "      <td>0</td>\n",
       "      <td>0</td>\n",
       "      <td>0</td>\n",
       "      <td>1</td>\n",
       "      <td>0</td>\n",
       "      <td>1</td>\n",
       "      <td>0</td>\n",
       "      <td>...</td>\n",
       "      <td>1</td>\n",
       "      <td>0</td>\n",
       "      <td>0</td>\n",
       "      <td>0</td>\n",
       "      <td>0</td>\n",
       "      <td>1</td>\n",
       "      <td>0</td>\n",
       "      <td>1</td>\n",
       "      <td>25.615648</td>\n",
       "      <td>1</td>\n",
       "    </tr>\n",
       "    <tr>\n",
       "      <th>...</th>\n",
       "      <td>...</td>\n",
       "      <td>...</td>\n",
       "      <td>...</td>\n",
       "      <td>...</td>\n",
       "      <td>...</td>\n",
       "      <td>...</td>\n",
       "      <td>...</td>\n",
       "      <td>...</td>\n",
       "      <td>...</td>\n",
       "      <td>...</td>\n",
       "      <td>...</td>\n",
       "      <td>...</td>\n",
       "      <td>...</td>\n",
       "      <td>...</td>\n",
       "      <td>...</td>\n",
       "      <td>...</td>\n",
       "      <td>...</td>\n",
       "      <td>...</td>\n",
       "      <td>...</td>\n",
       "      <td>...</td>\n",
       "      <td>...</td>\n",
       "    </tr>\n",
       "    <tr>\n",
       "      <th>995</th>\n",
       "      <td>0</td>\n",
       "      <td>0</td>\n",
       "      <td>0</td>\n",
       "      <td>0</td>\n",
       "      <td>0</td>\n",
       "      <td>0</td>\n",
       "      <td>0</td>\n",
       "      <td>0</td>\n",
       "      <td>1</td>\n",
       "      <td>1</td>\n",
       "      <td>...</td>\n",
       "      <td>0</td>\n",
       "      <td>1</td>\n",
       "      <td>1</td>\n",
       "      <td>1</td>\n",
       "      <td>1</td>\n",
       "      <td>1</td>\n",
       "      <td>1</td>\n",
       "      <td>1</td>\n",
       "      <td>4.010739</td>\n",
       "      <td>1</td>\n",
       "    </tr>\n",
       "    <tr>\n",
       "      <th>996</th>\n",
       "      <td>0</td>\n",
       "      <td>0</td>\n",
       "      <td>0</td>\n",
       "      <td>1</td>\n",
       "      <td>0</td>\n",
       "      <td>0</td>\n",
       "      <td>1</td>\n",
       "      <td>1</td>\n",
       "      <td>0</td>\n",
       "      <td>1</td>\n",
       "      <td>...</td>\n",
       "      <td>1</td>\n",
       "      <td>1</td>\n",
       "      <td>1</td>\n",
       "      <td>0</td>\n",
       "      <td>1</td>\n",
       "      <td>1</td>\n",
       "      <td>1</td>\n",
       "      <td>0</td>\n",
       "      <td>27.992217</td>\n",
       "      <td>1</td>\n",
       "    </tr>\n",
       "    <tr>\n",
       "      <th>997</th>\n",
       "      <td>0</td>\n",
       "      <td>0</td>\n",
       "      <td>0</td>\n",
       "      <td>0</td>\n",
       "      <td>0</td>\n",
       "      <td>0</td>\n",
       "      <td>0</td>\n",
       "      <td>1</td>\n",
       "      <td>1</td>\n",
       "      <td>1</td>\n",
       "      <td>...</td>\n",
       "      <td>0</td>\n",
       "      <td>0</td>\n",
       "      <td>0</td>\n",
       "      <td>0</td>\n",
       "      <td>0</td>\n",
       "      <td>0</td>\n",
       "      <td>0</td>\n",
       "      <td>0</td>\n",
       "      <td>4.240878</td>\n",
       "      <td>1</td>\n",
       "    </tr>\n",
       "    <tr>\n",
       "      <th>998</th>\n",
       "      <td>1</td>\n",
       "      <td>0</td>\n",
       "      <td>0</td>\n",
       "      <td>1</td>\n",
       "      <td>0</td>\n",
       "      <td>0</td>\n",
       "      <td>1</td>\n",
       "      <td>1</td>\n",
       "      <td>0</td>\n",
       "      <td>1</td>\n",
       "      <td>...</td>\n",
       "      <td>0</td>\n",
       "      <td>1</td>\n",
       "      <td>1</td>\n",
       "      <td>0</td>\n",
       "      <td>0</td>\n",
       "      <td>0</td>\n",
       "      <td>0</td>\n",
       "      <td>0</td>\n",
       "      <td>6.205487</td>\n",
       "      <td>1</td>\n",
       "    </tr>\n",
       "    <tr>\n",
       "      <th>999</th>\n",
       "      <td>0</td>\n",
       "      <td>0</td>\n",
       "      <td>0</td>\n",
       "      <td>0</td>\n",
       "      <td>0</td>\n",
       "      <td>0</td>\n",
       "      <td>0</td>\n",
       "      <td>0</td>\n",
       "      <td>0</td>\n",
       "      <td>0</td>\n",
       "      <td>...</td>\n",
       "      <td>0</td>\n",
       "      <td>0</td>\n",
       "      <td>0</td>\n",
       "      <td>0</td>\n",
       "      <td>0</td>\n",
       "      <td>1</td>\n",
       "      <td>1</td>\n",
       "      <td>1</td>\n",
       "      <td>0.342068</td>\n",
       "      <td>1</td>\n",
       "    </tr>\n",
       "  </tbody>\n",
       "</table>\n",
       "<p>1000 rows × 140 columns</p>\n",
       "</div>"
      ],
      "text/plain": [
       "     kq[0]  kq[1]  kq[2]  kq[3]  kq[4]  kq[5]  muq[0]  muq[1]  muq[2]  muq[3]  \\\n",
       "0        0      0      1      0      0      0       0       1       0       0   \n",
       "1        0      0      1      1      0      1       1       1       0       1   \n",
       "2        0      0      0      0      0      0       1       1       0       0   \n",
       "3        0      1      0      1      1      0       1       0       1       0   \n",
       "4        0      0      1      0      0      0       1       0       1       0   \n",
       "..     ...    ...    ...    ...    ...    ...     ...     ...     ...     ...   \n",
       "995      0      0      0      0      0      0       0       0       1       1   \n",
       "996      0      0      0      1      0      0       1       1       0       1   \n",
       "997      0      0      0      0      0      0       0       1       1       1   \n",
       "998      1      0      0      1      0      0       1       1       0       1   \n",
       "999      0      0      0      0      0      0       0       0       0       0   \n",
       "\n",
       "     ...  q[7] * q[9]  q[8]  q[8] * q[10]  q[8] * q[11]  q[8] * q[9]  q[9]  \\\n",
       "0    ...            0     0             0             0            0     0   \n",
       "1    ...            0     0             0             0            0     0   \n",
       "2    ...            1     0             0             0            0     1   \n",
       "3    ...            0     0             0             0            0     1   \n",
       "4    ...            1     0             0             0            0     1   \n",
       "..   ...          ...   ...           ...           ...          ...   ...   \n",
       "995  ...            0     1             1             1            1     1   \n",
       "996  ...            1     1             1             0            1     1   \n",
       "997  ...            0     0             0             0            0     0   \n",
       "998  ...            0     1             1             0            0     0   \n",
       "999  ...            0     0             0             0            0     1   \n",
       "\n",
       "     q[9] * q[10]  q[9] * q[11]     energy  num_occurrences  \n",
       "0               0             0   5.654684                1  \n",
       "1               0             0  19.168104                1  \n",
       "2               1             1  16.638422                1  \n",
       "3               1             1  10.006206                1  \n",
       "4               0             1  25.615648                1  \n",
       "..            ...           ...        ...              ...  \n",
       "995             1             1   4.010739                1  \n",
       "996             1             0  27.992217                1  \n",
       "997             0             0   4.240878                1  \n",
       "998             0             0   6.205487                1  \n",
       "999             1             1   0.342068                1  \n",
       "\n",
       "[1000 rows x 140 columns]"
      ]
     },
     "execution_count": 305,
     "metadata": {},
     "output_type": "execute_result"
    }
   ],
   "source": [
    "pd.read_hdf(path+'trialgamma1.h5')"
   ]
  },
  {
   "cell_type": "code",
   "execution_count": 308,
   "id": "c128d519",
   "metadata": {},
   "outputs": [
    {
     "data": {
      "image/png": "[encoded data removed]",
      "text/plain": [
       "<Figure size 432x288 with 1 Axes>"
      ]
     },
     "metadata": {
      "needs_background": "light"
     },
     "output_type": "display_data"
    }
   ],
   "source": [
    "for i in range(4):\n",
    "    frame = pd.read_hdf(path+'trialgamma{}.h5'.format(gamma[5*i]))\n",
    "    sns.histplot(frame['energy'], label='gamma={}'.format(gamma[5*i]))\n",
    "plt.legend()\n",
    "plt.show()"
   ]
  },
  {
   "cell_type": "code",
   "execution_count": 309,
   "id": "bc12c635",
   "metadata": {},
   "outputs": [
    {
     "data": {
      "text/plain": [
       "0.0"
      ]
     },
     "execution_count": 309,
     "metadata": {},
     "output_type": "execute_result"
    }
   ],
   "source": [
    "all_vars = frame.iloc[20].keys()[:140-2]\n",
    "frame.iloc[min_e]['q[0] * q[1]']"
   ]
  },
  {
   "cell_type": "code",
   "execution_count": 310,
   "id": "182c98bc",
   "metadata": {},
   "outputs": [
    {
     "name": "stdout",
     "output_type": "stream",
     "text": [
      "0.0\n"
     ]
    }
   ],
   "source": [
    "res = []\n",
    "sample = []\n",
    "for s in range(len(gamma)):\n",
    "    frame = pd.read_hdf(path+'trialgamma{}.h5'.format(gamma[s]))\n",
    "\n",
    "    min_e = np.argmin(frame['energy'])\n",
    "    \n",
    "    sample.append(frame.iloc[min_e])\n",
    "    \n",
    "#     min_e_all.append(frame.iloc[min_e][all_vars])#dont need actually\n",
    "    \n",
    "    min_e_samps = list(frame[og_vars].iloc[min_e])\n",
    "    \n",
    "    res.append(min_e_samps)\n",
    "print(sample[0]['q[0]'])"
   ]
  },
  {
   "cell_type": "code",
   "execution_count": 321,
   "id": "9ac386a6",
   "metadata": {},
   "outputs": [
    {
     "data": {
      "text/plain": [
       "array([[0.051875  , 0.        , 0.        , 0.        , 0.        ,\n",
       "        0.        ],\n",
       "       [0.2075    , 0.4490625 , 0.2203125 , 0.210625  , 0.205     ,\n",
       "        0.25875   ],\n",
       "       [2.905     , 1.9459375 , 4.1125    , 2.89609375, 3.02375   ,\n",
       "        3.2990625 ],\n",
       "       [2.956875  , 4.19125   , 4.1125    , 3.00140625, 2.9725    ,\n",
       "        3.751875  ],\n",
       "       [2.905     , 4.19125   , 4.1125    , 3.00140625, 2.9725    ,\n",
       "        3.6871875 ],\n",
       "       [3.1125    , 4.19125   , 4.1125    , 3.10671875, 3.075     ,\n",
       "        3.6871875 ],\n",
       "       [3.1125    , 4.19125   , 4.1125    , 3.159375  , 3.075     ,\n",
       "        3.6871875 ],\n",
       "       [3.1125    , 4.19125   , 4.1125    , 3.159375  , 3.075     ,\n",
       "        3.6871875 ],\n",
       "       [3.1125    , 4.19125   , 4.1125    , 3.159375  , 3.075     ,\n",
       "        3.6871875 ],\n",
       "       [3.1125    , 4.19125   , 4.1125    , 3.31734375, 3.075     ,\n",
       "        3.6871875 ],\n",
       "       [3.268125  , 4.19125   , 4.1125    , 3.31734375, 3.075     ,\n",
       "        3.6871875 ],\n",
       "       [3.268125  , 4.19125   , 4.1125    , 3.31734375, 3.22875   ,\n",
       "        3.6871875 ],\n",
       "       [3.268125  , 4.19125   , 4.1125    , 3.31734375, 3.22875   ,\n",
       "        3.6225    ],\n",
       "       [3.268125  , 4.19125   , 4.1125    , 3.31734375, 3.22875   ,\n",
       "        3.6871875 ],\n",
       "       [3.268125  , 4.19125   , 4.1125    , 3.31734375, 3.22875   ,\n",
       "        3.6871875 ],\n",
       "       [3.268125  , 4.19125   , 4.1125    , 3.31734375, 3.22875   ,\n",
       "        3.6225    ],\n",
       "       [3.268125  , 4.19125   , 4.1125    , 3.31734375, 3.22875   ,\n",
       "        3.6871875 ],\n",
       "       [3.268125  , 4.19125   , 4.1125    , 3.31734375, 3.22875   ,\n",
       "        3.6871875 ],\n",
       "       [3.268125  , 4.19125   , 4.1125    , 3.31734375, 3.22875   ,\n",
       "        3.6871875 ],\n",
       "       [3.268125  , 4.19125   , 4.1125    , 3.31734375, 3.22875   ,\n",
       "        3.9459375 ]])"
      ]
     },
     "execution_count": 321,
     "metadata": {},
     "output_type": "execute_result"
    }
   ],
   "source": [
    "# compute quad error and maxnorm error for each gamma so for each entry \n",
    "# of sample and res, respectively.\n",
    "\n",
    "ceiling = np.max(domains, axis=1)\n",
    "\n",
    "q_error, problematic = [], [] \n",
    "\n",
    "error = []\n",
    "\n",
    "result = np.zeros((len(gamma),ulen))\n",
    "\n",
    "for i in range(len(gamma)):\n",
    "    \n",
    "    q_er, prob, _ = quad_error(sample[i], og_vars)\n",
    "    q_error.append(q_er)\n",
    "    problematic.append(prob)\n",
    "    \n",
    "    \n",
    "    for j in range(ulen):\n",
    "        result[i][j] = float_approx(res[i][j*nq_u : nq_u*(j+1)], domains[j])\n",
    "    \n",
    "    error.append((np.abs(result[i] - ceiling)) / ceiling)\n",
    "\n",
    "result"
   ]
  },
  {
   "cell_type": "code",
   "execution_count": 292,
   "id": "369c7920",
   "metadata": {},
   "outputs": [
    {
     "data": {
      "text/plain": [
       "array([3.32, 4.79, 4.7 , 3.37, 3.28, 4.14])"
      ]
     },
     "execution_count": 292,
     "metadata": {},
     "output_type": "execute_result"
    }
   ],
   "source": [
    "np.max(domains, axis=1)"
   ]
  },
  {
   "cell_type": "code",
   "execution_count": 392,
   "id": "ab44838a",
   "metadata": {},
   "outputs": [
    {
     "data": {
      "image/png": "[encoded data removed]",
      "text/plain": [
       "<Figure size 432x288 with 1 Axes>"
      ]
     },
     "metadata": {
      "needs_background": "light"
     },
     "output_type": "display_data"
    },
    {
     "data": {
      "image/png": "[encoded data removed]",
      "text/plain": [
       "<Figure size 432x288 with 1 Axes>"
      ]
     },
     "metadata": {
      "needs_background": "light"
     },
     "output_type": "display_data"
    }
   ],
   "source": [
    "# plt.plot(gamma, error)\n",
    "cNorm = colors.Normalize(vmin=0, vmax=gamma[-1])\n",
    "cm = plt.get_cmap('binary')\n",
    "scalarMap = mplcm.ScalarMappable(norm=cNorm, cmap=cm)\n",
    "\n",
    "\n",
    "plt.plot(ceiling, c='r', lw=2, label='actual ceiling')\n",
    "for i in range(len(result)):\n",
    "\n",
    "    plt.plot(result[i], color=scalarMap.to_rgba(gamma[i]))\n",
    "# plt.plot(error[-1])\n",
    "plt.ylabel('Maximum approx.')\n",
    "plt.xlabel(r'$u_i$')\n",
    "plt.plot(1, np.max(domains), marker=\"o\", markersize=15, markeredgecolor=\"magenta\",\n",
    "markerfacecolor=\"None\", markeredgewidth=2)\n",
    "\n",
    "\n",
    "plt.legend()\n",
    "plt.tight_layout()\n",
    "plt.savefig('simple_maxnorm_test.png', dpi=300)\n",
    "plt.show()\n",
    "\n",
    "for i in range(len(result[:-1])):\n",
    "    plt.plot(gamma[i], np.mean(error[i]), marker=\"^\", markersize=10, markeredgecolor=\"green\",\n",
    "        markerfacecolor=\"None\", markeredgewidth=2)\n",
    "\n",
    "plt.plot(gamma[-1], np.mean(error[-1]), marker=\"^\", markersize=10, markeredgecolor=\"green\",\n",
    "        markerfacecolor=\"None\", markeredgewidth=2, label='Mean error')\n",
    "plt.plot(gamma, q_error, c='m', lw=2, label='quad. error')\n",
    "plt.legend()\n",
    "plt.xlabel('gamma')\n",
    "plt.ylabel('error')\n",
    "plt.tight_layout()\n",
    "plt.savefig('simple_maxnorm_test__errors.png', dpi=300)\n",
    "plt.show()"
   ]
  },
  {
   "cell_type": "code",
   "execution_count": 30,
   "id": "0607a61d",
   "metadata": {},
   "outputs": [],
   "source": [
    "import dimod\n",
    "\n",
    "sampler_exact = dimod.ExactSolver()\n",
    "sampler_exact.parameters\n",
    "\n",
    "model_bqm = dimod.BQM.from_qubo(model_qubo[0])"
   ]
  },
  {
   "cell_type": "code",
   "execution_count": 31,
   "id": "6573eae1",
   "metadata": {},
   "outputs": [
    {
     "ename": "ValueError",
     "evalue": "Maximum allowed dimension exceeded",
     "output_type": "error",
     "traceback": [
      "\u001b[0;31m---------------------------------------------------------------------------\u001b[0m",
      "\u001b[0;31mValueError\u001b[0m                                Traceback (most recent call last)",
      "Input \u001b[0;32mIn [31]\u001b[0m, in \u001b[0;36m<cell line: 1>\u001b[0;34m()\u001b[0m\n\u001b[0;32m----> 1\u001b[0m sampleset \u001b[38;5;241m=\u001b[39m \u001b[43msampler_exact\u001b[49m\u001b[38;5;241;43m.\u001b[39;49m\u001b[43msample\u001b[49m\u001b[43m(\u001b[49m\u001b[43mmodel_bqm\u001b[49m\u001b[43m)\u001b[49m\n\u001b[1;32m      3\u001b[0m samples \u001b[38;5;241m=\u001b[39m sampleset\u001b[38;5;241m.\u001b[39msamples()\n\u001b[1;32m      4\u001b[0m energies \u001b[38;5;241m=\u001b[39m sampleset\u001b[38;5;241m.\u001b[39mrecord[\u001b[38;5;124m'\u001b[39m\u001b[38;5;124menergy\u001b[39m\u001b[38;5;124m'\u001b[39m]\n",
      "File \u001b[0;32m~/anaconda3/lib/python3.8/site-packages/dimod/reference/samplers/exact_solver.py:96\u001b[0m, in \u001b[0;36mExactSolver.sample\u001b[0;34m(self, bqm, **kwargs)\u001b[0m\n\u001b[1;32m     93\u001b[0m \u001b[38;5;28;01mif\u001b[39;00m \u001b[38;5;129;01mnot\u001b[39;00m \u001b[38;5;28mlen\u001b[39m(bqm\u001b[38;5;241m.\u001b[39mvariables):\n\u001b[1;32m     94\u001b[0m     \u001b[38;5;28;01mreturn\u001b[39;00m SampleSet\u001b[38;5;241m.\u001b[39mfrom_samples([], bqm\u001b[38;5;241m.\u001b[39mvartype, energy\u001b[38;5;241m=\u001b[39m[])\n\u001b[0;32m---> 96\u001b[0m samples \u001b[38;5;241m=\u001b[39m \u001b[43m_graycode\u001b[49m\u001b[43m(\u001b[49m\u001b[43mbqm\u001b[49m\u001b[43m)\u001b[49m\n\u001b[1;32m     98\u001b[0m \u001b[38;5;28;01mif\u001b[39;00m bqm\u001b[38;5;241m.\u001b[39mvartype \u001b[38;5;129;01mis\u001b[39;00m Vartype\u001b[38;5;241m.\u001b[39mSPIN:\n\u001b[1;32m     99\u001b[0m     samples \u001b[38;5;241m=\u001b[39m \u001b[38;5;241m2\u001b[39m\u001b[38;5;241m*\u001b[39msamples \u001b[38;5;241m-\u001b[39m \u001b[38;5;241m1\u001b[39m\n",
      "File \u001b[0;32m~/anaconda3/lib/python3.8/site-packages/dimod/reference/samplers/exact_solver.py:280\u001b[0m, in \u001b[0;36m_graycode\u001b[0;34m(bqm)\u001b[0m\n\u001b[1;32m    278\u001b[0m n \u001b[38;5;241m=\u001b[39m \u001b[38;5;28mlen\u001b[39m(bqm\u001b[38;5;241m.\u001b[39mvariables)\n\u001b[1;32m    279\u001b[0m ns \u001b[38;5;241m=\u001b[39m \u001b[38;5;241m1\u001b[39m \u001b[38;5;241m<<\u001b[39m n\n\u001b[0;32m--> 280\u001b[0m samples \u001b[38;5;241m=\u001b[39m \u001b[43mnp\u001b[49m\u001b[38;5;241;43m.\u001b[39;49m\u001b[43mempty\u001b[49m\u001b[43m(\u001b[49m\u001b[43m(\u001b[49m\u001b[43mns\u001b[49m\u001b[43m,\u001b[49m\u001b[43m \u001b[49m\u001b[43mn\u001b[49m\u001b[43m)\u001b[49m\u001b[43m,\u001b[49m\u001b[43m \u001b[49m\u001b[43mdtype\u001b[49m\u001b[38;5;241;43m=\u001b[39;49m\u001b[43mnp\u001b[49m\u001b[38;5;241;43m.\u001b[39;49m\u001b[43mint8\u001b[49m\u001b[43m)\u001b[49m\n\u001b[1;32m    282\u001b[0m samples[\u001b[38;5;241m0\u001b[39m, :] \u001b[38;5;241m=\u001b[39m \u001b[38;5;241m0\u001b[39m\n\u001b[1;32m    284\u001b[0m \u001b[38;5;28;01mfor\u001b[39;00m i \u001b[38;5;129;01min\u001b[39;00m \u001b[38;5;28mrange\u001b[39m(\u001b[38;5;241m1\u001b[39m, ns):\n",
      "\u001b[0;31mValueError\u001b[0m: Maximum allowed dimension exceeded"
     ]
    }
   ],
   "source": [
    "sampleset = sampler_exact.sample(model_bqm)\n",
    "\n",
    "samples = sampleset.samples()\n",
    "energies = sampleset.record['energy']\n",
    "\n",
    "errors = np.zeros(len(samples))\n",
    "for j in range(len(samples)):\n",
    "    errors[j] = quad_error(samples[j], quad_vars)\n",
    "\n",
    "\n",
    "median = np.median(errors)\n",
    "mean = np.mean(errors)\n"
   ]
  },
  {
   "cell_type": "code",
   "execution_count": 10,
   "id": "c5984e56",
   "metadata": {},
   "outputs": [
    {
     "data": {
      "text/plain": [
       "{'beta_range': [],\n",
       " 'num_reads': [],\n",
       " 'num_sweeps': [],\n",
       " 'beta_schedule_type': ['beta_schedule_options'],\n",
       " 'seed': [],\n",
       " 'interrupt_function': [],\n",
       " 'initial_states': [],\n",
       " 'initial_states_generator': []}"
      ]
     },
     "execution_count": 10,
     "metadata": {},
     "output_type": "execute_result"
    }
   ],
   "source": [
    "# Dimond doesn't work so look at SA again\n",
    "\n",
    "import neal\n",
    "\n",
    "sampler = neal.SimulatedAnnealingSampler()\n",
    "\n",
    "sampler.parameters"
   ]
  },
  {
   "cell_type": "code",
   "execution_count": 13,
   "id": "eebb87bd",
   "metadata": {},
   "outputs": [],
   "source": [
    "M = np.linspace(1, 20, 40)\n",
    "\n",
    "median = np.zeros(len(M))\n",
    "mean = np.zeros(len(M))\n",
    "\n",
    "energies = np.zeros(len(M), dtype='object')\n",
    "samples = np.zeros(len(M), dtype='object')\n",
    "\n",
    "for i in range(len(M)):\n",
    "    \n",
    "    maxnorm = Max_Norm_LP(u, M[i], muparams, muparams)\n",
    "    \n",
    "    model = maxnorm.compile(strength=5)\n",
    "\n",
    "    model_qubo = model.to_qubo()\n",
    "    \n",
    "    sampleset = sampler.sample_qubo(model_qubo[0], num_reads=1000)\n",
    "\n",
    "    samples[i] = sampleset.samples()\n",
    "    energies[i] = sampleset.record['energy']\n",
    "\n",
    "#     errors = np.zeros(len(samples))\n",
    "#     for j in range(len(samples)):\n",
    "#         errors[j] = quad_error(samples[j], quad_vars)\n",
    "    \n",
    "#     plt.plot(errors, color=scalarMap.to_rgba(M[i]))\n",
    "    \n",
    "#     median[i] = np.median(errors)\n",
    "#     mean[i] = np.mean(errors)"
   ]
  },
  {
   "cell_type": "code",
   "execution_count": 21,
   "id": "0fd19b2b",
   "metadata": {},
   "outputs": [
    {
     "data": {
      "image/png": "[encoded data removed]",
      "text/plain": [
       "<Figure size 432x288 with 1 Axes>"
      ]
     },
     "metadata": {
      "needs_background": "light"
     },
     "output_type": "display_data"
    }
   ],
   "source": [
    "min_e = np.zeros(len(energies))\n",
    "\n",
    "for i in range(len(energies)):\n",
    "    min_e[i] = np.min(energies[i])\n",
    "plt.plot(M, min_e)\n",
    "plt.show()"
   ]
  },
  {
   "cell_type": "code",
   "execution_count": 38,
   "id": "94725b4a",
   "metadata": {},
   "outputs": [
    {
     "data": {
      "image/png": "[encoded data removed]",
      "text/plain": [
       "<Figure size 432x288 with 1 Axes>"
      ]
     },
     "metadata": {
      "needs_background": "light"
     },
     "output_type": "display_data"
    }
   ],
   "source": [
    "import matplotlib.cm as mplcm\n",
    "import matplotlib.colors as colors\n",
    "\n",
    "cNorm = colors.Normalize(vmin=1, vmax=M[-1])\n",
    "cm = plt.get_cmap('hot_r')\n",
    "scalarMap = mplcm.ScalarMappable(norm=cNorm, cmap=cm)\n",
    "\n",
    "plt.hist(energies[1], label='first')\n",
    "plt.hist(energies[10])\n",
    "plt.hist(energies[39], label='last')\n",
    "plt.legend()\n",
    "plt.show()"
   ]
  },
  {
   "cell_type": "code",
   "execution_count": null,
   "id": "2fa1a731",
   "metadata": {},
   "outputs": [],
   "source": []
  }
 ],
 "metadata": {
  "kernelspec": {
   "display_name": "Python 3 (ipykernel)",
   "language": "python",
   "name": "python3"
  },
  "language_info": {
   "codemirror_mode": {
    "name": "ipython",
    "version": 3
   },
   "file_extension": ".py",
   "mimetype": "text/x-python",
   "name": "python",
   "nbconvert_exporter": "python",
   "pygments_lexer": "ipython3",
   "version": "3.8.13"
  }
 },
 "nbformat": 4,
 "nbformat_minor": 5
}
