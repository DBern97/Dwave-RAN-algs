{
 "cells": [
  {
   "cell_type": "code",
   "execution_count": 6,
   "id": "c2a9854f",
   "metadata": {},
   "outputs": [],
   "source": [
    "from PyQubo_formulation import *\n",
    "\n",
    "import matplotlib.pyplot as plt"
   ]
  },
  {
   "cell_type": "code",
   "execution_count": 33,
   "id": "b9726ca9",
   "metadata": {},
   "outputs": [
    {
     "data": {
      "text/plain": [
       "array([(0.500000 * (((Binary('x[0]') + (0.500000 * Binary('x[1]'))) + (0.250000 * Binary('x[2]'))) + (0.125000 * Binary('x[3]')))),\n",
       "       (0.500000 * (((Binary('x[4]') + (0.500000 * Binary('x[5]'))) + (0.250000 * Binary('x[6]'))) + (0.125000 * Binary('x[7]')))),\n",
       "       (0.500000 * (((Binary('x[8]') + (0.500000 * Binary('x[9]'))) + (0.250000 * Binary('x[10]'))) + (0.125000 * Binary('x[11]')))),\n",
       "       (0.500000 * (((Binary('x[12]') + (0.500000 * Binary('x[13]'))) + (0.250000 * Binary('x[14]'))) + (0.125000 * Binary('x[15]'))))],\n",
       "      dtype=object)"
      ]
     },
     "execution_count": 33,
     "metadata": {},
     "output_type": "execute_result"
    }
   ],
   "source": [
    "x, xvars = Create_Float_Vec(4, 4, [0,1], 'x')\n",
    "x\n"
   ]
  },
  {
   "cell_type": "code",
   "execution_count": 34,
   "id": "e642ec88",
   "metadata": {},
   "outputs": [
    {
     "data": {
      "text/plain": [
       "array([(0.500000 * (((Binary('k[0]') + (0.500000 * Binary('k[1]'))) + (0.250000 * Binary('k[2]'))) + (0.125000 * Binary('k[3]')))),\n",
       "       (0.500000 * (((Binary('k[4]') + (0.500000 * Binary('k[5]'))) + (0.250000 * Binary('k[6]'))) + (0.125000 * Binary('k[7]')))),\n",
       "       (0.500000 * (((Binary('k[8]') + (0.500000 * Binary('k[9]'))) + (0.250000 * Binary('k[10]'))) + (0.125000 * Binary('k[11]')))),\n",
       "       (0.500000 * (((Binary('k[12]') + (0.500000 * Binary('k[13]'))) + (0.250000 * Binary('k[14]'))) + (0.125000 * Binary('k[15]'))))],\n",
       "      dtype=object)"
      ]
     },
     "execution_count": 34,
     "metadata": {},
     "output_type": "execute_result"
    }
   ],
   "source": [
    "k, kvars = Create_Float_Vec(4, 4, [0,1], 'k')\n",
    "k"
   ]
  },
  {
   "cell_type": "code",
   "execution_count": 37,
   "id": "d57cb12a",
   "metadata": {},
   "outputs": [],
   "source": [
    "mu, muvars = Create_Float_Vec(1, 4, [0,2], 'mu')\n",
    "mu=mu[0]"
   ]
  },
  {
   "cell_type": "code",
   "execution_count": 38,
   "id": "515e813f",
   "metadata": {},
   "outputs": [],
   "source": [
    "from Radio import *\n"
   ]
  },
  {
   "cell_type": "code",
   "execution_count": 41,
   "id": "8302af8b",
   "metadata": {},
   "outputs": [
    {
     "data": {
      "text/plain": [
       "array([[1.+2.j, 1.+0.j],\n",
       "       [0.+1.j, 1.+1.j]])"
      ]
     },
     "execution_count": 41,
     "metadata": {},
     "output_type": "execute_result"
    }
   ],
   "source": [
    "H = np.around(Channel_Rayleigh(2,2), decimals=0)\n",
    "H"
   ]
  },
  {
   "cell_type": "code",
   "execution_count": 43,
   "id": "f87433f6",
   "metadata": {},
   "outputs": [
    {
     "data": {
      "text/plain": [
       "array([-3.+3.j,  1.+1.j])"
      ]
     },
     "execution_count": 43,
     "metadata": {},
     "output_type": "execute_result"
    }
   ],
   "source": [
    "s = Create_S(2, 16)\n",
    "s"
   ]
  },
  {
   "cell_type": "code",
   "execution_count": null,
   "id": "d81cbe1b",
   "metadata": {},
   "outputs": [],
   "source": []
  },
  {
   "cell_type": "code",
   "execution_count": 5,
   "id": "70523d3c",
   "metadata": {},
   "outputs": [
    {
     "data": {
      "text/plain": [
       "(6.0, 0.005625)"
      ]
     },
     "execution_count": 5,
     "metadata": {},
     "output_type": "execute_result"
    }
   ],
   "source": [
    "Num_Bin_For_Accuracy(0.01, 1)\n"
   ]
  },
  {
   "cell_type": "code",
   "execution_count": null,
   "id": "361c545f",
   "metadata": {},
   "outputs": [],
   "source": []
  },
  {
   "cell_type": "code",
   "execution_count": 27,
   "id": "0855ca59",
   "metadata": {},
   "outputs": [
    {
     "name": "stderr",
     "output_type": "stream",
     "text": [
      "/Users/davidbern/Desktop/Desktop/Master/Master Thesis/programming/PyQubo_formulation.py:24: RuntimeWarning: divide by zero encountered in log2\n",
      "  num_bin = -np.ceil(np.log2(decimal_accuracy / interval_size))\n"
     ]
    },
    {
     "data": {
      "text/plain": [
       "<matplotlib.collections.PolyCollection at 0x7fb535dce670>"
      ]
     },
     "execution_count": 27,
     "metadata": {},
     "output_type": "execute_result"
    },
    {
     "data": {
      "image/png": "[encoded data removed]",
      "text/plain": [
       "<Figure size 432x288 with 1 Axes>"
      ]
     },
     "metadata": {
      "needs_background": "light"
     },
     "output_type": "display_data"
    }
   ],
   "source": [
    "acc = np.linspace(0., 1, 100)\n",
    "\n",
    "fig, ax = plt.subplots(1)\n",
    "ax.plot(acc,Num_Bin_For_Accuracy(acc, 1)[0])\n",
    "ax.fill_between(acc, Num_Bin_For_Accuracy(acc,1)[0] - Num_Bin_For_Accuracy(acc,1)[1], Num_Bin_For_Accuracy(acc,1)[0] + Num_Bin_For_Accuracy(acc,1)[1], alpha=0.35)\n",
    "# ax.set_yscale('log')\n",
    "# ax.set_xscale('log')"
   ]
  },
  {
   "cell_type": "code",
   "execution_count": null,
   "id": "aa9cda07",
   "metadata": {},
   "outputs": [],
   "source": []
  }
 ],
 "metadata": {
  "kernelspec": {
   "display_name": "Python 3 (ipykernel)",
   "language": "python",
   "name": "python3"
  },
  "language_info": {
   "codemirror_mode": {
    "name": "ipython",
    "version": 3
   },
   "file_extension": ".py",
   "mimetype": "text/x-python",
   "name": "python",
   "nbconvert_exporter": "python",
   "pygments_lexer": "ipython3",
   "version": "3.8.13"
  }
 },
 "nbformat": 4,
 "nbformat_minor": 5
}
